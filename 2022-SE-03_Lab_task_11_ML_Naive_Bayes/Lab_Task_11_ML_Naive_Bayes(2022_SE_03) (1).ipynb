{
  "cells": [
    {
      "cell_type": "markdown",
      "metadata": {
        "id": "9ti4BX2LZFoC"
      },
      "source": [
        "## **Advertising Click Prediction Using Naive Bayes and Ensemble Learning**"
      ]
    },
    {
      "cell_type": "code",
      "execution_count": 176,
      "metadata": {
        "id": "M4b3ouECZt5P"
      },
      "outputs": [],
      "source": [
        "#import Necessary libraries\n",
        "import pandas as pd\n",
        "import numpy as np\n",
        "import matplotlib.pyplot as plt\n",
        "import seaborn as sns\n",
        "sns.set(style=\"whitegrid\")\n",
        "from sklearn.model_selection import train_test_split\n",
        "from sklearn.preprocessing import StandardScaler, OneHotEncoder,OrdinalEncoder,MinMaxScaler,LabelEncoder\n",
        "from sklearn.impute import SimpleImputer\n",
        "from sklearn.naive_bayes import GaussianNB, MultinomialNB, BernoulliNB\n",
        "from sklearn.metrics import classification_report, confusion_matrix, accuracy_score\n",
        "from sklearn.ensemble import VotingClassifier\n",
        "import warnings\n",
        "warnings.simplefilter(action='ignore', category=Warning)"
      ]
    },
    {
      "cell_type": "code",
      "execution_count": 177,
      "metadata": {
        "colab": {
          "base_uri": "https://localhost:8080/",
          "height": 415
        },
        "id": "_9DC0v9SZYys",
        "outputId": "5653d525-5e0e-446d-8ea1-86e3ad08850a"
      },
      "outputs": [
        {
          "output_type": "execute_result",
          "data": {
            "text/plain": [
              "   Daily Time Spent on Site   Age  Area Income  Daily Internet Usage  \\\n",
              "0                     68.95  35.0     61833.90                256.09   \n",
              "1                       NaN  31.0     68441.85                193.77   \n",
              "2                     69.47  26.0     59785.94                236.50   \n",
              "3                     74.15  29.0     54806.18                245.89   \n",
              "4                     68.37  35.0     73889.99                225.58   \n",
              "5                     59.99  23.0     59761.56                226.74   \n",
              "6                     88.91  33.0     53852.85                208.36   \n",
              "7                       NaN  48.0     24593.33                131.76   \n",
              "8                     74.53  30.0          NaN                221.51   \n",
              "9                     69.88  20.0     55642.32                183.82   \n",
              "\n",
              "               City  Gender     Country  Clicked on Ad  \n",
              "0       Wrightburgh  Female     Tunisia              0  \n",
              "1         West Jodi    Male       Nauru              0  \n",
              "2          Davidton  Female  San Marino              0  \n",
              "3    West Terrifurt    Male       Italy              0  \n",
              "4      South Manuel  Female     Iceland              0  \n",
              "5               NaN    Male      Norway              0  \n",
              "6       Brandonstad  Female     Myanmar              0  \n",
              "7  Port Jefferybury    Male   Australia              1  \n",
              "8        West Colin    Male     Grenada              0  \n",
              "9        Ramirezton    Male       Ghana              0  "
            ],
            "text/html": [
              "\n",
              "  <div id=\"df-6f30802f-39b1-4c66-a9b3-5c6bd2367e53\" class=\"colab-df-container\">\n",
              "    <div>\n",
              "<style scoped>\n",
              "    .dataframe tbody tr th:only-of-type {\n",
              "        vertical-align: middle;\n",
              "    }\n",
              "\n",
              "    .dataframe tbody tr th {\n",
              "        vertical-align: top;\n",
              "    }\n",
              "\n",
              "    .dataframe thead th {\n",
              "        text-align: right;\n",
              "    }\n",
              "</style>\n",
              "<table border=\"1\" class=\"dataframe\">\n",
              "  <thead>\n",
              "    <tr style=\"text-align: right;\">\n",
              "      <th></th>\n",
              "      <th>Daily Time Spent on Site</th>\n",
              "      <th>Age</th>\n",
              "      <th>Area Income</th>\n",
              "      <th>Daily Internet Usage</th>\n",
              "      <th>City</th>\n",
              "      <th>Gender</th>\n",
              "      <th>Country</th>\n",
              "      <th>Clicked on Ad</th>\n",
              "    </tr>\n",
              "  </thead>\n",
              "  <tbody>\n",
              "    <tr>\n",
              "      <th>0</th>\n",
              "      <td>68.95</td>\n",
              "      <td>35.0</td>\n",
              "      <td>61833.90</td>\n",
              "      <td>256.09</td>\n",
              "      <td>Wrightburgh</td>\n",
              "      <td>Female</td>\n",
              "      <td>Tunisia</td>\n",
              "      <td>0</td>\n",
              "    </tr>\n",
              "    <tr>\n",
              "      <th>1</th>\n",
              "      <td>NaN</td>\n",
              "      <td>31.0</td>\n",
              "      <td>68441.85</td>\n",
              "      <td>193.77</td>\n",
              "      <td>West Jodi</td>\n",
              "      <td>Male</td>\n",
              "      <td>Nauru</td>\n",
              "      <td>0</td>\n",
              "    </tr>\n",
              "    <tr>\n",
              "      <th>2</th>\n",
              "      <td>69.47</td>\n",
              "      <td>26.0</td>\n",
              "      <td>59785.94</td>\n",
              "      <td>236.50</td>\n",
              "      <td>Davidton</td>\n",
              "      <td>Female</td>\n",
              "      <td>San Marino</td>\n",
              "      <td>0</td>\n",
              "    </tr>\n",
              "    <tr>\n",
              "      <th>3</th>\n",
              "      <td>74.15</td>\n",
              "      <td>29.0</td>\n",
              "      <td>54806.18</td>\n",
              "      <td>245.89</td>\n",
              "      <td>West Terrifurt</td>\n",
              "      <td>Male</td>\n",
              "      <td>Italy</td>\n",
              "      <td>0</td>\n",
              "    </tr>\n",
              "    <tr>\n",
              "      <th>4</th>\n",
              "      <td>68.37</td>\n",
              "      <td>35.0</td>\n",
              "      <td>73889.99</td>\n",
              "      <td>225.58</td>\n",
              "      <td>South Manuel</td>\n",
              "      <td>Female</td>\n",
              "      <td>Iceland</td>\n",
              "      <td>0</td>\n",
              "    </tr>\n",
              "    <tr>\n",
              "      <th>5</th>\n",
              "      <td>59.99</td>\n",
              "      <td>23.0</td>\n",
              "      <td>59761.56</td>\n",
              "      <td>226.74</td>\n",
              "      <td>NaN</td>\n",
              "      <td>Male</td>\n",
              "      <td>Norway</td>\n",
              "      <td>0</td>\n",
              "    </tr>\n",
              "    <tr>\n",
              "      <th>6</th>\n",
              "      <td>88.91</td>\n",
              "      <td>33.0</td>\n",
              "      <td>53852.85</td>\n",
              "      <td>208.36</td>\n",
              "      <td>Brandonstad</td>\n",
              "      <td>Female</td>\n",
              "      <td>Myanmar</td>\n",
              "      <td>0</td>\n",
              "    </tr>\n",
              "    <tr>\n",
              "      <th>7</th>\n",
              "      <td>NaN</td>\n",
              "      <td>48.0</td>\n",
              "      <td>24593.33</td>\n",
              "      <td>131.76</td>\n",
              "      <td>Port Jefferybury</td>\n",
              "      <td>Male</td>\n",
              "      <td>Australia</td>\n",
              "      <td>1</td>\n",
              "    </tr>\n",
              "    <tr>\n",
              "      <th>8</th>\n",
              "      <td>74.53</td>\n",
              "      <td>30.0</td>\n",
              "      <td>NaN</td>\n",
              "      <td>221.51</td>\n",
              "      <td>West Colin</td>\n",
              "      <td>Male</td>\n",
              "      <td>Grenada</td>\n",
              "      <td>0</td>\n",
              "    </tr>\n",
              "    <tr>\n",
              "      <th>9</th>\n",
              "      <td>69.88</td>\n",
              "      <td>20.0</td>\n",
              "      <td>55642.32</td>\n",
              "      <td>183.82</td>\n",
              "      <td>Ramirezton</td>\n",
              "      <td>Male</td>\n",
              "      <td>Ghana</td>\n",
              "      <td>0</td>\n",
              "    </tr>\n",
              "  </tbody>\n",
              "</table>\n",
              "</div>\n",
              "    <div class=\"colab-df-buttons\">\n",
              "\n",
              "  <div class=\"colab-df-container\">\n",
              "    <button class=\"colab-df-convert\" onclick=\"convertToInteractive('df-6f30802f-39b1-4c66-a9b3-5c6bd2367e53')\"\n",
              "            title=\"Convert this dataframe to an interactive table.\"\n",
              "            style=\"display:none;\">\n",
              "\n",
              "  <svg xmlns=\"http://www.w3.org/2000/svg\" height=\"24px\" viewBox=\"0 -960 960 960\">\n",
              "    <path d=\"M120-120v-720h720v720H120Zm60-500h600v-160H180v160Zm220 220h160v-160H400v160Zm0 220h160v-160H400v160ZM180-400h160v-160H180v160Zm440 0h160v-160H620v160ZM180-180h160v-160H180v160Zm440 0h160v-160H620v160Z\"/>\n",
              "  </svg>\n",
              "    </button>\n",
              "\n",
              "  <style>\n",
              "    .colab-df-container {\n",
              "      display:flex;\n",
              "      gap: 12px;\n",
              "    }\n",
              "\n",
              "    .colab-df-convert {\n",
              "      background-color: #E8F0FE;\n",
              "      border: none;\n",
              "      border-radius: 50%;\n",
              "      cursor: pointer;\n",
              "      display: none;\n",
              "      fill: #1967D2;\n",
              "      height: 32px;\n",
              "      padding: 0 0 0 0;\n",
              "      width: 32px;\n",
              "    }\n",
              "\n",
              "    .colab-df-convert:hover {\n",
              "      background-color: #E2EBFA;\n",
              "      box-shadow: 0px 1px 2px rgba(60, 64, 67, 0.3), 0px 1px 3px 1px rgba(60, 64, 67, 0.15);\n",
              "      fill: #174EA6;\n",
              "    }\n",
              "\n",
              "    .colab-df-buttons div {\n",
              "      margin-bottom: 4px;\n",
              "    }\n",
              "\n",
              "    [theme=dark] .colab-df-convert {\n",
              "      background-color: #3B4455;\n",
              "      fill: #D2E3FC;\n",
              "    }\n",
              "\n",
              "    [theme=dark] .colab-df-convert:hover {\n",
              "      background-color: #434B5C;\n",
              "      box-shadow: 0px 1px 3px 1px rgba(0, 0, 0, 0.15);\n",
              "      filter: drop-shadow(0px 1px 2px rgba(0, 0, 0, 0.3));\n",
              "      fill: #FFFFFF;\n",
              "    }\n",
              "  </style>\n",
              "\n",
              "    <script>\n",
              "      const buttonEl =\n",
              "        document.querySelector('#df-6f30802f-39b1-4c66-a9b3-5c6bd2367e53 button.colab-df-convert');\n",
              "      buttonEl.style.display =\n",
              "        google.colab.kernel.accessAllowed ? 'block' : 'none';\n",
              "\n",
              "      async function convertToInteractive(key) {\n",
              "        const element = document.querySelector('#df-6f30802f-39b1-4c66-a9b3-5c6bd2367e53');\n",
              "        const dataTable =\n",
              "          await google.colab.kernel.invokeFunction('convertToInteractive',\n",
              "                                                    [key], {});\n",
              "        if (!dataTable) return;\n",
              "\n",
              "        const docLinkHtml = 'Like what you see? Visit the ' +\n",
              "          '<a target=\"_blank\" href=https://colab.research.google.com/notebooks/data_table.ipynb>data table notebook</a>'\n",
              "          + ' to learn more about interactive tables.';\n",
              "        element.innerHTML = '';\n",
              "        dataTable['output_type'] = 'display_data';\n",
              "        await google.colab.output.renderOutput(dataTable, element);\n",
              "        const docLink = document.createElement('div');\n",
              "        docLink.innerHTML = docLinkHtml;\n",
              "        element.appendChild(docLink);\n",
              "      }\n",
              "    </script>\n",
              "  </div>\n",
              "\n",
              "\n",
              "<div id=\"df-8cc59981-8b30-4712-a7f5-95095d02864d\">\n",
              "  <button class=\"colab-df-quickchart\" onclick=\"quickchart('df-8cc59981-8b30-4712-a7f5-95095d02864d')\"\n",
              "            title=\"Suggest charts\"\n",
              "            style=\"display:none;\">\n",
              "\n",
              "<svg xmlns=\"http://www.w3.org/2000/svg\" height=\"24px\"viewBox=\"0 0 24 24\"\n",
              "     width=\"24px\">\n",
              "    <g>\n",
              "        <path d=\"M19 3H5c-1.1 0-2 .9-2 2v14c0 1.1.9 2 2 2h14c1.1 0 2-.9 2-2V5c0-1.1-.9-2-2-2zM9 17H7v-7h2v7zm4 0h-2V7h2v10zm4 0h-2v-4h2v4z\"/>\n",
              "    </g>\n",
              "</svg>\n",
              "  </button>\n",
              "\n",
              "<style>\n",
              "  .colab-df-quickchart {\n",
              "      --bg-color: #E8F0FE;\n",
              "      --fill-color: #1967D2;\n",
              "      --hover-bg-color: #E2EBFA;\n",
              "      --hover-fill-color: #174EA6;\n",
              "      --disabled-fill-color: #AAA;\n",
              "      --disabled-bg-color: #DDD;\n",
              "  }\n",
              "\n",
              "  [theme=dark] .colab-df-quickchart {\n",
              "      --bg-color: #3B4455;\n",
              "      --fill-color: #D2E3FC;\n",
              "      --hover-bg-color: #434B5C;\n",
              "      --hover-fill-color: #FFFFFF;\n",
              "      --disabled-bg-color: #3B4455;\n",
              "      --disabled-fill-color: #666;\n",
              "  }\n",
              "\n",
              "  .colab-df-quickchart {\n",
              "    background-color: var(--bg-color);\n",
              "    border: none;\n",
              "    border-radius: 50%;\n",
              "    cursor: pointer;\n",
              "    display: none;\n",
              "    fill: var(--fill-color);\n",
              "    height: 32px;\n",
              "    padding: 0;\n",
              "    width: 32px;\n",
              "  }\n",
              "\n",
              "  .colab-df-quickchart:hover {\n",
              "    background-color: var(--hover-bg-color);\n",
              "    box-shadow: 0 1px 2px rgba(60, 64, 67, 0.3), 0 1px 3px 1px rgba(60, 64, 67, 0.15);\n",
              "    fill: var(--button-hover-fill-color);\n",
              "  }\n",
              "\n",
              "  .colab-df-quickchart-complete:disabled,\n",
              "  .colab-df-quickchart-complete:disabled:hover {\n",
              "    background-color: var(--disabled-bg-color);\n",
              "    fill: var(--disabled-fill-color);\n",
              "    box-shadow: none;\n",
              "  }\n",
              "\n",
              "  .colab-df-spinner {\n",
              "    border: 2px solid var(--fill-color);\n",
              "    border-color: transparent;\n",
              "    border-bottom-color: var(--fill-color);\n",
              "    animation:\n",
              "      spin 1s steps(1) infinite;\n",
              "  }\n",
              "\n",
              "  @keyframes spin {\n",
              "    0% {\n",
              "      border-color: transparent;\n",
              "      border-bottom-color: var(--fill-color);\n",
              "      border-left-color: var(--fill-color);\n",
              "    }\n",
              "    20% {\n",
              "      border-color: transparent;\n",
              "      border-left-color: var(--fill-color);\n",
              "      border-top-color: var(--fill-color);\n",
              "    }\n",
              "    30% {\n",
              "      border-color: transparent;\n",
              "      border-left-color: var(--fill-color);\n",
              "      border-top-color: var(--fill-color);\n",
              "      border-right-color: var(--fill-color);\n",
              "    }\n",
              "    40% {\n",
              "      border-color: transparent;\n",
              "      border-right-color: var(--fill-color);\n",
              "      border-top-color: var(--fill-color);\n",
              "    }\n",
              "    60% {\n",
              "      border-color: transparent;\n",
              "      border-right-color: var(--fill-color);\n",
              "    }\n",
              "    80% {\n",
              "      border-color: transparent;\n",
              "      border-right-color: var(--fill-color);\n",
              "      border-bottom-color: var(--fill-color);\n",
              "    }\n",
              "    90% {\n",
              "      border-color: transparent;\n",
              "      border-bottom-color: var(--fill-color);\n",
              "    }\n",
              "  }\n",
              "</style>\n",
              "\n",
              "  <script>\n",
              "    async function quickchart(key) {\n",
              "      const quickchartButtonEl =\n",
              "        document.querySelector('#' + key + ' button');\n",
              "      quickchartButtonEl.disabled = true;  // To prevent multiple clicks.\n",
              "      quickchartButtonEl.classList.add('colab-df-spinner');\n",
              "      try {\n",
              "        const charts = await google.colab.kernel.invokeFunction(\n",
              "            'suggestCharts', [key], {});\n",
              "      } catch (error) {\n",
              "        console.error('Error during call to suggestCharts:', error);\n",
              "      }\n",
              "      quickchartButtonEl.classList.remove('colab-df-spinner');\n",
              "      quickchartButtonEl.classList.add('colab-df-quickchart-complete');\n",
              "    }\n",
              "    (() => {\n",
              "      let quickchartButtonEl =\n",
              "        document.querySelector('#df-8cc59981-8b30-4712-a7f5-95095d02864d button');\n",
              "      quickchartButtonEl.style.display =\n",
              "        google.colab.kernel.accessAllowed ? 'block' : 'none';\n",
              "    })();\n",
              "  </script>\n",
              "</div>\n",
              "\n",
              "    </div>\n",
              "  </div>\n"
            ],
            "application/vnd.google.colaboratory.intrinsic+json": {
              "type": "dataframe",
              "variable_name": "df",
              "summary": "{\n  \"name\": \"df\",\n  \"rows\": 1009,\n  \"fields\": [\n    {\n      \"column\": \"Daily Time Spent on Site\",\n      \"properties\": {\n        \"dtype\": \"number\",\n        \"std\": 15.879997231158601,\n        \"min\": 32.6,\n        \"max\": 91.43,\n        \"num_unique_values\": 898,\n        \"samples\": [\n          65.77,\n          73.88,\n          65.9\n        ],\n        \"semantic_type\": \"\",\n        \"description\": \"\"\n      }\n    },\n    {\n      \"column\": \"Age\",\n      \"properties\": {\n        \"dtype\": \"number\",\n        \"std\": 8.772142252357707,\n        \"min\": 19.0,\n        \"max\": 61.0,\n        \"num_unique_values\": 43,\n        \"samples\": [\n          58.0,\n          25.0,\n          43.0\n        ],\n        \"semantic_type\": \"\",\n        \"description\": \"\"\n      }\n    },\n    {\n      \"column\": \"Area Income\",\n      \"properties\": {\n        \"dtype\": \"number\",\n        \"std\": 13381.286752042986,\n        \"min\": 13996.5,\n        \"max\": 79484.8,\n        \"num_unique_values\": 991,\n        \"samples\": [\n          59621.02,\n          63060.55,\n          62161.26\n        ],\n        \"semantic_type\": \"\",\n        \"description\": \"\"\n      }\n    },\n    {\n      \"column\": \"Daily Internet Usage\",\n      \"properties\": {\n        \"dtype\": \"number\",\n        \"std\": 43.92343848561986,\n        \"min\": 104.78,\n        \"max\": 269.96,\n        \"num_unique_values\": 964,\n        \"samples\": [\n          230.78,\n          174.88,\n          203.3\n        ],\n        \"semantic_type\": \"\",\n        \"description\": \"\"\n      }\n    },\n    {\n      \"column\": \"City\",\n      \"properties\": {\n        \"dtype\": \"string\",\n        \"num_unique_values\": 961,\n        \"samples\": [\n          \"Luischester\",\n          \"Lopezberg\",\n          \"West Tanya\"\n        ],\n        \"semantic_type\": \"\",\n        \"description\": \"\"\n      }\n    },\n    {\n      \"column\": \"Gender\",\n      \"properties\": {\n        \"dtype\": \"category\",\n        \"num_unique_values\": 2,\n        \"samples\": [\n          \"Male\",\n          \"Female\"\n        ],\n        \"semantic_type\": \"\",\n        \"description\": \"\"\n      }\n    },\n    {\n      \"column\": \"Country\",\n      \"properties\": {\n        \"dtype\": \"category\",\n        \"num_unique_values\": 237,\n        \"samples\": [\n          \"Mongolia\",\n          \"Spain\"\n        ],\n        \"semantic_type\": \"\",\n        \"description\": \"\"\n      }\n    },\n    {\n      \"column\": \"Clicked on Ad\",\n      \"properties\": {\n        \"dtype\": \"number\",\n        \"std\": 0,\n        \"min\": 0,\n        \"max\": 1,\n        \"num_unique_values\": 2,\n        \"samples\": [\n          1,\n          0\n        ],\n        \"semantic_type\": \"\",\n        \"description\": \"\"\n      }\n    }\n  ]\n}"
            }
          },
          "metadata": {},
          "execution_count": 177
        }
      ],
      "source": [
        "#load dataset\n",
        "df = pd.read_csv('/content/advertising_ef.csv')\n",
        "df.head(10)"
      ]
    },
    {
      "cell_type": "markdown",
      "metadata": {
        "id": "tTSPOyIGOVCT"
      },
      "source": [
        "# Data Preprocessing"
      ]
    },
    {
      "cell_type": "markdown",
      "metadata": {
        "id": "1mjHjeOVnogS"
      },
      "source": [
        "## **1. Data inspection and cleaning**\n",
        "\n",
        "##### **1.1. Identifying and handling Missing Values **"
      ]
    },
    {
      "cell_type": "code",
      "execution_count": 178,
      "metadata": {
        "colab": {
          "base_uri": "https://localhost:8080/"
        },
        "id": "mbWn3v2ZnG_u",
        "outputId": "fd596cab-2c1e-44b8-f99b-7c82f88de559"
      },
      "outputs": [
        {
          "output_type": "stream",
          "name": "stdout",
          "text": [
            "<class 'pandas.core.frame.DataFrame'>\n",
            "RangeIndex: 1009 entries, 0 to 1008\n",
            "Data columns (total 8 columns):\n",
            " #   Column                    Non-Null Count  Dtype  \n",
            "---  ------                    --------------  -----  \n",
            " 0   Daily Time Spent on Site  1005 non-null   float64\n",
            " 1   Age                       998 non-null    float64\n",
            " 2   Area Income               998 non-null    float64\n",
            " 3   Daily Internet Usage      1005 non-null   float64\n",
            " 4   City                      998 non-null    object \n",
            " 5   Gender                    1009 non-null   object \n",
            " 6   Country                   996 non-null    object \n",
            " 7   Clicked on Ad             1009 non-null   int64  \n",
            "dtypes: float64(4), int64(1), object(3)\n",
            "memory usage: 63.2+ KB\n"
          ]
        }
      ],
      "source": [
        "df.info()"
      ]
    },
    {
      "cell_type": "code",
      "execution_count": 179,
      "metadata": {
        "colab": {
          "base_uri": "https://localhost:8080/"
        },
        "id": "gOgFt_cin0gY",
        "outputId": "97be057e-45b8-455f-ae8f-c94fafcc73bd"
      },
      "outputs": [
        {
          "output_type": "stream",
          "name": "stdout",
          "text": [
            "Missing values:\n",
            " Daily Time Spent on Site     4\n",
            "Age                         11\n",
            "Area Income                 11\n",
            "Daily Internet Usage         4\n",
            "City                        11\n",
            "Gender                       0\n",
            "Country                     13\n",
            "Clicked on Ad                0\n",
            "dtype: int64\n"
          ]
        }
      ],
      "source": [
        "print(\"Missing values:\\n\", df.isnull().sum())"
      ]
    },
    {
      "cell_type": "code",
      "source": [
        "df.columns"
      ],
      "metadata": {
        "colab": {
          "base_uri": "https://localhost:8080/"
        },
        "id": "iPzdXbmBTZFK",
        "outputId": "684518fe-1208-4c60-febf-ec6c2fb167f4"
      },
      "execution_count": 180,
      "outputs": [
        {
          "output_type": "execute_result",
          "data": {
            "text/plain": [
              "Index(['Daily Time Spent on Site', 'Age', 'Area Income',\n",
              "       'Daily Internet Usage', 'City', 'Gender', 'Country', 'Clicked on Ad'],\n",
              "      dtype='object')"
            ]
          },
          "metadata": {},
          "execution_count": 180
        }
      ]
    },
    {
      "cell_type": "code",
      "source": [
        "# Identify columns\n",
        "num_cols = ['Daily Time Spent on Site', 'Age', 'Area Income',\n",
        "       'Daily Internet Usage','Clicked on Ad']\n",
        "cat_cols =['City', 'Gender', 'Country']"
      ],
      "metadata": {
        "id": "mjVE4gAoTR3M"
      },
      "execution_count": 181,
      "outputs": []
    },
    {
      "cell_type": "code",
      "source": [
        "#Handle numerical data\n",
        "# Impute missing values\n",
        "num_imputer = SimpleImputer(strategy='median', missing_values=np.nan)\n",
        "df[num_cols] = num_imputer.fit_transform(df[num_cols])"
      ],
      "metadata": {
        "id": "C0Pn1wH0p1gq"
      },
      "execution_count": 182,
      "outputs": []
    },
    {
      "cell_type": "code",
      "source": [
        "#Handle Categorical data\n",
        "# Impute missing values\n",
        "cat_imputer = SimpleImputer(strategy='most_frequent', missing_values=np.nan)\n",
        "df[cat_cols] = cat_imputer.fit_transform(df[cat_cols])"
      ],
      "metadata": {
        "id": "KPhJdwqZxbVk"
      },
      "execution_count": 183,
      "outputs": []
    },
    {
      "cell_type": "code",
      "source": [
        "df.isnull().sum()"
      ],
      "metadata": {
        "colab": {
          "base_uri": "https://localhost:8080/",
          "height": 335
        },
        "id": "p_Ryyh0bxcQA",
        "outputId": "4dbe7527-44bb-475a-dae0-73904cdc51b0"
      },
      "execution_count": 184,
      "outputs": [
        {
          "output_type": "execute_result",
          "data": {
            "text/plain": [
              "Daily Time Spent on Site    0\n",
              "Age                         0\n",
              "Area Income                 0\n",
              "Daily Internet Usage        0\n",
              "City                        0\n",
              "Gender                      0\n",
              "Country                     0\n",
              "Clicked on Ad               0\n",
              "dtype: int64"
            ],
            "text/html": [
              "<div>\n",
              "<style scoped>\n",
              "    .dataframe tbody tr th:only-of-type {\n",
              "        vertical-align: middle;\n",
              "    }\n",
              "\n",
              "    .dataframe tbody tr th {\n",
              "        vertical-align: top;\n",
              "    }\n",
              "\n",
              "    .dataframe thead th {\n",
              "        text-align: right;\n",
              "    }\n",
              "</style>\n",
              "<table border=\"1\" class=\"dataframe\">\n",
              "  <thead>\n",
              "    <tr style=\"text-align: right;\">\n",
              "      <th></th>\n",
              "      <th>0</th>\n",
              "    </tr>\n",
              "  </thead>\n",
              "  <tbody>\n",
              "    <tr>\n",
              "      <th>Daily Time Spent on Site</th>\n",
              "      <td>0</td>\n",
              "    </tr>\n",
              "    <tr>\n",
              "      <th>Age</th>\n",
              "      <td>0</td>\n",
              "    </tr>\n",
              "    <tr>\n",
              "      <th>Area Income</th>\n",
              "      <td>0</td>\n",
              "    </tr>\n",
              "    <tr>\n",
              "      <th>Daily Internet Usage</th>\n",
              "      <td>0</td>\n",
              "    </tr>\n",
              "    <tr>\n",
              "      <th>City</th>\n",
              "      <td>0</td>\n",
              "    </tr>\n",
              "    <tr>\n",
              "      <th>Gender</th>\n",
              "      <td>0</td>\n",
              "    </tr>\n",
              "    <tr>\n",
              "      <th>Country</th>\n",
              "      <td>0</td>\n",
              "    </tr>\n",
              "    <tr>\n",
              "      <th>Clicked on Ad</th>\n",
              "      <td>0</td>\n",
              "    </tr>\n",
              "  </tbody>\n",
              "</table>\n",
              "</div><br><label><b>dtype:</b> int64</label>"
            ]
          },
          "metadata": {},
          "execution_count": 184
        }
      ]
    },
    {
      "cell_type": "markdown",
      "metadata": {
        "id": "I9GCWh8O7haH"
      },
      "source": [
        "##### **1.2. Checking Data Types of Columns in the Dataset **"
      ]
    },
    {
      "cell_type": "code",
      "execution_count": 185,
      "metadata": {
        "colab": {
          "base_uri": "https://localhost:8080/"
        },
        "id": "PLYHnpJM7qkl",
        "outputId": "43fb22fd-6453-4311-cee4-05d81fa4e365"
      },
      "outputs": [
        {
          "output_type": "stream",
          "name": "stdout",
          "text": [
            "\n",
            "========================================\n",
            "Data Types of All Columns:\n",
            "========================================\n",
            "Daily Time Spent on Site    float64\n",
            "Age                         float64\n",
            "Area Income                 float64\n",
            "Daily Internet Usage        float64\n",
            "City                         object\n",
            "Gender                       object\n",
            "Country                      object\n",
            "Clicked on Ad               float64\n",
            "dtype: object\n"
          ]
        }
      ],
      "source": [
        "# Check data types for all columns\n",
        "print(\"\\n\" + \"=\"*40)\n",
        "print(\"Data Types of All Columns:\")\n",
        "print(\"=\"*40)\n",
        "print(df.dtypes)"
      ]
    },
    {
      "cell_type": "markdown",
      "metadata": {
        "id": "L4sdPS786-1B"
      },
      "source": [
        "##### **1.3. Identifying and handling Outliers **\n"
      ]
    },
    {
      "cell_type": "code",
      "execution_count": 186,
      "metadata": {
        "colab": {
          "base_uri": "https://localhost:8080/",
          "height": 300
        },
        "id": "b6kTQTqA6Xjb",
        "outputId": "f3b247a3-9583-4c91-8334-904dc6488718"
      },
      "outputs": [
        {
          "output_type": "execute_result",
          "data": {
            "text/plain": [
              "       Daily Time Spent on Site          Age   Area Income  \\\n",
              "count               1009.000000  1009.000000   1009.000000   \n",
              "mean                  65.022785    35.952428  54980.809876   \n",
              "std                   15.849866     8.724721  13309.760508   \n",
              "min                   32.600000    19.000000  13996.500000   \n",
              "25%                   51.380000    29.000000  47160.530000   \n",
              "50%                   68.370000    35.000000  56998.245000   \n",
              "75%                   78.540000    42.000000  65186.580000   \n",
              "max                   91.430000    61.000000  79484.800000   \n",
              "\n",
              "       Daily Internet Usage  Clicked on Ad  \n",
              "count           1009.000000    1009.000000  \n",
              "mean             180.055312       0.501487  \n",
              "std               43.836717       0.500246  \n",
              "min              104.780000       0.000000  \n",
              "25%              139.010000       0.000000  \n",
              "50%              183.420000       1.000000  \n",
              "75%              218.790000       1.000000  \n",
              "max              269.960000       1.000000  "
            ],
            "text/html": [
              "\n",
              "  <div id=\"df-ec3414a4-c1c0-4beb-a67a-cc42b3e07605\" class=\"colab-df-container\">\n",
              "    <div>\n",
              "<style scoped>\n",
              "    .dataframe tbody tr th:only-of-type {\n",
              "        vertical-align: middle;\n",
              "    }\n",
              "\n",
              "    .dataframe tbody tr th {\n",
              "        vertical-align: top;\n",
              "    }\n",
              "\n",
              "    .dataframe thead th {\n",
              "        text-align: right;\n",
              "    }\n",
              "</style>\n",
              "<table border=\"1\" class=\"dataframe\">\n",
              "  <thead>\n",
              "    <tr style=\"text-align: right;\">\n",
              "      <th></th>\n",
              "      <th>Daily Time Spent on Site</th>\n",
              "      <th>Age</th>\n",
              "      <th>Area Income</th>\n",
              "      <th>Daily Internet Usage</th>\n",
              "      <th>Clicked on Ad</th>\n",
              "    </tr>\n",
              "  </thead>\n",
              "  <tbody>\n",
              "    <tr>\n",
              "      <th>count</th>\n",
              "      <td>1009.000000</td>\n",
              "      <td>1009.000000</td>\n",
              "      <td>1009.000000</td>\n",
              "      <td>1009.000000</td>\n",
              "      <td>1009.000000</td>\n",
              "    </tr>\n",
              "    <tr>\n",
              "      <th>mean</th>\n",
              "      <td>65.022785</td>\n",
              "      <td>35.952428</td>\n",
              "      <td>54980.809876</td>\n",
              "      <td>180.055312</td>\n",
              "      <td>0.501487</td>\n",
              "    </tr>\n",
              "    <tr>\n",
              "      <th>std</th>\n",
              "      <td>15.849866</td>\n",
              "      <td>8.724721</td>\n",
              "      <td>13309.760508</td>\n",
              "      <td>43.836717</td>\n",
              "      <td>0.500246</td>\n",
              "    </tr>\n",
              "    <tr>\n",
              "      <th>min</th>\n",
              "      <td>32.600000</td>\n",
              "      <td>19.000000</td>\n",
              "      <td>13996.500000</td>\n",
              "      <td>104.780000</td>\n",
              "      <td>0.000000</td>\n",
              "    </tr>\n",
              "    <tr>\n",
              "      <th>25%</th>\n",
              "      <td>51.380000</td>\n",
              "      <td>29.000000</td>\n",
              "      <td>47160.530000</td>\n",
              "      <td>139.010000</td>\n",
              "      <td>0.000000</td>\n",
              "    </tr>\n",
              "    <tr>\n",
              "      <th>50%</th>\n",
              "      <td>68.370000</td>\n",
              "      <td>35.000000</td>\n",
              "      <td>56998.245000</td>\n",
              "      <td>183.420000</td>\n",
              "      <td>1.000000</td>\n",
              "    </tr>\n",
              "    <tr>\n",
              "      <th>75%</th>\n",
              "      <td>78.540000</td>\n",
              "      <td>42.000000</td>\n",
              "      <td>65186.580000</td>\n",
              "      <td>218.790000</td>\n",
              "      <td>1.000000</td>\n",
              "    </tr>\n",
              "    <tr>\n",
              "      <th>max</th>\n",
              "      <td>91.430000</td>\n",
              "      <td>61.000000</td>\n",
              "      <td>79484.800000</td>\n",
              "      <td>269.960000</td>\n",
              "      <td>1.000000</td>\n",
              "    </tr>\n",
              "  </tbody>\n",
              "</table>\n",
              "</div>\n",
              "    <div class=\"colab-df-buttons\">\n",
              "\n",
              "  <div class=\"colab-df-container\">\n",
              "    <button class=\"colab-df-convert\" onclick=\"convertToInteractive('df-ec3414a4-c1c0-4beb-a67a-cc42b3e07605')\"\n",
              "            title=\"Convert this dataframe to an interactive table.\"\n",
              "            style=\"display:none;\">\n",
              "\n",
              "  <svg xmlns=\"http://www.w3.org/2000/svg\" height=\"24px\" viewBox=\"0 -960 960 960\">\n",
              "    <path d=\"M120-120v-720h720v720H120Zm60-500h600v-160H180v160Zm220 220h160v-160H400v160Zm0 220h160v-160H400v160ZM180-400h160v-160H180v160Zm440 0h160v-160H620v160ZM180-180h160v-160H180v160Zm440 0h160v-160H620v160Z\"/>\n",
              "  </svg>\n",
              "    </button>\n",
              "\n",
              "  <style>\n",
              "    .colab-df-container {\n",
              "      display:flex;\n",
              "      gap: 12px;\n",
              "    }\n",
              "\n",
              "    .colab-df-convert {\n",
              "      background-color: #E8F0FE;\n",
              "      border: none;\n",
              "      border-radius: 50%;\n",
              "      cursor: pointer;\n",
              "      display: none;\n",
              "      fill: #1967D2;\n",
              "      height: 32px;\n",
              "      padding: 0 0 0 0;\n",
              "      width: 32px;\n",
              "    }\n",
              "\n",
              "    .colab-df-convert:hover {\n",
              "      background-color: #E2EBFA;\n",
              "      box-shadow: 0px 1px 2px rgba(60, 64, 67, 0.3), 0px 1px 3px 1px rgba(60, 64, 67, 0.15);\n",
              "      fill: #174EA6;\n",
              "    }\n",
              "\n",
              "    .colab-df-buttons div {\n",
              "      margin-bottom: 4px;\n",
              "    }\n",
              "\n",
              "    [theme=dark] .colab-df-convert {\n",
              "      background-color: #3B4455;\n",
              "      fill: #D2E3FC;\n",
              "    }\n",
              "\n",
              "    [theme=dark] .colab-df-convert:hover {\n",
              "      background-color: #434B5C;\n",
              "      box-shadow: 0px 1px 3px 1px rgba(0, 0, 0, 0.15);\n",
              "      filter: drop-shadow(0px 1px 2px rgba(0, 0, 0, 0.3));\n",
              "      fill: #FFFFFF;\n",
              "    }\n",
              "  </style>\n",
              "\n",
              "    <script>\n",
              "      const buttonEl =\n",
              "        document.querySelector('#df-ec3414a4-c1c0-4beb-a67a-cc42b3e07605 button.colab-df-convert');\n",
              "      buttonEl.style.display =\n",
              "        google.colab.kernel.accessAllowed ? 'block' : 'none';\n",
              "\n",
              "      async function convertToInteractive(key) {\n",
              "        const element = document.querySelector('#df-ec3414a4-c1c0-4beb-a67a-cc42b3e07605');\n",
              "        const dataTable =\n",
              "          await google.colab.kernel.invokeFunction('convertToInteractive',\n",
              "                                                    [key], {});\n",
              "        if (!dataTable) return;\n",
              "\n",
              "        const docLinkHtml = 'Like what you see? Visit the ' +\n",
              "          '<a target=\"_blank\" href=https://colab.research.google.com/notebooks/data_table.ipynb>data table notebook</a>'\n",
              "          + ' to learn more about interactive tables.';\n",
              "        element.innerHTML = '';\n",
              "        dataTable['output_type'] = 'display_data';\n",
              "        await google.colab.output.renderOutput(dataTable, element);\n",
              "        const docLink = document.createElement('div');\n",
              "        docLink.innerHTML = docLinkHtml;\n",
              "        element.appendChild(docLink);\n",
              "      }\n",
              "    </script>\n",
              "  </div>\n",
              "\n",
              "\n",
              "<div id=\"df-ee95747b-f5ac-4f62-96f5-09096d52bc71\">\n",
              "  <button class=\"colab-df-quickchart\" onclick=\"quickchart('df-ee95747b-f5ac-4f62-96f5-09096d52bc71')\"\n",
              "            title=\"Suggest charts\"\n",
              "            style=\"display:none;\">\n",
              "\n",
              "<svg xmlns=\"http://www.w3.org/2000/svg\" height=\"24px\"viewBox=\"0 0 24 24\"\n",
              "     width=\"24px\">\n",
              "    <g>\n",
              "        <path d=\"M19 3H5c-1.1 0-2 .9-2 2v14c0 1.1.9 2 2 2h14c1.1 0 2-.9 2-2V5c0-1.1-.9-2-2-2zM9 17H7v-7h2v7zm4 0h-2V7h2v10zm4 0h-2v-4h2v4z\"/>\n",
              "    </g>\n",
              "</svg>\n",
              "  </button>\n",
              "\n",
              "<style>\n",
              "  .colab-df-quickchart {\n",
              "      --bg-color: #E8F0FE;\n",
              "      --fill-color: #1967D2;\n",
              "      --hover-bg-color: #E2EBFA;\n",
              "      --hover-fill-color: #174EA6;\n",
              "      --disabled-fill-color: #AAA;\n",
              "      --disabled-bg-color: #DDD;\n",
              "  }\n",
              "\n",
              "  [theme=dark] .colab-df-quickchart {\n",
              "      --bg-color: #3B4455;\n",
              "      --fill-color: #D2E3FC;\n",
              "      --hover-bg-color: #434B5C;\n",
              "      --hover-fill-color: #FFFFFF;\n",
              "      --disabled-bg-color: #3B4455;\n",
              "      --disabled-fill-color: #666;\n",
              "  }\n",
              "\n",
              "  .colab-df-quickchart {\n",
              "    background-color: var(--bg-color);\n",
              "    border: none;\n",
              "    border-radius: 50%;\n",
              "    cursor: pointer;\n",
              "    display: none;\n",
              "    fill: var(--fill-color);\n",
              "    height: 32px;\n",
              "    padding: 0;\n",
              "    width: 32px;\n",
              "  }\n",
              "\n",
              "  .colab-df-quickchart:hover {\n",
              "    background-color: var(--hover-bg-color);\n",
              "    box-shadow: 0 1px 2px rgba(60, 64, 67, 0.3), 0 1px 3px 1px rgba(60, 64, 67, 0.15);\n",
              "    fill: var(--button-hover-fill-color);\n",
              "  }\n",
              "\n",
              "  .colab-df-quickchart-complete:disabled,\n",
              "  .colab-df-quickchart-complete:disabled:hover {\n",
              "    background-color: var(--disabled-bg-color);\n",
              "    fill: var(--disabled-fill-color);\n",
              "    box-shadow: none;\n",
              "  }\n",
              "\n",
              "  .colab-df-spinner {\n",
              "    border: 2px solid var(--fill-color);\n",
              "    border-color: transparent;\n",
              "    border-bottom-color: var(--fill-color);\n",
              "    animation:\n",
              "      spin 1s steps(1) infinite;\n",
              "  }\n",
              "\n",
              "  @keyframes spin {\n",
              "    0% {\n",
              "      border-color: transparent;\n",
              "      border-bottom-color: var(--fill-color);\n",
              "      border-left-color: var(--fill-color);\n",
              "    }\n",
              "    20% {\n",
              "      border-color: transparent;\n",
              "      border-left-color: var(--fill-color);\n",
              "      border-top-color: var(--fill-color);\n",
              "    }\n",
              "    30% {\n",
              "      border-color: transparent;\n",
              "      border-left-color: var(--fill-color);\n",
              "      border-top-color: var(--fill-color);\n",
              "      border-right-color: var(--fill-color);\n",
              "    }\n",
              "    40% {\n",
              "      border-color: transparent;\n",
              "      border-right-color: var(--fill-color);\n",
              "      border-top-color: var(--fill-color);\n",
              "    }\n",
              "    60% {\n",
              "      border-color: transparent;\n",
              "      border-right-color: var(--fill-color);\n",
              "    }\n",
              "    80% {\n",
              "      border-color: transparent;\n",
              "      border-right-color: var(--fill-color);\n",
              "      border-bottom-color: var(--fill-color);\n",
              "    }\n",
              "    90% {\n",
              "      border-color: transparent;\n",
              "      border-bottom-color: var(--fill-color);\n",
              "    }\n",
              "  }\n",
              "</style>\n",
              "\n",
              "  <script>\n",
              "    async function quickchart(key) {\n",
              "      const quickchartButtonEl =\n",
              "        document.querySelector('#' + key + ' button');\n",
              "      quickchartButtonEl.disabled = true;  // To prevent multiple clicks.\n",
              "      quickchartButtonEl.classList.add('colab-df-spinner');\n",
              "      try {\n",
              "        const charts = await google.colab.kernel.invokeFunction(\n",
              "            'suggestCharts', [key], {});\n",
              "      } catch (error) {\n",
              "        console.error('Error during call to suggestCharts:', error);\n",
              "      }\n",
              "      quickchartButtonEl.classList.remove('colab-df-spinner');\n",
              "      quickchartButtonEl.classList.add('colab-df-quickchart-complete');\n",
              "    }\n",
              "    (() => {\n",
              "      let quickchartButtonEl =\n",
              "        document.querySelector('#df-ee95747b-f5ac-4f62-96f5-09096d52bc71 button');\n",
              "      quickchartButtonEl.style.display =\n",
              "        google.colab.kernel.accessAllowed ? 'block' : 'none';\n",
              "    })();\n",
              "  </script>\n",
              "</div>\n",
              "\n",
              "    </div>\n",
              "  </div>\n"
            ],
            "application/vnd.google.colaboratory.intrinsic+json": {
              "type": "dataframe",
              "summary": "{\n  \"name\": \"df\",\n  \"rows\": 8,\n  \"fields\": [\n    {\n      \"column\": \"Daily Time Spent on Site\",\n      \"properties\": {\n        \"dtype\": \"number\",\n        \"std\": 337.2534587654424,\n        \"min\": 15.849866151428078,\n        \"max\": 1009.0,\n        \"num_unique_values\": 8,\n        \"samples\": [\n          65.02278493557979,\n          68.37,\n          1009.0\n        ],\n        \"semantic_type\": \"\",\n        \"description\": \"\"\n      }\n    },\n    {\n      \"column\": \"Age\",\n      \"properties\": {\n        \"dtype\": \"number\",\n        \"std\": 345.43177301993376,\n        \"min\": 8.724720657228358,\n        \"max\": 1009.0,\n        \"num_unique_values\": 8,\n        \"samples\": [\n          35.95242814667988,\n          35.0,\n          1009.0\n        ],\n        \"semantic_type\": \"\",\n        \"description\": \"\"\n      }\n    },\n    {\n      \"column\": \"Area Income\",\n      \"properties\": {\n        \"dtype\": \"number\",\n        \"std\": 28406.537829613495,\n        \"min\": 1009.0,\n        \"max\": 79484.8,\n        \"num_unique_values\": 8,\n        \"samples\": [\n          54980.80987611497,\n          56998.245,\n          1009.0\n        ],\n        \"semantic_type\": \"\",\n        \"description\": \"\"\n      }\n    },\n    {\n      \"column\": \"Daily Internet Usage\",\n      \"properties\": {\n        \"dtype\": \"number\",\n        \"std\": 307.04116372496026,\n        \"min\": 43.83671663258616,\n        \"max\": 1009.0,\n        \"num_unique_values\": 8,\n        \"samples\": [\n          180.05531219028742,\n          183.42,\n          1009.0\n        ],\n        \"semantic_type\": \"\",\n        \"description\": \"\"\n      }\n    },\n    {\n      \"column\": \"Clicked on Ad\",\n      \"properties\": {\n        \"dtype\": \"number\",\n        \"std\": 356.5334963252121,\n        \"min\": 0.0,\n        \"max\": 1009.0,\n        \"num_unique_values\": 5,\n        \"samples\": [\n          0.5014866204162537,\n          1.0,\n          0.5002457432505084\n        ],\n        \"semantic_type\": \"\",\n        \"description\": \"\"\n      }\n    }\n  ]\n}"
            }
          },
          "metadata": {},
          "execution_count": 186
        }
      ],
      "source": [
        "df.describe()"
      ]
    },
    {
      "cell_type": "code",
      "source": [
        "plt.figure(figsize=(12,6))\n",
        "sns.boxplot(data=df[num_cols])\n",
        "plt.xticks(rotation=90)  # Rotate column names for better visibility\n",
        "plt.title(\"Boxplot of Numerical Features\")\n",
        "plt.show()"
      ],
      "metadata": {
        "colab": {
          "base_uri": "https://localhost:8080/",
          "height": 674
        },
        "id": "mjX23Sm5q57M",
        "outputId": "ae3cb584-8c2c-495d-a0ab-df63989ede8e"
      },
      "execution_count": 187,
      "outputs": [
        {
          "output_type": "display_data",
          "data": {
            "text/plain": [
              "<Figure size 1200x600 with 1 Axes>"
            ],
            "image/png": "[encoded data removed]"
          },
          "metadata": {}
        }
      ]
    },
    {
      "cell_type": "code",
      "execution_count": 188,
      "metadata": {
        "colab": {
          "base_uri": "https://localhost:8080/",
          "height": 419
        },
        "id": "nWJ5tEHE_1yB",
        "outputId": "f699926a-0980-4fa6-d2d9-90506063391b"
      },
      "outputs": [
        {
          "output_type": "display_data",
          "data": {
            "text/plain": [
              "<Figure size 600x400 with 1 Axes>"
            ],
            "image/png": "[encoded data removed]"
          },
          "metadata": {}
        }
      ],
      "source": [
        "#Check the Distribution of Target (y)\n",
        "plt.figure(figsize=(6,4))\n",
        "sns.countplot(x=df['Clicked on Ad'])\n",
        "plt.title(\"Distribution of Target Variable\")\n",
        "plt.show()"
      ]
    },
    {
      "cell_type": "code",
      "source": [
        "df.shape"
      ],
      "metadata": {
        "colab": {
          "base_uri": "https://localhost:8080/"
        },
        "id": "rlxEopnVgx6r",
        "outputId": "d67ed470-e94d-4ab6-9c77-0601b25f7c80"
      },
      "execution_count": 189,
      "outputs": [
        {
          "output_type": "execute_result",
          "data": {
            "text/plain": [
              "(1009, 8)"
            ]
          },
          "metadata": {},
          "execution_count": 189
        }
      ]
    },
    {
      "cell_type": "code",
      "source": [
        "cols = ['Area Income']\n",
        "for col in cols:\n",
        "    Q1 = df[col].quantile(0.25)\n",
        "    Q3 = df[col].quantile(0.75)\n",
        "    IQR = Q3 - Q1\n",
        "    lower_bound = Q1 - 1.5 * IQR\n",
        "    upper_bound = Q3 + 1.5 * IQR\n",
        "    df = df[(df[col] >= lower_bound) & (df[col] <= upper_bound)]"
      ],
      "metadata": {
        "id": "qrf40hgshW1h"
      },
      "execution_count": 190,
      "outputs": []
    },
    {
      "cell_type": "code",
      "source": [
        "df.shape"
      ],
      "metadata": {
        "colab": {
          "base_uri": "https://localhost:8080/"
        },
        "id": "zI1vnuKLhjyb",
        "outputId": "813be5fc-28de-492f-aa36-2a9a04cbf6b4"
      },
      "execution_count": 191,
      "outputs": [
        {
          "output_type": "execute_result",
          "data": {
            "text/plain": [
              "(999, 8)"
            ]
          },
          "metadata": {},
          "execution_count": 191
        }
      ]
    },
    {
      "cell_type": "code",
      "source": [
        "plt.figure(figsize=(12,6))\n",
        "sns.boxplot(data=df['Area Income'])\n",
        "plt.xticks(rotation=90)  # Rotate column names for better visibility\n",
        "plt.title(\"Boxplot of Area Income\")\n",
        "plt.show()"
      ],
      "metadata": {
        "colab": {
          "base_uri": "https://localhost:8080/",
          "height": 475
        },
        "id": "w_-1btFThsRr",
        "outputId": "8aef9fd1-bd10-4251-bba0-0bca5ce4c6db"
      },
      "execution_count": 192,
      "outputs": [
        {
          "output_type": "display_data",
          "data": {
            "text/plain": [
              "<Figure size 1200x600 with 1 Axes>"
            ],
            "image/png": "[encoded data removed]"
          },
          "metadata": {}
        }
      ]
    },
    {
      "cell_type": "markdown",
      "metadata": {
        "id": "-U4GJWL_Wm1z"
      },
      "source": [
        "##### **1.4. Identifying and handling duplicate Values **"
      ]
    },
    {
      "cell_type": "code",
      "execution_count": 193,
      "metadata": {
        "colab": {
          "base_uri": "https://localhost:8080/"
        },
        "id": "fhvilZo4JPtU",
        "outputId": "41c21450-b83c-4014-db95-106cc4bfe046"
      },
      "outputs": [
        {
          "output_type": "stream",
          "name": "stdout",
          "text": [
            "Total Duplicate Rows: 0\n"
          ]
        }
      ],
      "source": [
        "# Check for duplicate rows\n",
        "duplicate_rows = df.duplicated()\n",
        "print(\"Total Duplicate Rows:\", duplicate_rows.sum())"
      ]
    },
    {
      "cell_type": "code",
      "source": [
        "print(df.shape)\n",
        "print(df.isnull().sum())"
      ],
      "metadata": {
        "colab": {
          "base_uri": "https://localhost:8080/"
        },
        "id": "cYJJZm1b7R0A",
        "outputId": "171f8ee4-2386-47fa-ab2d-e8fc8c72199d"
      },
      "execution_count": 194,
      "outputs": [
        {
          "output_type": "stream",
          "name": "stdout",
          "text": [
            "(999, 8)\n",
            "Daily Time Spent on Site    0\n",
            "Age                         0\n",
            "Area Income                 0\n",
            "Daily Internet Usage        0\n",
            "City                        0\n",
            "Gender                      0\n",
            "Country                     0\n",
            "Clicked on Ad               0\n",
            "dtype: int64\n"
          ]
        }
      ]
    },
    {
      "cell_type": "markdown",
      "metadata": {
        "id": "wzukyKJUUU5t"
      },
      "source": [
        "## **2. Identifying and Encoding Categorical Features**"
      ]
    },
    {
      "cell_type": "code",
      "execution_count": 195,
      "metadata": {
        "id": "KgXyBdQAJri5"
      },
      "outputs": [],
      "source": [
        "# Define order for ordinal variables\n",
        "ordinal_mapping = [\n",
        "    ['Female', 'Male'] # Defining an order\n",
        "]\n",
        "\n",
        "# Apply ordinal encoding\n",
        "ordinal_encoder = OrdinalEncoder(categories=ordinal_mapping, handle_unknown='use_encoded_value', unknown_value=-1)\n",
        "\n",
        "# Encode the columns\n",
        "df[['Gender']] = ordinal_encoder.fit_transform(df[['Gender']])"
      ]
    },
    {
      "cell_type": "code",
      "source": [
        "df.shape"
      ],
      "metadata": {
        "colab": {
          "base_uri": "https://localhost:8080/"
        },
        "id": "W0a1aJHHkVMB",
        "outputId": "eba82b91-8f1f-4afa-ef20-9776c0924802"
      },
      "execution_count": 196,
      "outputs": [
        {
          "output_type": "execute_result",
          "data": {
            "text/plain": [
              "(999, 8)"
            ]
          },
          "metadata": {},
          "execution_count": 196
        }
      ]
    },
    {
      "cell_type": "code",
      "source": [
        "print(\"Unique values in Country:\", df['Country'].nunique())\n",
        "print(\"Unique values in City:\", df['City'].nunique())"
      ],
      "metadata": {
        "id": "rV7hSJColDiR",
        "colab": {
          "base_uri": "https://localhost:8080/"
        },
        "outputId": "626e5a67-5d35-4e81-f583-79c1f6979ee8"
      },
      "execution_count": 197,
      "outputs": [
        {
          "output_type": "stream",
          "name": "stdout",
          "text": [
            "Unique values in Country: 237\n",
            "Unique values in City: 951\n"
          ]
        }
      ]
    },
    {
      "cell_type": "code",
      "execution_count": 198,
      "metadata": {
        "id": "UwPuxPJhbv0e"
      },
      "outputs": [],
      "source": [
        "# Apply Label encoding to nominal variables\n",
        "label_encoder = LabelEncoder()\n",
        "df['Country'] = label_encoder.fit_transform(df['Country'])\n",
        "df['City'] = label_encoder.fit_transform(df['City'])"
      ]
    },
    {
      "cell_type": "code",
      "source": [
        "df.shape"
      ],
      "metadata": {
        "colab": {
          "base_uri": "https://localhost:8080/"
        },
        "id": "YlOEAIadpL-d",
        "outputId": "3ef2eaec-6eaa-4b0b-97c9-8a8bd174056a"
      },
      "execution_count": 199,
      "outputs": [
        {
          "output_type": "execute_result",
          "data": {
            "text/plain": [
              "(999, 8)"
            ]
          },
          "metadata": {},
          "execution_count": 199
        }
      ]
    },
    {
      "cell_type": "code",
      "execution_count": 200,
      "metadata": {
        "colab": {
          "base_uri": "https://localhost:8080/",
          "height": 335
        },
        "id": "MiNGYDoFbyxF",
        "outputId": "aea333ac-09cb-47d7-fe67-1dda58b45aea"
      },
      "outputs": [
        {
          "output_type": "execute_result",
          "data": {
            "text/plain": [
              "Daily Time Spent on Site    0\n",
              "Age                         0\n",
              "Area Income                 0\n",
              "Daily Internet Usage        0\n",
              "City                        0\n",
              "Gender                      0\n",
              "Country                     0\n",
              "Clicked on Ad               0\n",
              "dtype: int64"
            ],
            "text/html": [
              "<div>\n",
              "<style scoped>\n",
              "    .dataframe tbody tr th:only-of-type {\n",
              "        vertical-align: middle;\n",
              "    }\n",
              "\n",
              "    .dataframe tbody tr th {\n",
              "        vertical-align: top;\n",
              "    }\n",
              "\n",
              "    .dataframe thead th {\n",
              "        text-align: right;\n",
              "    }\n",
              "</style>\n",
              "<table border=\"1\" class=\"dataframe\">\n",
              "  <thead>\n",
              "    <tr style=\"text-align: right;\">\n",
              "      <th></th>\n",
              "      <th>0</th>\n",
              "    </tr>\n",
              "  </thead>\n",
              "  <tbody>\n",
              "    <tr>\n",
              "      <th>Daily Time Spent on Site</th>\n",
              "      <td>0</td>\n",
              "    </tr>\n",
              "    <tr>\n",
              "      <th>Age</th>\n",
              "      <td>0</td>\n",
              "    </tr>\n",
              "    <tr>\n",
              "      <th>Area Income</th>\n",
              "      <td>0</td>\n",
              "    </tr>\n",
              "    <tr>\n",
              "      <th>Daily Internet Usage</th>\n",
              "      <td>0</td>\n",
              "    </tr>\n",
              "    <tr>\n",
              "      <th>City</th>\n",
              "      <td>0</td>\n",
              "    </tr>\n",
              "    <tr>\n",
              "      <th>Gender</th>\n",
              "      <td>0</td>\n",
              "    </tr>\n",
              "    <tr>\n",
              "      <th>Country</th>\n",
              "      <td>0</td>\n",
              "    </tr>\n",
              "    <tr>\n",
              "      <th>Clicked on Ad</th>\n",
              "      <td>0</td>\n",
              "    </tr>\n",
              "  </tbody>\n",
              "</table>\n",
              "</div><br><label><b>dtype:</b> int64</label>"
            ]
          },
          "metadata": {},
          "execution_count": 200
        }
      ],
      "source": [
        "df.isnull().sum()"
      ]
    },
    {
      "cell_type": "code",
      "execution_count": 201,
      "metadata": {
        "id": "Un_an24PlekG",
        "colab": {
          "base_uri": "https://localhost:8080/"
        },
        "outputId": "751de821-9a49-4f41-a32a-3da38addba28"
      },
      "outputs": [
        {
          "output_type": "execute_result",
          "data": {
            "text/plain": [
              "(999, 8)"
            ]
          },
          "metadata": {},
          "execution_count": 201
        }
      ],
      "source": [
        "df.reset_index(drop=True, inplace=True)\n",
        "df.shape"
      ]
    },
    {
      "cell_type": "markdown",
      "source": [
        "## **3. Data Normalization**"
      ],
      "metadata": {
        "id": "7h0TB3BKNNMA"
      }
    },
    {
      "cell_type": "code",
      "source": [
        "cols_to_scale = ['Daily Time Spent on Site','Area Income','Daily Internet Usage','Age']\n",
        "scaler = MinMaxScaler()\n",
        "df[cols_to_scale] = scaler.fit_transform(df[cols_to_scale])"
      ],
      "metadata": {
        "id": "G6v5OZmStDQo"
      },
      "execution_count": 202,
      "outputs": []
    },
    {
      "cell_type": "code",
      "source": [
        "# #Split data\n",
        "X= df.drop('Clicked on Ad', axis=1)\n",
        "y=df['Clicked on Ad']"
      ],
      "metadata": {
        "id": "IkqsA3cTaYNI"
      },
      "execution_count": 203,
      "outputs": []
    },
    {
      "cell_type": "code",
      "source": [
        "# Split data into training and testing sets\n",
        "X_train, X_test, y_train, y_test = train_test_split(X, y, test_size=0.2, random_state=42)"
      ],
      "metadata": {
        "id": "ON2U8ggPSBOC"
      },
      "execution_count": 204,
      "outputs": []
    },
    {
      "cell_type": "code",
      "source": [
        "# Gaussian Naive Bayes\n",
        "gnb = GaussianNB()\n",
        "gnb.fit(X_train, y_train)\n",
        "y_pred_gnb = gnb.predict(X_test)\n",
        "\n",
        "# Evaluate Gaussian Naive Bayes Model\n",
        "print(\"📊 Gaussian Naive Bayes Model Evaluation 📊\")\n",
        "print(\"-\" * 50)\n",
        "print(f\"✅ Accuracy: {accuracy_score(y_test, y_pred_gnb):.4f}\")\n",
        "print(\"\\n📌 Confusion Matrix:\")\n",
        "print(confusion_matrix(y_test, y_pred_gnb))\n",
        "print(\"\\n📌 Classification Report:\")\n",
        "print(classification_report(y_test, y_pred_gnb))\n",
        "\n",
        "# Confusion Matrix Heatmap Visualization\n",
        "plt.figure(figsize=(6, 4))\n",
        "sns.heatmap(confusion_matrix(y_test, y_pred_gnb), annot=True, fmt='d', cmap='coolwarm', linewidths=1.5, linecolor='black')\n",
        "plt.title(\"Gaussian Naive Bayes - Confusion Matrix\", fontsize=14)\n",
        "plt.xlabel(\"Predicted Label\", fontsize=12)\n",
        "plt.ylabel(\"Actual Label\", fontsize=12)\n",
        "plt.show()"
      ],
      "metadata": {
        "id": "uFdyzt49RZy3",
        "colab": {
          "base_uri": "https://localhost:8080/",
          "height": 732
        },
        "outputId": "fb75b1bd-fc49-4031-cf15-4387dc3942f3"
      },
      "execution_count": 205,
      "outputs": [
        {
          "output_type": "stream",
          "name": "stdout",
          "text": [
            "📊 Gaussian Naive Bayes Model Evaluation 📊\n",
            "--------------------------------------------------\n",
            "✅ Accuracy: 0.9450\n",
            "\n",
            "📌 Confusion Matrix:\n",
            "[[93  4]\n",
            " [ 7 96]]\n",
            "\n",
            "📌 Classification Report:\n",
            "              precision    recall  f1-score   support\n",
            "\n",
            "         0.0       0.93      0.96      0.94        97\n",
            "         1.0       0.96      0.93      0.95       103\n",
            "\n",
            "    accuracy                           0.94       200\n",
            "   macro avg       0.95      0.95      0.94       200\n",
            "weighted avg       0.95      0.94      0.95       200\n",
            "\n"
          ]
        },
        {
          "output_type": "display_data",
          "data": {
            "text/plain": [
              "<Figure size 600x400 with 2 Axes>"
            ],
            "image/png": "[encoded data removed]"
          },
          "metadata": {}
        }
      ]
    },
    {
      "cell_type": "code",
      "source": [
        "# Multinomial Naive Bayes\n",
        "mnb = MultinomialNB()\n",
        "mnb.fit(X_train, y_train)\n",
        "y_pred_mnb = mnb.predict(X_test)\n",
        "\n",
        "# Evaluate Multinomial Naive Bayes Model\n",
        "print(\"📊 Multinomial Naive Bayes Model Evaluation 📊\")\n",
        "print(\"-\" * 50)\n",
        "print(f\"✅ Accuracy: {accuracy_score(y_test, y_pred_mnb):.4f}\")\n",
        "print(\"\\n📌 Confusion Matrix:\")\n",
        "print(confusion_matrix(y_test, y_pred_mnb))\n",
        "print(\"\\n📌 Classification Report:\")\n",
        "print(classification_report(y_test, y_pred_mnb))\n",
        "\n",
        "# Confusion Matrix Heatmap Visualization\n",
        "plt.figure(figsize=(6, 4))\n",
        "sns.heatmap(confusion_matrix(y_test, y_pred_mnb), annot=True, fmt='d', cmap='coolwarm', linewidths=1.5, linecolor='black')\n",
        "plt.title(\"Multinomial Naive Bayes - Confusion Matrix\", fontsize=14)\n",
        "plt.xlabel(\"Predicted Label\", fontsize=12)\n",
        "plt.ylabel(\"Actual Label\", fontsize=12)\n",
        "plt.show()"
      ],
      "metadata": {
        "id": "SMEHzxrpamNm",
        "colab": {
          "base_uri": "https://localhost:8080/",
          "height": 732
        },
        "outputId": "54ae9e7f-ea29-4f66-bf47-a65f0e3d79d9"
      },
      "execution_count": 206,
      "outputs": [
        {
          "output_type": "stream",
          "name": "stdout",
          "text": [
            "📊 Multinomial Naive Bayes Model Evaluation 📊\n",
            "--------------------------------------------------\n",
            "✅ Accuracy: 0.6450\n",
            "\n",
            "📌 Confusion Matrix:\n",
            "[[64 33]\n",
            " [38 65]]\n",
            "\n",
            "📌 Classification Report:\n",
            "              precision    recall  f1-score   support\n",
            "\n",
            "         0.0       0.63      0.66      0.64        97\n",
            "         1.0       0.66      0.63      0.65       103\n",
            "\n",
            "    accuracy                           0.65       200\n",
            "   macro avg       0.65      0.65      0.64       200\n",
            "weighted avg       0.65      0.65      0.65       200\n",
            "\n"
          ]
        },
        {
          "output_type": "display_data",
          "data": {
            "text/plain": [
              "<Figure size 600x400 with 2 Axes>"
            ],
            "image/png": "[encoded data removed]"
          },
          "metadata": {}
        }
      ]
    },
    {
      "cell_type": "code",
      "source": [
        "# Bernoulli Naive Bayes\n",
        "bnb = BernoulliNB()\n",
        "bnb.fit(X_train, y_train)\n",
        "y_pred_bnb = bnb.predict(X_test)\n",
        "\n",
        "# Evaluate Bernoulli Naive Bayes Model\n",
        "print(\"📊 Bernoulli Naive Bayes Model Evaluation 📊\")\n",
        "print(\"-\" * 50)\n",
        "print(f\"✅ Accuracy: {accuracy_score(y_test, y_pred_bnb):.4f}\")\n",
        "print(\"\\n📌 Confusion Matrix:\")\n",
        "print(confusion_matrix(y_test, y_pred_bnb))\n",
        "print(\"\\n📌 Classification Report:\")\n",
        "print(classification_report(y_test, y_pred_bnb))\n",
        "\n",
        "# Confusion Matrix Heatmap Visualization\n",
        "plt.figure(figsize=(6, 4))\n",
        "sns.heatmap(confusion_matrix(y_test, y_pred_bnb), annot=True, fmt='d', cmap='magma', linewidths=1.5, linecolor='black')\n",
        "plt.title(\"Bernoulli Naive Bayes - Confusion Matrix\", fontsize=14)\n",
        "plt.xlabel(\"Predicted Label\", fontsize=12)\n",
        "plt.ylabel(\"Actual Label\", fontsize=12)\n",
        "plt.show()"
      ],
      "metadata": {
        "id": "q6-KlFnCmJra",
        "colab": {
          "base_uri": "https://localhost:8080/",
          "height": 732
        },
        "outputId": "418c08d6-3a38-4bf2-d541-7c6c998ff444"
      },
      "execution_count": 207,
      "outputs": [
        {
          "output_type": "stream",
          "name": "stdout",
          "text": [
            "📊 Bernoulli Naive Bayes Model Evaluation 📊\n",
            "--------------------------------------------------\n",
            "✅ Accuracy: 0.5250\n",
            "\n",
            "📌 Confusion Matrix:\n",
            "[[46 51]\n",
            " [44 59]]\n",
            "\n",
            "📌 Classification Report:\n",
            "              precision    recall  f1-score   support\n",
            "\n",
            "         0.0       0.51      0.47      0.49        97\n",
            "         1.0       0.54      0.57      0.55       103\n",
            "\n",
            "    accuracy                           0.53       200\n",
            "   macro avg       0.52      0.52      0.52       200\n",
            "weighted avg       0.52      0.53      0.52       200\n",
            "\n"
          ]
        },
        {
          "output_type": "display_data",
          "data": {
            "text/plain": [
              "<Figure size 600x400 with 2 Axes>"
            ],
            "image/png": "[encoded data removed]"
          },
          "metadata": {}
        }
      ]
    },
    {
      "cell_type": "code",
      "source": [
        "# Ensemble with VotingClassifier (soft voting)\n",
        "ensemble_model = VotingClassifier(\n",
        "    estimators=[('gnb', gnb), ('mnb', mnb), ('bnb', bnb)],\n",
        "    voting='soft'\n",
        ")\n",
        "ensemble_model.fit(X_train, y_train)\n",
        "y_pred_ensemble = ensemble_model.predict(X_test)\n",
        "\n",
        "# Evaluate Ensemble Model\n",
        "print(\"🔰 Ensemble Model Evaluation 🔰\")\n",
        "print(\"-\" * 50)\n",
        "print(f\"✅ Accuracy: {accuracy_score(y_test, y_pred_ensemble):.4f}\")\n",
        "print(\"\\n📌 Confusion Matrix:\")\n",
        "print(confusion_matrix(y_test, y_pred_ensemble))\n",
        "print(\"\\n📌 Classification Report:\")\n",
        "print(classification_report(y_test, y_pred_ensemble))\n",
        "\n",
        "# Confusion Matrix Heatmap Visualization\n",
        "plt.figure(figsize=(6, 4))\n",
        "sns.heatmap(confusion_matrix(y_test, y_pred_ensemble), annot=True, fmt='d', cmap='coolwarm', linewidths=1.5, linecolor='black')\n",
        "plt.title(\"Ensemble Model - Confusion Matrix\", fontsize=14)\n",
        "plt.xlabel(\"Predicted Label\", fontsize=12)\n",
        "plt.ylabel(\"Actual Label\", fontsize=12)\n",
        "plt.show()"
      ],
      "metadata": {
        "id": "3f1_-04SmqhB",
        "colab": {
          "base_uri": "https://localhost:8080/",
          "height": 732
        },
        "outputId": "eb06bc05-dc0d-44f0-f1b7-6da4330c5370"
      },
      "execution_count": 208,
      "outputs": [
        {
          "output_type": "stream",
          "name": "stdout",
          "text": [
            "🔰 Ensemble Model Evaluation 🔰\n",
            "--------------------------------------------------\n",
            "✅ Accuracy: 0.9550\n",
            "\n",
            "📌 Confusion Matrix:\n",
            "[[95  2]\n",
            " [ 7 96]]\n",
            "\n",
            "📌 Classification Report:\n",
            "              precision    recall  f1-score   support\n",
            "\n",
            "         0.0       0.93      0.98      0.95        97\n",
            "         1.0       0.98      0.93      0.96       103\n",
            "\n",
            "    accuracy                           0.95       200\n",
            "   macro avg       0.96      0.96      0.95       200\n",
            "weighted avg       0.96      0.95      0.96       200\n",
            "\n"
          ]
        },
        {
          "output_type": "display_data",
          "data": {
            "text/plain": [
              "<Figure size 600x400 with 2 Axes>"
            ],
            "image/png": "[encoded data removed]"
          },
          "metadata": {}
        }
      ]
    },
    {
      "cell_type": "code",
      "source": [
        "# Get probabilities from each model\n",
        "probs_gnb = gnb.predict_proba(X_test)\n",
        "probs_mnb = mnb.predict_proba(X_test)\n",
        "probs_bnb = bnb.predict_proba(X_test)\n",
        "\n",
        "# Method 1: Average probabilities\n",
        "combined_probs_avg = (probs_gnb + probs_mnb + probs_bnb) / 3\n",
        "y_pred_avg = np.argmax(combined_probs_avg, axis=1)\n",
        "\n",
        "# Method 2: Weighted average (e.g., based on accuracy)\n",
        "weights = [0.4, 0.3, 0.3]  # Adjust based on model performance\n",
        "combined_probs_weighted = (weights[0] * probs_gnb + weights[1] * probs_mnb + weights[2] * probs_bnb)\n",
        "y_pred_weighted = np.argmax(combined_probs_weighted, axis=1)\n",
        "\n",
        "# Evaluate both methods\n",
        "print(\"\\n🔷 Average Probability Method 🔷\")\n",
        "print(\"-\" * 50)\n",
        "print(f\"✅ Accuracy: {accuracy_score(y_test, y_pred_avg):.4f}\")\n",
        "print(\"\\n📌 Confusion Matrix:\")\n",
        "print(confusion_matrix(y_test, y_pred_avg))\n",
        "print(\"\\n📌 Classification Report:\")\n",
        "print(classification_report(y_test, y_pred_avg))\n",
        "\n",
        "print(\"\\n🟡 Weighted Probability Method 🟡\")\n",
        "print(\"-\" * 50)\n",
        "print(f\"✅ Accuracy: {accuracy_score(y_test, y_pred_weighted):.4f}\")\n",
        "print(\"\\n📌 Confusion Matrix:\")\n",
        "print(confusion_matrix(y_test, y_pred_weighted))\n",
        "print(\"\\n📌 Classification Report:\")\n",
        "print(classification_report(y_test, y_pred_weighted))\n",
        "\n",
        "# Confusion Matrix Heatmaps\n",
        "fig, axes = plt.subplots(1, 2, figsize=(12, 5))\n",
        "\n",
        "sns.heatmap(confusion_matrix(y_test, y_pred_avg), annot=True, fmt='d', cmap='Blues', linewidths=1.5, ax=axes[0])\n",
        "axes[0].set_title(\"🔷 Average Probability Confusion Matrix\")\n",
        "axes[0].set_xlabel(\"Predicted Label\")\n",
        "axes[0].set_ylabel(\"Actual Label\")\n",
        "\n",
        "sns.heatmap(confusion_matrix(y_test, y_pred_weighted), annot=True, fmt='d', cmap='YlOrBr', linewidths=1.5, ax=axes[1])\n",
        "axes[1].set_title(\"🟡 Weighted Probability Confusion Matrix\")\n",
        "axes[1].set_xlabel(\"Predicted Label\")\n",
        "axes[1].set_ylabel(\"Actual Label\")\n",
        "\n",
        "plt.tight_layout()\n",
        "plt.show()\n",
        "\n",
        "# Visualize predicted probabilities for first test sample\n",
        "plt.figure(figsize=(8, 5))\n",
        "plt.bar(['Not Clicked', 'Clicked'], combined_probs_avg[0], color='blue', label='Average', alpha=0.7)\n",
        "plt.bar(['Not Clicked', 'Clicked'], combined_probs_weighted[0], color='yellow', label='Weighted', alpha=0.7)\n",
        "plt.title(\"Predicted Probabilities for First Test Sample\")\n",
        "plt.ylabel(\"Probability\")\n",
        "plt.legend()\n",
        "plt.show()"
      ],
      "metadata": {
        "colab": {
          "base_uri": "https://localhost:8080/",
          "height": 1000
        },
        "id": "I4laV4IWq2qe",
        "outputId": "c0eb7741-78fe-4252-d807-b222e9d60b40"
      },
      "execution_count": 209,
      "outputs": [
        {
          "output_type": "stream",
          "name": "stdout",
          "text": [
            "\n",
            "🔷 Average Probability Method 🔷\n",
            "--------------------------------------------------\n",
            "✅ Accuracy: 0.9550\n",
            "\n",
            "📌 Confusion Matrix:\n",
            "[[95  2]\n",
            " [ 7 96]]\n",
            "\n",
            "📌 Classification Report:\n",
            "              precision    recall  f1-score   support\n",
            "\n",
            "         0.0       0.93      0.98      0.95        97\n",
            "         1.0       0.98      0.93      0.96       103\n",
            "\n",
            "    accuracy                           0.95       200\n",
            "   macro avg       0.96      0.96      0.95       200\n",
            "weighted avg       0.96      0.95      0.96       200\n",
            "\n",
            "\n",
            "🟡 Weighted Probability Method 🟡\n",
            "--------------------------------------------------\n",
            "✅ Accuracy: 0.9550\n",
            "\n",
            "📌 Confusion Matrix:\n",
            "[[95  2]\n",
            " [ 7 96]]\n",
            "\n",
            "📌 Classification Report:\n",
            "              precision    recall  f1-score   support\n",
            "\n",
            "         0.0       0.93      0.98      0.95        97\n",
            "         1.0       0.98      0.93      0.96       103\n",
            "\n",
            "    accuracy                           0.95       200\n",
            "   macro avg       0.96      0.96      0.95       200\n",
            "weighted avg       0.96      0.95      0.96       200\n",
            "\n"
          ]
        },
        {
          "output_type": "display_data",
          "data": {
            "text/plain": [
              "<Figure size 1200x500 with 4 Axes>"
            ],
            "image/png": "[encoded data removed]"
          },
          "metadata": {}
        },
        {
          "output_type": "display_data",
          "data": {
            "text/plain": [
              "<Figure size 800x500 with 1 Axes>"
            ],
            "image/png": "[encoded data removed]"
          },
          "metadata": {}
        }
      ]
    }
  ],
  "metadata": {
    "colab": {
      "provenance": []
    },
    "kernelspec": {
      "display_name": "Python 3",
      "name": "python3"
    },
    "language_info": {
      "name": "python"
    }
  },
  "nbformat": 4,
  "nbformat_minor": 0
}