{
 "cells": [
  {
   "cell_type": "markdown",
   "id": "bef0d5e2-86c5-49e2-b762-b1784d7dcfe2",
   "metadata": {},
   "source": [
    "# DATA ANALYSIS\n",
    "\n",
    "You and your classmates have collected data from various locations about houses, including their features (e.g., area, number of rooms, condition) and prices (house prices and rents). The objective is to help a fictional real estate firm analyze trends and patterns in the housing market to make decisions about property investment and pricing strategies.\n",
    "\n",
    "As the Data Scientist, your task is to analyze this data using measures of central tendency, dispersion, and correlation analysis. Based on your findings, you will provide insights that the firm can use to make informed decisions."
   ]
  },
  {
   "cell_type": "code",
   "execution_count": 27,
   "id": "3ebef68b-5f1a-489a-b192-2e4b1de914cc",
   "metadata": {},
   "outputs": [],
   "source": [
    "import pandas as pd\n",
    "import numpy as np\n",
    "import matplotlib.pyplot as plt\n",
    "import seaborn as sns"
   ]
  },
  {
   "cell_type": "code",
   "execution_count": 28,
   "id": "380939c8-4f02-44f2-b91a-5b398bf40c4f",
   "metadata": {},
   "outputs": [],
   "source": [
    "house_data=pd.read_excel('Housing-1.xlsx')"
   ]
  },
  {
   "cell_type": "markdown",
   "id": "ac81d776-b033-4f37-8315-3a56f76e1baf",
   "metadata": {},
   "source": [
    "# Exploring the dataset"
   ]
  },
  {
   "cell_type": "code",
   "execution_count": 29,
   "id": "14d932c7-8b93-4337-abf0-0e1cb81d7fa9",
   "metadata": {},
   "outputs": [
    {
     "data": {
      "text/html": [
       "<div>\n",
       "<style scoped>\n",
       "    .dataframe tbody tr th:only-of-type {\n",
       "        vertical-align: middle;\n",
       "    }\n",
       "\n",
       "    .dataframe tbody tr th {\n",
       "        vertical-align: top;\n",
       "    }\n",
       "\n",
       "    .dataframe thead th {\n",
       "        text-align: right;\n",
       "    }\n",
       "</style>\n",
       "<table border=\"1\" class=\"dataframe\">\n",
       "  <thead>\n",
       "    <tr style=\"text-align: right;\">\n",
       "      <th></th>\n",
       "      <th>Location</th>\n",
       "      <th>Area (Marla)</th>\n",
       "      <th>No of Rooms</th>\n",
       "      <th>No of Washrooms</th>\n",
       "      <th>No of Kitchens</th>\n",
       "      <th>Garden</th>\n",
       "      <th>Garage</th>\n",
       "      <th>Balcony</th>\n",
       "      <th>Floors</th>\n",
       "      <th>Condition</th>\n",
       "      <th>House Prices (Millions)</th>\n",
       "      <th>Rent Prices</th>\n",
       "      <th>Year of Construction</th>\n",
       "    </tr>\n",
       "  </thead>\n",
       "  <tbody>\n",
       "    <tr>\n",
       "      <th>0</th>\n",
       "      <td>Chatter</td>\n",
       "      <td>6</td>\n",
       "      <td>4</td>\n",
       "      <td>2</td>\n",
       "      <td>1</td>\n",
       "      <td>Yes</td>\n",
       "      <td>No</td>\n",
       "      <td>No</td>\n",
       "      <td>1</td>\n",
       "      <td>Good</td>\n",
       "      <td>9.0</td>\n",
       "      <td>20000</td>\n",
       "      <td>2000.0</td>\n",
       "    </tr>\n",
       "    <tr>\n",
       "      <th>1</th>\n",
       "      <td>Chatter</td>\n",
       "      <td>8</td>\n",
       "      <td>6</td>\n",
       "      <td>3</td>\n",
       "      <td>1</td>\n",
       "      <td>Yes</td>\n",
       "      <td>Yes</td>\n",
       "      <td>No</td>\n",
       "      <td>1</td>\n",
       "      <td>Fair</td>\n",
       "      <td>13.0</td>\n",
       "      <td>40000</td>\n",
       "      <td>2019.0</td>\n",
       "    </tr>\n",
       "    <tr>\n",
       "      <th>2</th>\n",
       "      <td>Chatter</td>\n",
       "      <td>7</td>\n",
       "      <td>5</td>\n",
       "      <td>3</td>\n",
       "      <td>1</td>\n",
       "      <td>No</td>\n",
       "      <td>Yes</td>\n",
       "      <td>No</td>\n",
       "      <td>1</td>\n",
       "      <td>Fair</td>\n",
       "      <td>12.0</td>\n",
       "      <td>20000</td>\n",
       "      <td>1999.0</td>\n",
       "    </tr>\n",
       "    <tr>\n",
       "      <th>3</th>\n",
       "      <td>Chehlla</td>\n",
       "      <td>3</td>\n",
       "      <td>2</td>\n",
       "      <td>1</td>\n",
       "      <td>1</td>\n",
       "      <td>No</td>\n",
       "      <td>Yes</td>\n",
       "      <td>No</td>\n",
       "      <td>1</td>\n",
       "      <td>Fair</td>\n",
       "      <td>8.0</td>\n",
       "      <td>30000</td>\n",
       "      <td>NaN</td>\n",
       "    </tr>\n",
       "    <tr>\n",
       "      <th>4</th>\n",
       "      <td>Chehlla</td>\n",
       "      <td>10</td>\n",
       "      <td>6</td>\n",
       "      <td>3</td>\n",
       "      <td>1</td>\n",
       "      <td>No</td>\n",
       "      <td>Yes</td>\n",
       "      <td>Yes</td>\n",
       "      <td>2</td>\n",
       "      <td>Good</td>\n",
       "      <td>15.0</td>\n",
       "      <td>60000</td>\n",
       "      <td>2015.0</td>\n",
       "    </tr>\n",
       "  </tbody>\n",
       "</table>\n",
       "</div>"
      ],
      "text/plain": [
       "  Location  Area (Marla)  No of Rooms  No of Washrooms  No of Kitchens Garden  \\\n",
       "0  Chatter             6            4                2               1    Yes   \n",
       "1  Chatter             8            6                3               1    Yes   \n",
       "2  Chatter             7            5                3               1     No   \n",
       "3  Chehlla             3            2                1               1     No   \n",
       "4  Chehlla            10            6                3               1     No   \n",
       "\n",
       "  Garage Balcony  Floors Condition   House Prices (Millions)  Rent Prices  \\\n",
       "0     No      No       1       Good                      9.0        20000   \n",
       "1    Yes      No       1       Fair                     13.0        40000   \n",
       "2    Yes      No       1       Fair                     12.0        20000   \n",
       "3    Yes      No       1       Fair                      8.0        30000   \n",
       "4    Yes     Yes       2       Good                     15.0        60000   \n",
       "\n",
       "   Year of Construction  \n",
       "0                2000.0  \n",
       "1                2019.0  \n",
       "2                1999.0  \n",
       "3                   NaN  \n",
       "4                2015.0  "
      ]
     },
     "execution_count": 29,
     "metadata": {},
     "output_type": "execute_result"
    }
   ],
   "source": [
    "# Display the First 5 Rows\n",
    "house_data.head()"
   ]
  },
  {
   "cell_type": "markdown",
   "id": "ff511c8e-808a-45ea-9348-89a3851001b0",
   "metadata": {},
   "source": [
    "### Key insight \n",
    "We get a general sense of what the dataset contains like data structure /formate, column names, and sample values.\n"
   ]
  },
  {
   "cell_type": "code",
   "execution_count": 30,
   "id": "39273afd-640d-4e4d-a75a-82f89c8f1a52",
   "metadata": {},
   "outputs": [
    {
     "name": "stdout",
     "output_type": "stream",
     "text": [
      "<class 'pandas.core.frame.DataFrame'>\n",
      "RangeIndex: 74 entries, 0 to 73\n",
      "Data columns (total 13 columns):\n",
      " #   Column                   Non-Null Count  Dtype  \n",
      "---  ------                   --------------  -----  \n",
      " 0   Location                 74 non-null     object \n",
      " 1   Area (Marla)             74 non-null     int64  \n",
      " 2   No of Rooms              74 non-null     int64  \n",
      " 3   No of Washrooms          74 non-null     int64  \n",
      " 4   No of Kitchens           74 non-null     int64  \n",
      " 5   Garden                   74 non-null     object \n",
      " 6   Garage                   74 non-null     object \n",
      " 7   Balcony                  74 non-null     object \n",
      " 8   Floors                   74 non-null     int64  \n",
      " 9   Condition                72 non-null     object \n",
      " 10  House Prices (Millions)  73 non-null     float64\n",
      " 11  Rent Prices              74 non-null     int64  \n",
      " 12  Year of Construction     72 non-null     float64\n",
      "dtypes: float64(2), int64(6), object(5)\n",
      "memory usage: 7.6+ KB\n"
     ]
    }
   ],
   "source": [
    "# Check Data Types and Missing Values\n",
    "house_data.info()"
   ]
  },
  {
   "cell_type": "markdown",
   "id": "8d272fe3-6e41-4fb5-a1c8-233366696491",
   "metadata": {},
   "source": [
    "### Key insight \n",
    "The dataset has 74 entries with 13 columns, including numerical and categorical data helps determine the type of analysis. Missing values exist in Condition, House Prices, and Year of Construction, requiring imputation. Key variables like Area, Rooms, and amenities will be critical for analyzing property trends and correlations."
   ]
  },
  {
   "cell_type": "code",
   "execution_count": 31,
   "id": "414f4e85-173c-43e7-a1ce-36225e05c66c",
   "metadata": {},
   "outputs": [
    {
     "data": {
      "text/html": [
       "<div>\n",
       "<style scoped>\n",
       "    .dataframe tbody tr th:only-of-type {\n",
       "        vertical-align: middle;\n",
       "    }\n",
       "\n",
       "    .dataframe tbody tr th {\n",
       "        vertical-align: top;\n",
       "    }\n",
       "\n",
       "    .dataframe thead th {\n",
       "        text-align: right;\n",
       "    }\n",
       "</style>\n",
       "<table border=\"1\" class=\"dataframe\">\n",
       "  <thead>\n",
       "    <tr style=\"text-align: right;\">\n",
       "      <th></th>\n",
       "      <th>Area (Marla)</th>\n",
       "      <th>No of Rooms</th>\n",
       "      <th>No of Washrooms</th>\n",
       "      <th>No of Kitchens</th>\n",
       "      <th>Floors</th>\n",
       "      <th>House Prices (Millions)</th>\n",
       "      <th>Rent Prices</th>\n",
       "      <th>Year of Construction</th>\n",
       "    </tr>\n",
       "  </thead>\n",
       "  <tbody>\n",
       "    <tr>\n",
       "      <th>count</th>\n",
       "      <td>74.000000</td>\n",
       "      <td>74.000000</td>\n",
       "      <td>74.000000</td>\n",
       "      <td>74.000000</td>\n",
       "      <td>74.000000</td>\n",
       "      <td>73.000000</td>\n",
       "      <td>74.000000</td>\n",
       "      <td>72.000000</td>\n",
       "    </tr>\n",
       "    <tr>\n",
       "      <th>mean</th>\n",
       "      <td>8.608108</td>\n",
       "      <td>5.662162</td>\n",
       "      <td>3.094595</td>\n",
       "      <td>1.486486</td>\n",
       "      <td>1.581081</td>\n",
       "      <td>12.027397</td>\n",
       "      <td>30662.162162</td>\n",
       "      <td>2010.138889</td>\n",
       "    </tr>\n",
       "    <tr>\n",
       "      <th>std</th>\n",
       "      <td>3.877641</td>\n",
       "      <td>2.456621</td>\n",
       "      <td>1.536487</td>\n",
       "      <td>0.646238</td>\n",
       "      <td>0.573544</td>\n",
       "      <td>5.479691</td>\n",
       "      <td>40488.888050</td>\n",
       "      <td>11.125792</td>\n",
       "    </tr>\n",
       "    <tr>\n",
       "      <th>min</th>\n",
       "      <td>3.000000</td>\n",
       "      <td>2.000000</td>\n",
       "      <td>1.000000</td>\n",
       "      <td>1.000000</td>\n",
       "      <td>1.000000</td>\n",
       "      <td>6.000000</td>\n",
       "      <td>3000.000000</td>\n",
       "      <td>1970.000000</td>\n",
       "    </tr>\n",
       "    <tr>\n",
       "      <th>25%</th>\n",
       "      <td>5.000000</td>\n",
       "      <td>4.000000</td>\n",
       "      <td>2.000000</td>\n",
       "      <td>1.000000</td>\n",
       "      <td>1.000000</td>\n",
       "      <td>8.000000</td>\n",
       "      <td>15500.000000</td>\n",
       "      <td>2006.750000</td>\n",
       "    </tr>\n",
       "    <tr>\n",
       "      <th>50%</th>\n",
       "      <td>8.000000</td>\n",
       "      <td>6.000000</td>\n",
       "      <td>3.000000</td>\n",
       "      <td>1.000000</td>\n",
       "      <td>2.000000</td>\n",
       "      <td>10.000000</td>\n",
       "      <td>20000.000000</td>\n",
       "      <td>2013.500000</td>\n",
       "    </tr>\n",
       "    <tr>\n",
       "      <th>75%</th>\n",
       "      <td>10.000000</td>\n",
       "      <td>7.000000</td>\n",
       "      <td>4.000000</td>\n",
       "      <td>2.000000</td>\n",
       "      <td>2.000000</td>\n",
       "      <td>15.000000</td>\n",
       "      <td>30000.000000</td>\n",
       "      <td>2018.000000</td>\n",
       "    </tr>\n",
       "    <tr>\n",
       "      <th>max</th>\n",
       "      <td>20.000000</td>\n",
       "      <td>15.000000</td>\n",
       "      <td>8.000000</td>\n",
       "      <td>4.000000</td>\n",
       "      <td>3.000000</td>\n",
       "      <td>30.000000</td>\n",
       "      <td>300000.000000</td>\n",
       "      <td>2024.000000</td>\n",
       "    </tr>\n",
       "  </tbody>\n",
       "</table>\n",
       "</div>"
      ],
      "text/plain": [
       "       Area (Marla)  No of Rooms  No of Washrooms  No of Kitchens     Floors  \\\n",
       "count     74.000000    74.000000        74.000000       74.000000  74.000000   \n",
       "mean       8.608108     5.662162         3.094595        1.486486   1.581081   \n",
       "std        3.877641     2.456621         1.536487        0.646238   0.573544   \n",
       "min        3.000000     2.000000         1.000000        1.000000   1.000000   \n",
       "25%        5.000000     4.000000         2.000000        1.000000   1.000000   \n",
       "50%        8.000000     6.000000         3.000000        1.000000   2.000000   \n",
       "75%       10.000000     7.000000         4.000000        2.000000   2.000000   \n",
       "max       20.000000    15.000000         8.000000        4.000000   3.000000   \n",
       "\n",
       "       House Prices (Millions)    Rent Prices  Year of Construction  \n",
       "count                73.000000      74.000000             72.000000  \n",
       "mean                 12.027397   30662.162162           2010.138889  \n",
       "std                   5.479691   40488.888050             11.125792  \n",
       "min                   6.000000    3000.000000           1970.000000  \n",
       "25%                   8.000000   15500.000000           2006.750000  \n",
       "50%                  10.000000   20000.000000           2013.500000  \n",
       "75%                  15.000000   30000.000000           2018.000000  \n",
       "max                  30.000000  300000.000000           2024.000000  "
      ]
     },
     "execution_count": 31,
     "metadata": {},
     "output_type": "execute_result"
    }
   ],
   "source": [
    "house_data.describe()"
   ]
  },
  {
   "cell_type": "markdown",
   "id": "23caa5a3-3ded-416a-b78f-a698467ca5c9",
   "metadata": {},
   "source": [
    "### Key insight \n",
    "#### Missing Values:\n",
    "House Prices: Only 73 entries exist out of 74, indicating 1 missing value.\n",
    "Year of Construction: Only 72 entries exist, indicating 2 missing values.\n",
    "#### Outliers:\n",
    "Rooms: The maximum value is 15, which is unusually high compared to the mean (5.66).\n",
    "Washrooms: The maximum is 8, higher than expected for most houses.\n",
    "House Prices and Rent Prices: The wide range (6M–30M for prices and 3,000–30,000 for rent) indicates possible outliers.\n",
    "#### Year of Construction:\n",
    "The minimum year (1970) seems valid, but the maximum year (2024) could be future data that needs validation. \n",
    "These errors indicate the need for cleaning, such as handling missing values and checking for outliers."
   ]
  },
  {
   "cell_type": "markdown",
   "id": "9de2ef53-d505-4f97-9c14-f9b7135b671a",
   "metadata": {},
   "source": [
    "## Handle Missing Data"
   ]
  },
  {
   "cell_type": "code",
   "execution_count": 32,
   "id": "11b41e01-3654-411e-8a29-406c92db4e6a",
   "metadata": {},
   "outputs": [
    {
     "data": {
      "text/plain": [
       "Location                   0\n",
       "Area (Marla)               0\n",
       "No of Rooms                0\n",
       "No of Washrooms            0\n",
       "No of Kitchens             0\n",
       "Garden                     0\n",
       "Garage                     0\n",
       "Balcony                    0\n",
       "Floors                     0\n",
       "Condition                  2\n",
       "House Prices (Millions)    1\n",
       "Rent Prices                0\n",
       "Year of Construction       2\n",
       "dtype: int64"
      ]
     },
     "execution_count": 32,
     "metadata": {},
     "output_type": "execute_result"
    }
   ],
   "source": [
    "house_data.isnull().sum()"
   ]
  },
  {
   "cell_type": "markdown",
   "id": "4645348a-7fe0-4e80-9ce7-8dd0d60bac2a",
   "metadata": {},
   "source": [
    "### Key insight\n",
    "Condition:  2 missing values. These can be filled with the mode (most common condition).                                      \n",
    "House Prices (Millions):  1 missing value. It can be filled with the median or mean depending on the distribution.            \n",
    "Year of Construction:  2 missing values. These can be filled with the median (most representative value) since it is numeric and likely has outliers."
   ]
  },
  {
   "cell_type": "code",
   "execution_count": 33,
   "id": "9a8ec2c3-bad6-47be-80e3-89c18b23d7b7",
   "metadata": {},
   "outputs": [],
   "source": [
    "# Fill Condition with mode\n",
    "house_data['Condition '] = house_data['Condition '].fillna(house_data['Condition '].mode()[0])\n",
    "\n",
    "# Fill House Prices with median\n",
    "house_data['House Prices (Millions)'] = house_data['House Prices (Millions)'].fillna(house_data['House Prices (Millions)'].median())\n",
    "\n",
    "# Fill Year of Construction with median\n",
    "house_data['Year of Construction'] = house_data['Year of Construction'].fillna(house_data['Year of Construction'].median())"
   ]
  },
  {
   "cell_type": "markdown",
   "id": "4c113ffe-040c-45ca-825d-1cc6a9855960",
   "metadata": {},
   "source": [
    "### Key insight\n",
    "The missing values in the dataset were successfully handled by filling Condition with its mode, and both House Prices (Millions) and Year of Construction with their respective medians, ensuring data completeness without skewing distributions. This enables accurate analysis and reliable model training."
   ]
  },
  {
   "cell_type": "markdown",
   "id": "b3ad8d5f-24ef-412c-b5fc-861b2c255278",
   "metadata": {},
   "source": [
    "## Part 1: Central Tendency (Patterns in Data)"
   ]
  },
  {
   "cell_type": "markdown",
   "id": "46067df8-cffa-457a-8e05-37983d1ac6d3",
   "metadata": {},
   "source": [
    "1 - What is the typical house price and rent price in the dataset? Decide whether the mean, median, or mode is the most appropriate measure of   central tendency for these variables, considering the presence of any outliers."
   ]
  },
  {
   "cell_type": "code",
   "execution_count": 34,
   "id": "7023bb96-ba1d-4742-bb9d-6a41fc9383f6",
   "metadata": {},
   "outputs": [
    {
     "name": "stdout",
     "output_type": "stream",
     "text": [
      "Analysis of House Prices and Rent Prices\n",
      " House Prices:\n",
      "  - Mean: 12.00 million\n",
      "  - Median: 10.00 million (typical price)\n",
      "  - Mode: 9.00 million\n",
      " Rent Prices:\n",
      "  - Mean: 30662.16\n",
      "  - Median: 20000.00 (typical price)\n",
      "  - Mode: 20000\n"
     ]
    }
   ],
   "source": [
    "# Calculate statistics\n",
    "house_mean = house_data['House Prices (Millions)'].mean()\n",
    "house_median = house_data['House Prices (Millions)'].median()\n",
    "house_mode = house_data['House Prices (Millions)'].mode()[0]  # Taking the first mode\n",
    "\n",
    "rent_mean = house_data['Rent Prices'].mean()\n",
    "rent_median = house_data['Rent Prices'].median()\n",
    "rent_mode = house_data['Rent Prices'].mode()[0]  # Taking the first mode\n",
    "\n",
    "# Print in the desired format\n",
    "print(f\"Analysis of House Prices and Rent Prices\")\n",
    "print(f\" House Prices:\")\n",
    "print(f\"  - Mean: {house_mean:.2f} million\")\n",
    "print(f\"  - Median: {house_median:.2f} million (typical price)\")\n",
    "print(f\"  - Mode: {house_mode:.2f} million\")\n",
    "print(f\" Rent Prices:\")\n",
    "print(f\"  - Mean: {rent_mean:.2f}\")\n",
    "print(f\"  - Median: {rent_median:.2f} (typical price)\")\n",
    "print(f\"  - Mode: {rent_mode}\")\n"
   ]
  },
  {
   "cell_type": "markdown",
   "id": "5b607744-061f-4311-8b1d-fe42c019f9f1",
   "metadata": {},
   "source": [
    "### Key Insight:\n",
    "The median is the most appropriate measure of central tendency for both house prices and rent prices due to potential skewness in the data, as it is less affected by extreme values or outliers. This provides a robust estimate of the typical price and rent in the dataset. Therefore, the typical house price is 10.0 million, and the typical rent price is 20,000."
   ]
  },
  {
   "cell_type": "markdown",
   "id": "5d72a349-f219-474c-b15f-da5e48a84437",
   "metadata": {},
   "source": [
    "2 - Compare the average number of rooms in houses across different locations. Which location tends to have the most spacious homes?"
   ]
  },
  {
   "cell_type": "code",
   "execution_count": 35,
   "id": "f1377fd0-afd8-4746-b325-be1a201b466e",
   "metadata": {},
   "outputs": [
    {
     "name": "stdout",
     "output_type": "stream",
     "text": [
      "Average number of rooms in houses across different locations:\n",
      "Location\n",
      "Ambore             6.222222\n",
      "Balapeer           3.000000\n",
      "Bela Noor Shah     7.500000\n",
      "Bela noor shah     7.000000\n",
      "Bella Noor Shah    4.000000\n",
      "Chatter            5.300000\n",
      "Chehlla            4.000000\n",
      "Chehlla Bandi      6.000000\n",
      "Chella Bandi       5.000000\n",
      "Gojra              5.588235\n",
      "Jalalabad          7.000000\n",
      "Madina Market      3.000000\n",
      "Naloochi           8.000000\n",
      "Plate              5.090909\n",
      "Tanga Stand        6.000000\n",
      "Tarqabad           5.666667\n",
      "Name: No of Rooms, dtype: float64\n",
      "\n",
      "The location with the most spacious homes is Naloochi with an average of 8.0 rooms.\n"
     ]
    }
   ],
   "source": [
    "# Group by location and calculate the average number of rooms\n",
    "average_rooms_per_location = house_data.groupby('Location')['No of Rooms'].mean()\n",
    "\n",
    "# Find the location with the most spacious homes (highest average number of rooms)\n",
    "most_spacious_location = average_rooms_per_location.idxmax()\n",
    "most_spacious_rooms = average_rooms_per_location.max()\n",
    "\n",
    "# Print the results\n",
    "print(\"Average number of rooms in houses across different locations:\")\n",
    "print(average_rooms_per_location)\n",
    "\n",
    "print(f\"\\nThe location with the most spacious homes is {most_spacious_location} with an average of {most_spacious_rooms} rooms.\")\n"
   ]
  },
  {
   "cell_type": "markdown",
   "id": "c7fe56c7-2b8b-49f6-a508-5c579b223212",
   "metadata": {},
   "source": [
    "## Key insights:\n",
    "#### Most Spacious Location: \n",
    "The location with the most spacious homes is Naloochi, with an average of 8.0 rooms, indicating larger houses compared to other areas.\n",
    "#### Close Competitors: \n",
    "Locations such as Bela Noor Shah (7.5) and Jalalabad (7.0) also have relatively spacious homes.\n",
    "#### Least Spacious Locations: \n",
    "Areas like Balapeer (3.0) and Madina Market (3.0) tend to have smaller homes with fewer rooms.\n",
    "#### Variation in Room Averages: \n",
    "The average number of rooms varies significantly across locations, reflecting diverse housing characteristics in the dataset."
   ]
  },
  {
   "cell_type": "markdown",
   "id": "aca94306-6280-4148-97ca-5b9b27b92da4",
   "metadata": {},
   "source": [
    "3- What is the most common condition of houses (e.g., Good, Fair, Excellent) in the data? Does the majority align with higher or lower prices?"
   ]
  },
  {
   "cell_type": "code",
   "execution_count": 36,
   "id": "b444b89c-1d41-4cf7-bbc0-fc5fdc41bf77",
   "metadata": {},
   "outputs": [
    {
     "name": "stdout",
     "output_type": "stream",
     "text": [
      " -The most common condition of houses is 'Good'.\n",
      " -Average house price for 'Good' condition: 12.95 million.\n",
      " -Overall average house price: 12.00 million.\n",
      " -The majority condition aligns with higher prices.\n"
     ]
    }
   ],
   "source": [
    "# Find the most common condition (mode)\n",
    "most_common_condition = house_data['Condition '].mode()[0]\n",
    "\n",
    "# Group by condition and calculate the average house price\n",
    "average_price_by_condition = house_data.groupby('Condition ')['House Prices (Millions)'].mean()\n",
    "\n",
    "# Identify whether the most common condition aligns with higher or lower prices\n",
    "common_condition_price = average_price_by_condition[most_common_condition]\n",
    "overall_average_price = house_data['House Prices (Millions)'].mean()\n",
    "alignment = \"higher\" if common_condition_price > overall_average_price else \"lower\"\n",
    "\n",
    "# Print results\n",
    "print(f\" -The most common condition of houses is '{most_common_condition}'.\")\n",
    "print(f\" -Average house price for '{most_common_condition}' condition: {common_condition_price:.2f} million.\")\n",
    "print(f\" -Overall average house price: {overall_average_price:.2f} million.\")\n",
    "print(f\" -The majority condition aligns with {alignment} prices.\")\n"
   ]
  },
  {
   "cell_type": "markdown",
   "id": "e13826cd-096c-475f-9022-960a2f4e892c",
   "metadata": {},
   "source": [
    "## key insights:\n",
    "#### Most Common Condition:\n",
    "The most common condition of houses in the dataset is 'Good', indicating that a majority of the houses fall under this category.\n",
    "#### Higher Prices: \n",
    "Houses in 'Good' condition have an average price of 12.95 million, which is slightly higher than the overall average price of 12.00 million.\n",
    "#### Market Alignment: \n",
    "The majority condition aligns with higher prices, suggesting that 'Good' condition homes are generally valued above average in the dataset.\n",
    "#### Condition-Price Correlation: \n",
    "This trend highlights the positive correlation between house condition and price, with better conditions commanding higher values."
   ]
  },
  {
   "cell_type": "markdown",
   "id": "4f21f6f9-886d-4684-94a8-2ba51bc78a37",
   "metadata": {},
   "source": [
    " ## Part 2: Dispersion (Variability in Data)"
   ]
  },
  {
   "cell_type": "markdown",
   "id": "2bcc0f95-c9b1-4b7d-adc3-9570971590bb",
   "metadata": {},
   "source": [
    "1- Which location shows the greatest variability in house prices? Use measures such as range, interquartile range (IQR), or standard deviation to support your conclusion."
   ]
  },
  {
   "cell_type": "code",
   "execution_count": 37,
   "id": "da09f29d-6b2f-4656-8057-3736b47d8a9d",
   "metadata": {},
   "outputs": [
    {
     "name": "stdout",
     "output_type": "stream",
     "text": [
      "Variability by Location:\n",
      "           Location  range   std_dev   iqr\n",
      "0            Ambore   23.0  7.446103  1.00\n",
      "1         Balapeer     0.0       NaN  0.00\n",
      "2    Bela Noor Shah   20.0  9.604686  7.25\n",
      "3    Bela noor shah    8.0  4.358899  4.00\n",
      "4   Bella Noor Shah    3.0  1.732051  1.50\n",
      "5           Chatter    8.0  3.011091  4.50\n",
      "6           Chehlla    7.0  4.949747  3.50\n",
      "7     Chehlla Bandi   13.0  5.560276  4.75\n",
      "8      Chella Bandi    0.0       NaN  0.00\n",
      "9             Gojra   18.0  4.846921  6.00\n",
      "10        Jalalabad   11.0  7.778175  5.50\n",
      "11    Madina Market    0.0       NaN  0.00\n",
      "12         Naloochi   14.0  9.899495  7.00\n",
      "13            Plate   24.0  6.768913  6.00\n",
      "14      Tanga Stand    0.0       NaN  0.00\n",
      "15         Tarqabad    2.0  1.000000  1.00\n",
      "\n",
      "Greatest Variability by Range: Plate (24.0 million)\n",
      "Greatest Variability by Std Dev: Naloochi (9.90 million)\n",
      "Greatest Variability by IQR: Bela Noor Shah (7.25 million)\n"
     ]
    }
   ],
   "source": [
    "# Group by location\n",
    "grouped = house_data.groupby('Location')['House Prices (Millions)']\n",
    "\n",
    "# Calculate range, standard deviation, and IQR\n",
    "ranges = grouped.max() - grouped.min()\n",
    "std_devs = grouped.std()\n",
    "iqrs = grouped.apply(lambda x: np.percentile(x, 75) - np.percentile(x, 25))\n",
    "\n",
    "# Combine results into a single DataFrame\n",
    "metrics = pd.DataFrame({\n",
    "    \"Location\": ranges.index,\n",
    "    \"range\": ranges.values,\n",
    "    \"std_dev\": std_devs.values,\n",
    "    \"iqr\": iqrs.values\n",
    "})\n",
    "\n",
    "# Find maximum variability\n",
    "max_range = metrics.loc[metrics['range'].idxmax()]\n",
    "max_std_dev = metrics.loc[metrics['std_dev'].idxmax()]\n",
    "max_iqr = metrics.loc[metrics['iqr'].idxmax()]\n",
    "\n",
    "# Display results\n",
    "print(\"Variability by Location:\")\n",
    "print(metrics)\n",
    "\n",
    "print(f\"\\nGreatest Variability by Range: {max_range['Location']} ({max_range['range']} million)\")\n",
    "print(f\"Greatest Variability by Std Dev: {max_std_dev['Location']} ({max_std_dev['std_dev']:.2f} million)\")\n",
    "print(f\"Greatest Variability by IQR: {max_iqr['Location']} ({max_iqr['iqr']} million)\")\n"
   ]
  },
  {
   "cell_type": "markdown",
   "id": "7d89fc99-f2a0-4bec-bf6b-f2267e0b2925",
   "metadata": {},
   "source": [
    "## Conclusion:\n",
    "Plate shows the greatest range (24 million), but this may be influenced by an outlier. Naloochi has the highest standard deviation (9.90 million), and Bela Noor Shah has the highest IQR (7.25 million), indicating more consistent variability.\n",
    "\n",
    "## Key Insight:\n",
    "Plate has the highest range, but Naloochi and Bela Noor Shah show greater consistent variability by standard deviation and IQR, respectively."
   ]
  },
  {
   "cell_type": "markdown",
   "id": "c956b332-07ca-4877-bc38-f52865f6c8bd",
   "metadata": {},
   "source": [
    "2- Analyze the variability in rent prices across locations. Are rents more stable in some locations compared to others?"
   ]
  },
  {
   "cell_type": "code",
   "execution_count": 38,
   "id": "a3a1d13b-68ad-4d2f-96cc-c33460543901",
   "metadata": {},
   "outputs": [
    {
     "name": "stdout",
     "output_type": "stream",
     "text": [
      "Rent Variability by Location:\n",
      "           Location   Range  Standard Deviation      IQR\n",
      "0            Ambore   30000        12018.504252  20000.0\n",
      "1         Balapeer        0                 NaN      0.0\n",
      "2    Bela Noor Shah   22000        10436.314803   9250.0\n",
      "3    Bela noor shah  190000        98488.578018  95000.0\n",
      "4   Bella Noor Shah    5000         2886.751346   2500.0\n",
      "5           Chatter   30000         9267.026372   6750.0\n",
      "6           Chehlla   30000        21213.203436  15000.0\n",
      "7     Chehlla Bandi   15000         6454.972244   7500.0\n",
      "8      Chella Bandi       0                 NaN      0.0\n",
      "9             Gojra  297000        67952.892420  10000.0\n",
      "10        Jalalabad   60000        42426.406871  30000.0\n",
      "11    Madina Market       0                 NaN      0.0\n",
      "12         Naloochi    5000         3535.533906   2500.0\n",
      "13            Plate   35000         9234.323325   3500.0\n",
      "14      Tanga Stand       0                 NaN      0.0\n",
      "15         Tarqabad    8000         4358.898944   4000.0\n"
     ]
    }
   ],
   "source": [
    "# Assuming house_data includes rent prices in the 'Rent Prices (Millions)' column\n",
    "grouped_rent = house_data.groupby('Location')['Rent Prices']\n",
    "\n",
    "# Calculate range, standard deviation, and IQR for rent prices\n",
    "rent_ranges = grouped_rent.max() - grouped_rent.min()\n",
    "rent_std_devs = grouped_rent.std()\n",
    "rent_iqrs = grouped_rent.apply(lambda x: np.percentile(x, 75) - np.percentile(x, 25))\n",
    "\n",
    "# Combine results into a single DataFrame for rent prices\n",
    "rent_variability_metrics = pd.DataFrame({\n",
    "    \"Location\": rent_ranges.index,\n",
    "    \"Range\": rent_ranges.values,\n",
    "    \"Standard Deviation\": rent_std_devs.values,\n",
    "    \"IQR\": rent_iqrs.values\n",
    "})\n",
    "\n",
    "# Display results\n",
    "print(\"Rent Variability by Location:\")\n",
    "print(rent_variability_metrics)"
   ]
  },
  {
   "cell_type": "markdown",
   "id": "f808048c-129f-40e4-9d2b-5749ec536a4c",
   "metadata": {},
   "source": [
    "## key insights:\n",
    "Stable Rent Locations: Balapeer, Chella Bandi, Madina Market, and Tanga Stand show low or no variability in rent prices, indicating stability.\n",
    "Variable Rent Locations: Bela noor shah and Gojra have high variability in rent prices, with large ranges, standard deviations, and IQRs."
   ]
  },
  {
   "cell_type": "markdown",
   "id": "3b0ee5a8-1344-4fd5-a633-93602b584fc7",
   "metadata": {},
   "source": [
    "3- Compare the variability in house prices for houses with and without a garden. Do gardens significantly influence the consistency of pricing?"
   ]
  },
  {
   "cell_type": "code",
   "execution_count": 39,
   "id": "6a675d57-670c-4d20-891e-3b136d5dc196",
   "metadata": {},
   "outputs": [
    {
     "name": "stdout",
     "output_type": "stream",
     "text": [
      "House Price Variability by Garden Status:\n",
      "  Garden  Range  Standard Deviation   IQR\n",
      "0     No   14.0            3.682742  2.00\n",
      "1    Yes   23.0            6.404549  6.25\n"
     ]
    }
   ],
   "source": [
    "\n",
    "# Group by garden status and calculate range, standard deviation, and IQR for house prices\n",
    "grouped_garden = house_data.groupby('Garden')['House Prices (Millions)']\n",
    "\n",
    "# Calculate range, standard deviation, and IQR for house prices\n",
    "price_ranges = grouped_garden.max() - grouped_garden.min()\n",
    "price_std_devs = grouped_garden.std()\n",
    "price_iqrs = grouped_garden.apply(lambda x: np.percentile(x, 75) - np.percentile(x, 25))\n",
    "\n",
    "# Combine results into a single DataFrame for house prices with and without gardens\n",
    "price_variability_metrics = pd.DataFrame({\n",
    "    \"Garden\": price_ranges.index,\n",
    "    \"Range\": price_ranges.values,\n",
    "    \"Standard Deviation\": price_std_devs.values,\n",
    "    \"IQR\": price_iqrs.values\n",
    "})\n",
    "\n",
    "# Display results\n",
    "print(\"House Price Variability by Garden Status:\")\n",
    "print(price_variability_metrics)\n"
   ]
  },
  {
   "cell_type": "markdown",
   "id": "43310615-05a1-42ad-b566-b003b39c9163",
   "metadata": {},
   "source": [
    "## Key Insights:\n",
    "\n",
    "#### Houses Without a Garden:\n",
    "Houses without a garden show relatively lower variability in prices, with a smaller IQR and standard deviation, indicating more consistency in pricing.\n",
    "\n",
    "#### Houses With a Garden:\n",
    "Houses with a garden exhibit higher variability, with a larger range, higher standard deviation, and a bigger IQR, suggesting more fluctuation in pricing.\n",
    "\n",
    "#### Conclusion:\n",
    "Houses with a garden tend to have greater variability in prices compared to houses without a garden. The larger range, standard deviation, and IQR for houses with gardens indicate that gardens significantly influence the consistency of house prices, making them more variable."
   ]
  },
  {
   "cell_type": "markdown",
   "id": "ccdcc313-6d26-446c-921e-789f08acab9e",
   "metadata": {},
   "source": [
    "## Part 3: Correlation (Relationships in Data)"
   ]
  },
  {
   "cell_type": "markdown",
   "id": "08f5c2ff-8d3a-4070-815e-e4dbabca217b",
   "metadata": {},
   "source": [
    "1- Is there a relationship between the size of a house (area) and its house price? Use correlation analysis to identify whether larger houses are  priced higher."
   ]
  },
  {
   "cell_type": "code",
   "execution_count": 40,
   "id": "2b962937-008a-405e-95d6-34db28ea4138",
   "metadata": {},
   "outputs": [
    {
     "name": "stdout",
     "output_type": "stream",
     "text": [
      "Correlation between House Area and House Price: 0.6660582581828108\n"
     ]
    }
   ],
   "source": [
    "# Assuming 'house_data' contains the columns 'Area' for size and 'House Price' for price\n",
    "correlation = house_data['Area (Marla)'].corr(house_data['House Prices (Millions)'])\n",
    "\n",
    "print(f\"Correlation between House Area and House Price: {correlation}\")"
   ]
  },
  {
   "cell_type": "markdown",
   "id": "3a8bfb47-d970-4fd6-b428-3e8a95ab2b79",
   "metadata": {},
   "source": [
    "## Key insights:\n",
    "The correlation coefficient of 0.67 indicates a moderate positive relationship between house area and house price. This suggests that, on average, larger houses tend to have higher prices, although other factors may also influence the price. While the correlation is not perfect, there is a noticeable trend where increasing house size is associated with an increase in price."
   ]
  },
  {
   "cell_type": "markdown",
   "id": "b4541dd4-7bdb-4a8c-bd82-e7ffab4f0d86",
   "metadata": {},
   "source": [
    "2-Investigate whether the number of rooms or the number of washrooms has a stronger correlation with rent prices."
   ]
  },
  {
   "cell_type": "code",
   "execution_count": 41,
   "id": "a1ab48c8-2e95-4f06-b1de-684eab053b5a",
   "metadata": {},
   "outputs": [
    {
     "name": "stdout",
     "output_type": "stream",
     "text": [
      "Correlation between Number of Rooms and Rent Prices: 0.2611970960304241\n",
      "Correlation between Number of Washrooms and Rent Prices: 0.27070307991104675\n"
     ]
    }
   ],
   "source": [
    "# Calculate the correlation coefficients\n",
    "corr_rooms_rent = house_data['No of Rooms'].corr(house_data['Rent Prices'])\n",
    "corr_washrooms_rent = house_data['No of Washrooms'].corr(house_data['Rent Prices'])\n",
    "\n",
    "# Display the results\n",
    "print(f\"Correlation between Number of Rooms and Rent Prices: {corr_rooms_rent}\")\n",
    "print(f\"Correlation between Number of Washrooms and Rent Prices: {corr_washrooms_rent}\")\n",
    "\n",
    "# Based on these results, we can interpret which feature has a stronger relationship with rent prices."
   ]
  },
  {
   "cell_type": "markdown",
   "id": "c273a02f-2ec1-420a-a785-00eee11e1e2b",
   "metadata": {},
   "source": [
    "## Key insights:\n",
    "The number of washrooms has a slightly stronger positive correlation with rent prices compared to the number of rooms. While both correlations are relatively weak, the data suggests that the number of washrooms might be a slightly more influential factor in determining rent prices than the number of rooms."
   ]
  },
  {
   "cell_type": "markdown",
   "id": "b9d772ae-5263-4a07-8d7f-4d9789b7af70",
   "metadata": {},
   "source": [
    "3- Does the year of construction correlate with house prices? For example, are newer houses priced higher, or is the relationship weak?"
   ]
  },
  {
   "cell_type": "code",
   "execution_count": 42,
   "id": "54286de8-25d1-48c8-99a3-acc1aa8b9ede",
   "metadata": {},
   "outputs": [
    {
     "name": "stdout",
     "output_type": "stream",
     "text": [
      "Correlation between Year of Construction and House Price: -0.07279394977179576\n"
     ]
    }
   ],
   "source": [
    "\n",
    "correlation = house_data['Year of Construction'].corr(house_data['House Prices (Millions)'])\n",
    "\n",
    "# Print the correlation result\n",
    "print(\"Correlation between Year of Construction and House Price:\", correlation)\n"
   ]
  },
  {
   "cell_type": "markdown",
   "id": "40d73ad6-caf8-4f2d-a737-b1660c48f3bd",
   "metadata": {},
   "source": [
    "## Key insights:\n",
    "The correlation between the year of construction and house price is -0.0728, indicating a very weak negative relationship. This suggests that the age of the house has little to no effect on its price, and factors like location, size, and condition are more likely to influence pricing."
   ]
  }
 ],
 "metadata": {
  "kernelspec": {
   "display_name": "Python 3 (ipykernel)",
   "language": "python",
   "name": "python3"
  },
  "language_info": {
   "codemirror_mode": {
    "name": "ipython",
    "version": 3
   },
   "file_extension": ".py",
   "mimetype": "text/x-python",
   "name": "python",
   "nbconvert_exporter": "python",
   "pygments_lexer": "ipython3",
   "version": "3.13.0"
  }
 },
 "nbformat": 4,
 "nbformat_minor": 5
}
