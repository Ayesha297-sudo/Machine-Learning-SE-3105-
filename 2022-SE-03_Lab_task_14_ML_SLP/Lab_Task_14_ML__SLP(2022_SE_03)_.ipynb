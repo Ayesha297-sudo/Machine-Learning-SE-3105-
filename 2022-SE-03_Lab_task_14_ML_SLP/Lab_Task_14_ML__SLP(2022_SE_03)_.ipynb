{
  "cells": [
    {
      "cell_type": "markdown",
      "metadata": {
        "id": "9ti4BX2LZFoC"
      },
      "source": [
        "## **Implementing a Perceptron for a 3-Input OR Gate**"
      ]
    },
    {
      "cell_type": "code",
      "execution_count": 82,
      "metadata": {
        "id": "M4b3ouECZt5P"
      },
      "outputs": [],
      "source": [
        "#import Necessary libraries\n",
        "import numpy as np\n",
        "\n",
        "# Activation function\n",
        "\n",
        "def activation(value):\n",
        "    return 1 if value >= 0 else 0"
      ]
    },
    {
      "cell_type": "code",
      "execution_count": 88,
      "metadata": {
        "id": "_9DC0v9SZYys"
      },
      "outputs": [],
      "source": [
        "# Perceptron Training Function\n",
        "def train_perceptron(X, y, learning_rate=0.1, epochs=10):\n",
        "    num_features = X.shape[1]  # Number of input features (columns)\n",
        "    weights = np.zeros(num_features + 1)  # Initialize weights (including bias) with 0\n",
        "    print(\"Initial Weights:\", weights)\n",
        "\n",
        "    # Training Loop\n",
        "    for epoch in range(epochs):\n",
        "        total_error = 0  # Track errors in this epoch\n",
        "        for i in range(len(X)):\n",
        "            x_with_bias = np.insert(X[i], 0, 1)  # Add bias term (1 at index 0)\n",
        "            weighted_sum = np.dot(weights, x_with_bias)  # Compute weighted sum\n",
        "            y_pred = activation(weighted_sum)  # Apply Step Activation Function\n",
        "            error = y[i] - y_pred  # Compute error\n",
        "            total_error += abs(error)  # Accumulate total error\n",
        "\n",
        "            # Update Weights: w = w + η(y_true - y_pred) * x\n",
        "            weights += learning_rate * error * x_with_bias\n",
        "\n",
        "        print(f\"Epoch {epoch+1}: Weights = {weights}, Total Error = {total_error}\")\n",
        "\n",
        "        if total_error == 0:\n",
        "            break  # Stop early if no errors\n",
        "\n",
        "    return weights  # Return trained weights"
      ]
    },
    {
      "cell_type": "code",
      "execution_count": 90,
      "metadata": {
        "id": "mbWn3v2ZnG_u"
      },
      "outputs": [],
      "source": [
        "# Prediction function\n",
        "# Prediction Function\n",
        "def predict(X, weights):\n",
        "    predictions = []\n",
        "    for i in range(len(X)):\n",
        "        x_with_bias = np.insert(X[i], 0, 1)  # Add bias term\n",
        "        weighted_sum = np.dot(weights, x_with_bias)  # Compute weighted sum\n",
        "        y_pred = activation(weighted_sum)  # Apply Step Activation Function\n",
        "        predictions.append(y_pred)\n",
        "    return predictions"
      ]
    },
    {
      "cell_type": "code",
      "execution_count": 91,
      "metadata": {
        "id": "gOgFt_cin0gY"
      },
      "outputs": [],
      "source": [
        "# Input features for 3-input OR gate\n",
        "data_samples = np.array([\n",
        "    [0, 0, 0],\n",
        "    [0, 0, 1],\n",
        "    [0, 1, 0],\n",
        "    [0, 1, 1],\n",
        "    [1, 0, 0],\n",
        "    [1, 0, 1],\n",
        "    [1, 1, 0],\n",
        "    [1, 1, 1]\n",
        "])\n",
        "labels = np.array([0, 1, 1, 1, 1, 1, 1, 1])  # OR gate output"
      ]
    },
    {
      "cell_type": "code",
      "source": [
        "# Train the model\n",
        "weights = train_perceptron(data_samples, labels)"
      ],
      "metadata": {
        "colab": {
          "base_uri": "https://localhost:8080/"
        },
        "id": "iPzdXbmBTZFK",
        "outputId": "c152942b-9f0f-453d-a6cd-c7a22c88461f"
      },
      "execution_count": 93,
      "outputs": [
        {
          "output_type": "stream",
          "name": "stdout",
          "text": [
            "Initial Weights: [0. 0. 0. 0.]\n",
            "Epoch 1: Weights = [0.  0.  0.  0.1], Total Error = 2\n",
            "Epoch 2: Weights = [0.  0.  0.1 0.1], Total Error = 2\n",
            "Epoch 3: Weights = [0.  0.1 0.1 0.1], Total Error = 2\n",
            "Epoch 4: Weights = [-0.1  0.1  0.1  0.1], Total Error = 1\n",
            "Epoch 5: Weights = [-0.1  0.1  0.1  0.1], Total Error = 0\n"
          ]
        }
      ]
    },
    {
      "cell_type": "code",
      "source": [
        "# Test the trained perceptron\n",
        "predictions = predict(data_samples, weights)\n",
        "print(\"\\nFinal Predictions:\")\n",
        "for i in range(len(data_samples)):\n",
        "    print(f\"Input: {data_samples[i]}, Predicted: {predictions[i]}, Actual: {labels[i]}\")"
      ],
      "metadata": {
        "id": "mjVE4gAoTR3M",
        "colab": {
          "base_uri": "https://localhost:8080/"
        },
        "outputId": "7b9da1b7-b4c2-4d2e-f9ae-62f978714275"
      },
      "execution_count": 95,
      "outputs": [
        {
          "output_type": "stream",
          "name": "stdout",
          "text": [
            "\n",
            "Final Predictions:\n",
            "Input: [0 0 0], Predicted: 0, Actual: 0\n",
            "Input: [0 0 1], Predicted: 1, Actual: 1\n",
            "Input: [0 1 0], Predicted: 1, Actual: 1\n",
            "Input: [0 1 1], Predicted: 1, Actual: 1\n",
            "Input: [1 0 0], Predicted: 1, Actual: 1\n",
            "Input: [1 0 1], Predicted: 1, Actual: 1\n",
            "Input: [1 1 0], Predicted: 1, Actual: 1\n",
            "Input: [1 1 1], Predicted: 1, Actual: 1\n"
          ]
        }
      ]
    },
    {
      "cell_type": "code",
      "source": [],
      "metadata": {
        "id": "kz8lUkKgc9Br"
      },
      "execution_count": null,
      "outputs": []
    }
  ],
  "metadata": {
    "colab": {
      "provenance": []
    },
    "kernelspec": {
      "display_name": "Python 3",
      "name": "python3"
    },
    "language_info": {
      "name": "python"
    }
  },
  "nbformat": 4,
  "nbformat_minor": 0
}