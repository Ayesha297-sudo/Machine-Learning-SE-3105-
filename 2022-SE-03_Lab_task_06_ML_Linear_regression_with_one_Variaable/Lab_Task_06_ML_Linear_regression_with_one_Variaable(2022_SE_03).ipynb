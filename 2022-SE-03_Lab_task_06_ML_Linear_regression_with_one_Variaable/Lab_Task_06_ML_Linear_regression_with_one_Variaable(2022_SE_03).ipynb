{
  "cells": [
    {
      "cell_type": "markdown",
      "metadata": {
        "id": "9ti4BX2LZFoC"
      },
      "source": [
        "## **Linear Regression with One Variable: Predicting Trip Price Based on Distance**"
      ]
    },
    {
      "cell_type": "code",
      "execution_count": 1,
      "metadata": {
        "id": "M4b3ouECZt5P"
      },
      "outputs": [],
      "source": [
        "#import Necessary libraries\n",
        "import pandas as pd\n",
        "import numpy as np\n",
        "import matplotlib.pyplot as plt\n",
        "import seaborn as sns\n",
        "from sklearn.model_selection import train_test_split\n",
        "from sklearn.preprocessing import StandardScaler, OneHotEncoder,OrdinalEncoder\n",
        "from sklearn.impute import SimpleImputer\n",
        "from sklearn.linear_model import LinearRegression\n",
        "from sklearn.metrics import r2_score, mean_squared_error\n",
        "import warnings\n",
        "warnings.filterwarnings('ignore')"
      ]
    },
    {
      "cell_type": "code",
      "execution_count": 2,
      "metadata": {
        "colab": {
          "base_uri": "https://localhost:8080/",
          "height": 383
        },
        "id": "_9DC0v9SZYys",
        "outputId": "06c8c67a-7165-4f88-e7ab-b82a62538685"
      },
      "outputs": [
        {
          "output_type": "execute_result",
          "data": {
            "text/plain": [
              "   Trip_Distance_km Time_of_Day Day_of_Week  Passenger_Count  \\\n",
              "0             19.35     Morning     Weekday              3.0   \n",
              "1             47.59   Afternoon     Weekday              1.0   \n",
              "2             36.87     Evening     Weekend              1.0   \n",
              "3             30.33     Evening     Weekday              4.0   \n",
              "4               NaN     Evening     Weekday              3.0   \n",
              "5              8.64   Afternoon     Weekend              2.0   \n",
              "6              3.85   Afternoon     Weekday              4.0   \n",
              "7             43.44     Evening     Weekend              3.0   \n",
              "8             30.45     Morning     Weekday              3.0   \n",
              "9             35.70   Afternoon     Weekday              2.0   \n",
              "\n",
              "  Traffic_Conditions Weather  Base_Fare  Per_Km_Rate  Per_Minute_Rate  \\\n",
              "0                Low   Clear       3.56         0.80             0.32   \n",
              "1               High   Clear        NaN         0.62             0.43   \n",
              "2               High   Clear       2.70         1.21             0.15   \n",
              "3                Low     NaN       3.48         0.51             0.15   \n",
              "4               High   Clear       2.93         0.63             0.32   \n",
              "5             Medium   Clear       2.55         1.71             0.48   \n",
              "6               High    Rain       3.51         1.66              NaN   \n",
              "7                NaN   Clear       2.97         1.87             0.23   \n",
              "8               High   Clear       2.77         1.78             0.34   \n",
              "9                Low    Rain       3.39         1.52             0.47   \n",
              "\n",
              "   Trip_Duration_Minutes  Trip_Price  \n",
              "0                  53.82     36.2624  \n",
              "1                  40.57         NaN  \n",
              "2                  37.27     52.9032  \n",
              "3                 116.81     36.4698  \n",
              "4                  22.64     15.6180  \n",
              "5                  89.33     60.2028  \n",
              "6                   5.05     11.2645  \n",
              "7                    NaN    101.1216  \n",
              "8                 110.33         NaN  \n",
              "9                    NaN     75.5657  "
            ],
            "text/html": [
              "\n",
              "  <div id=\"df-1843b92c-1725-4a79-a1ff-09c67370b980\" class=\"colab-df-container\">\n",
              "    <div>\n",
              "<style scoped>\n",
              "    .dataframe tbody tr th:only-of-type {\n",
              "        vertical-align: middle;\n",
              "    }\n",
              "\n",
              "    .dataframe tbody tr th {\n",
              "        vertical-align: top;\n",
              "    }\n",
              "\n",
              "    .dataframe thead th {\n",
              "        text-align: right;\n",
              "    }\n",
              "</style>\n",
              "<table border=\"1\" class=\"dataframe\">\n",
              "  <thead>\n",
              "    <tr style=\"text-align: right;\">\n",
              "      <th></th>\n",
              "      <th>Trip_Distance_km</th>\n",
              "      <th>Time_of_Day</th>\n",
              "      <th>Day_of_Week</th>\n",
              "      <th>Passenger_Count</th>\n",
              "      <th>Traffic_Conditions</th>\n",
              "      <th>Weather</th>\n",
              "      <th>Base_Fare</th>\n",
              "      <th>Per_Km_Rate</th>\n",
              "      <th>Per_Minute_Rate</th>\n",
              "      <th>Trip_Duration_Minutes</th>\n",
              "      <th>Trip_Price</th>\n",
              "    </tr>\n",
              "  </thead>\n",
              "  <tbody>\n",
              "    <tr>\n",
              "      <th>0</th>\n",
              "      <td>19.35</td>\n",
              "      <td>Morning</td>\n",
              "      <td>Weekday</td>\n",
              "      <td>3.0</td>\n",
              "      <td>Low</td>\n",
              "      <td>Clear</td>\n",
              "      <td>3.56</td>\n",
              "      <td>0.80</td>\n",
              "      <td>0.32</td>\n",
              "      <td>53.82</td>\n",
              "      <td>36.2624</td>\n",
              "    </tr>\n",
              "    <tr>\n",
              "      <th>1</th>\n",
              "      <td>47.59</td>\n",
              "      <td>Afternoon</td>\n",
              "      <td>Weekday</td>\n",
              "      <td>1.0</td>\n",
              "      <td>High</td>\n",
              "      <td>Clear</td>\n",
              "      <td>NaN</td>\n",
              "      <td>0.62</td>\n",
              "      <td>0.43</td>\n",
              "      <td>40.57</td>\n",
              "      <td>NaN</td>\n",
              "    </tr>\n",
              "    <tr>\n",
              "      <th>2</th>\n",
              "      <td>36.87</td>\n",
              "      <td>Evening</td>\n",
              "      <td>Weekend</td>\n",
              "      <td>1.0</td>\n",
              "      <td>High</td>\n",
              "      <td>Clear</td>\n",
              "      <td>2.70</td>\n",
              "      <td>1.21</td>\n",
              "      <td>0.15</td>\n",
              "      <td>37.27</td>\n",
              "      <td>52.9032</td>\n",
              "    </tr>\n",
              "    <tr>\n",
              "      <th>3</th>\n",
              "      <td>30.33</td>\n",
              "      <td>Evening</td>\n",
              "      <td>Weekday</td>\n",
              "      <td>4.0</td>\n",
              "      <td>Low</td>\n",
              "      <td>NaN</td>\n",
              "      <td>3.48</td>\n",
              "      <td>0.51</td>\n",
              "      <td>0.15</td>\n",
              "      <td>116.81</td>\n",
              "      <td>36.4698</td>\n",
              "    </tr>\n",
              "    <tr>\n",
              "      <th>4</th>\n",
              "      <td>NaN</td>\n",
              "      <td>Evening</td>\n",
              "      <td>Weekday</td>\n",
              "      <td>3.0</td>\n",
              "      <td>High</td>\n",
              "      <td>Clear</td>\n",
              "      <td>2.93</td>\n",
              "      <td>0.63</td>\n",
              "      <td>0.32</td>\n",
              "      <td>22.64</td>\n",
              "      <td>15.6180</td>\n",
              "    </tr>\n",
              "    <tr>\n",
              "      <th>5</th>\n",
              "      <td>8.64</td>\n",
              "      <td>Afternoon</td>\n",
              "      <td>Weekend</td>\n",
              "      <td>2.0</td>\n",
              "      <td>Medium</td>\n",
              "      <td>Clear</td>\n",
              "      <td>2.55</td>\n",
              "      <td>1.71</td>\n",
              "      <td>0.48</td>\n",
              "      <td>89.33</td>\n",
              "      <td>60.2028</td>\n",
              "    </tr>\n",
              "    <tr>\n",
              "      <th>6</th>\n",
              "      <td>3.85</td>\n",
              "      <td>Afternoon</td>\n",
              "      <td>Weekday</td>\n",
              "      <td>4.0</td>\n",
              "      <td>High</td>\n",
              "      <td>Rain</td>\n",
              "      <td>3.51</td>\n",
              "      <td>1.66</td>\n",
              "      <td>NaN</td>\n",
              "      <td>5.05</td>\n",
              "      <td>11.2645</td>\n",
              "    </tr>\n",
              "    <tr>\n",
              "      <th>7</th>\n",
              "      <td>43.44</td>\n",
              "      <td>Evening</td>\n",
              "      <td>Weekend</td>\n",
              "      <td>3.0</td>\n",
              "      <td>NaN</td>\n",
              "      <td>Clear</td>\n",
              "      <td>2.97</td>\n",
              "      <td>1.87</td>\n",
              "      <td>0.23</td>\n",
              "      <td>NaN</td>\n",
              "      <td>101.1216</td>\n",
              "    </tr>\n",
              "    <tr>\n",
              "      <th>8</th>\n",
              "      <td>30.45</td>\n",
              "      <td>Morning</td>\n",
              "      <td>Weekday</td>\n",
              "      <td>3.0</td>\n",
              "      <td>High</td>\n",
              "      <td>Clear</td>\n",
              "      <td>2.77</td>\n",
              "      <td>1.78</td>\n",
              "      <td>0.34</td>\n",
              "      <td>110.33</td>\n",
              "      <td>NaN</td>\n",
              "    </tr>\n",
              "    <tr>\n",
              "      <th>9</th>\n",
              "      <td>35.70</td>\n",
              "      <td>Afternoon</td>\n",
              "      <td>Weekday</td>\n",
              "      <td>2.0</td>\n",
              "      <td>Low</td>\n",
              "      <td>Rain</td>\n",
              "      <td>3.39</td>\n",
              "      <td>1.52</td>\n",
              "      <td>0.47</td>\n",
              "      <td>NaN</td>\n",
              "      <td>75.5657</td>\n",
              "    </tr>\n",
              "  </tbody>\n",
              "</table>\n",
              "</div>\n",
              "    <div class=\"colab-df-buttons\">\n",
              "\n",
              "  <div class=\"colab-df-container\">\n",
              "    <button class=\"colab-df-convert\" onclick=\"convertToInteractive('df-1843b92c-1725-4a79-a1ff-09c67370b980')\"\n",
              "            title=\"Convert this dataframe to an interactive table.\"\n",
              "            style=\"display:none;\">\n",
              "\n",
              "  <svg xmlns=\"http://www.w3.org/2000/svg\" height=\"24px\" viewBox=\"0 -960 960 960\">\n",
              "    <path d=\"M120-120v-720h720v720H120Zm60-500h600v-160H180v160Zm220 220h160v-160H400v160Zm0 220h160v-160H400v160ZM180-400h160v-160H180v160Zm440 0h160v-160H620v160ZM180-180h160v-160H180v160Zm440 0h160v-160H620v160Z\"/>\n",
              "  </svg>\n",
              "    </button>\n",
              "\n",
              "  <style>\n",
              "    .colab-df-container {\n",
              "      display:flex;\n",
              "      gap: 12px;\n",
              "    }\n",
              "\n",
              "    .colab-df-convert {\n",
              "      background-color: #E8F0FE;\n",
              "      border: none;\n",
              "      border-radius: 50%;\n",
              "      cursor: pointer;\n",
              "      display: none;\n",
              "      fill: #1967D2;\n",
              "      height: 32px;\n",
              "      padding: 0 0 0 0;\n",
              "      width: 32px;\n",
              "    }\n",
              "\n",
              "    .colab-df-convert:hover {\n",
              "      background-color: #E2EBFA;\n",
              "      box-shadow: 0px 1px 2px rgba(60, 64, 67, 0.3), 0px 1px 3px 1px rgba(60, 64, 67, 0.15);\n",
              "      fill: #174EA6;\n",
              "    }\n",
              "\n",
              "    .colab-df-buttons div {\n",
              "      margin-bottom: 4px;\n",
              "    }\n",
              "\n",
              "    [theme=dark] .colab-df-convert {\n",
              "      background-color: #3B4455;\n",
              "      fill: #D2E3FC;\n",
              "    }\n",
              "\n",
              "    [theme=dark] .colab-df-convert:hover {\n",
              "      background-color: #434B5C;\n",
              "      box-shadow: 0px 1px 3px 1px rgba(0, 0, 0, 0.15);\n",
              "      filter: drop-shadow(0px 1px 2px rgba(0, 0, 0, 0.3));\n",
              "      fill: #FFFFFF;\n",
              "    }\n",
              "  </style>\n",
              "\n",
              "    <script>\n",
              "      const buttonEl =\n",
              "        document.querySelector('#df-1843b92c-1725-4a79-a1ff-09c67370b980 button.colab-df-convert');\n",
              "      buttonEl.style.display =\n",
              "        google.colab.kernel.accessAllowed ? 'block' : 'none';\n",
              "\n",
              "      async function convertToInteractive(key) {\n",
              "        const element = document.querySelector('#df-1843b92c-1725-4a79-a1ff-09c67370b980');\n",
              "        const dataTable =\n",
              "          await google.colab.kernel.invokeFunction('convertToInteractive',\n",
              "                                                    [key], {});\n",
              "        if (!dataTable) return;\n",
              "\n",
              "        const docLinkHtml = 'Like what you see? Visit the ' +\n",
              "          '<a target=\"_blank\" href=https://colab.research.google.com/notebooks/data_table.ipynb>data table notebook</a>'\n",
              "          + ' to learn more about interactive tables.';\n",
              "        element.innerHTML = '';\n",
              "        dataTable['output_type'] = 'display_data';\n",
              "        await google.colab.output.renderOutput(dataTable, element);\n",
              "        const docLink = document.createElement('div');\n",
              "        docLink.innerHTML = docLinkHtml;\n",
              "        element.appendChild(docLink);\n",
              "      }\n",
              "    </script>\n",
              "  </div>\n",
              "\n",
              "\n",
              "<div id=\"df-1cce4391-00f9-4f00-8ebd-b751cdda9a6b\">\n",
              "  <button class=\"colab-df-quickchart\" onclick=\"quickchart('df-1cce4391-00f9-4f00-8ebd-b751cdda9a6b')\"\n",
              "            title=\"Suggest charts\"\n",
              "            style=\"display:none;\">\n",
              "\n",
              "<svg xmlns=\"http://www.w3.org/2000/svg\" height=\"24px\"viewBox=\"0 0 24 24\"\n",
              "     width=\"24px\">\n",
              "    <g>\n",
              "        <path d=\"M19 3H5c-1.1 0-2 .9-2 2v14c0 1.1.9 2 2 2h14c1.1 0 2-.9 2-2V5c0-1.1-.9-2-2-2zM9 17H7v-7h2v7zm4 0h-2V7h2v10zm4 0h-2v-4h2v4z\"/>\n",
              "    </g>\n",
              "</svg>\n",
              "  </button>\n",
              "\n",
              "<style>\n",
              "  .colab-df-quickchart {\n",
              "      --bg-color: #E8F0FE;\n",
              "      --fill-color: #1967D2;\n",
              "      --hover-bg-color: #E2EBFA;\n",
              "      --hover-fill-color: #174EA6;\n",
              "      --disabled-fill-color: #AAA;\n",
              "      --disabled-bg-color: #DDD;\n",
              "  }\n",
              "\n",
              "  [theme=dark] .colab-df-quickchart {\n",
              "      --bg-color: #3B4455;\n",
              "      --fill-color: #D2E3FC;\n",
              "      --hover-bg-color: #434B5C;\n",
              "      --hover-fill-color: #FFFFFF;\n",
              "      --disabled-bg-color: #3B4455;\n",
              "      --disabled-fill-color: #666;\n",
              "  }\n",
              "\n",
              "  .colab-df-quickchart {\n",
              "    background-color: var(--bg-color);\n",
              "    border: none;\n",
              "    border-radius: 50%;\n",
              "    cursor: pointer;\n",
              "    display: none;\n",
              "    fill: var(--fill-color);\n",
              "    height: 32px;\n",
              "    padding: 0;\n",
              "    width: 32px;\n",
              "  }\n",
              "\n",
              "  .colab-df-quickchart:hover {\n",
              "    background-color: var(--hover-bg-color);\n",
              "    box-shadow: 0 1px 2px rgba(60, 64, 67, 0.3), 0 1px 3px 1px rgba(60, 64, 67, 0.15);\n",
              "    fill: var(--button-hover-fill-color);\n",
              "  }\n",
              "\n",
              "  .colab-df-quickchart-complete:disabled,\n",
              "  .colab-df-quickchart-complete:disabled:hover {\n",
              "    background-color: var(--disabled-bg-color);\n",
              "    fill: var(--disabled-fill-color);\n",
              "    box-shadow: none;\n",
              "  }\n",
              "\n",
              "  .colab-df-spinner {\n",
              "    border: 2px solid var(--fill-color);\n",
              "    border-color: transparent;\n",
              "    border-bottom-color: var(--fill-color);\n",
              "    animation:\n",
              "      spin 1s steps(1) infinite;\n",
              "  }\n",
              "\n",
              "  @keyframes spin {\n",
              "    0% {\n",
              "      border-color: transparent;\n",
              "      border-bottom-color: var(--fill-color);\n",
              "      border-left-color: var(--fill-color);\n",
              "    }\n",
              "    20% {\n",
              "      border-color: transparent;\n",
              "      border-left-color: var(--fill-color);\n",
              "      border-top-color: var(--fill-color);\n",
              "    }\n",
              "    30% {\n",
              "      border-color: transparent;\n",
              "      border-left-color: var(--fill-color);\n",
              "      border-top-color: var(--fill-color);\n",
              "      border-right-color: var(--fill-color);\n",
              "    }\n",
              "    40% {\n",
              "      border-color: transparent;\n",
              "      border-right-color: var(--fill-color);\n",
              "      border-top-color: var(--fill-color);\n",
              "    }\n",
              "    60% {\n",
              "      border-color: transparent;\n",
              "      border-right-color: var(--fill-color);\n",
              "    }\n",
              "    80% {\n",
              "      border-color: transparent;\n",
              "      border-right-color: var(--fill-color);\n",
              "      border-bottom-color: var(--fill-color);\n",
              "    }\n",
              "    90% {\n",
              "      border-color: transparent;\n",
              "      border-bottom-color: var(--fill-color);\n",
              "    }\n",
              "  }\n",
              "</style>\n",
              "\n",
              "  <script>\n",
              "    async function quickchart(key) {\n",
              "      const quickchartButtonEl =\n",
              "        document.querySelector('#' + key + ' button');\n",
              "      quickchartButtonEl.disabled = true;  // To prevent multiple clicks.\n",
              "      quickchartButtonEl.classList.add('colab-df-spinner');\n",
              "      try {\n",
              "        const charts = await google.colab.kernel.invokeFunction(\n",
              "            'suggestCharts', [key], {});\n",
              "      } catch (error) {\n",
              "        console.error('Error during call to suggestCharts:', error);\n",
              "      }\n",
              "      quickchartButtonEl.classList.remove('colab-df-spinner');\n",
              "      quickchartButtonEl.classList.add('colab-df-quickchart-complete');\n",
              "    }\n",
              "    (() => {\n",
              "      let quickchartButtonEl =\n",
              "        document.querySelector('#df-1cce4391-00f9-4f00-8ebd-b751cdda9a6b button');\n",
              "      quickchartButtonEl.style.display =\n",
              "        google.colab.kernel.accessAllowed ? 'block' : 'none';\n",
              "    })();\n",
              "  </script>\n",
              "</div>\n",
              "\n",
              "    </div>\n",
              "  </div>\n"
            ],
            "application/vnd.google.colaboratory.intrinsic+json": {
              "type": "dataframe",
              "variable_name": "df",
              "summary": "{\n  \"name\": \"df\",\n  \"rows\": 1000,\n  \"fields\": [\n    {\n      \"column\": \"Trip_Distance_km\",\n      \"properties\": {\n        \"dtype\": \"number\",\n        \"std\": 19.905299790336905,\n        \"min\": 1.23,\n        \"max\": 146.0670472,\n        \"num_unique_values\": 867,\n        \"samples\": [\n          39.04,\n          19.37,\n          49.36\n        ],\n        \"semantic_type\": \"\",\n        \"description\": \"\"\n      }\n    },\n    {\n      \"column\": \"Time_of_Day\",\n      \"properties\": {\n        \"dtype\": \"category\",\n        \"num_unique_values\": 4,\n        \"samples\": [\n          \"Afternoon\",\n          \"Night\",\n          \"Morning\"\n        ],\n        \"semantic_type\": \"\",\n        \"description\": \"\"\n      }\n    },\n    {\n      \"column\": \"Day_of_Week\",\n      \"properties\": {\n        \"dtype\": \"category\",\n        \"num_unique_values\": 2,\n        \"samples\": [\n          \"Weekend\",\n          \"Weekday\"\n        ],\n        \"semantic_type\": \"\",\n        \"description\": \"\"\n      }\n    },\n    {\n      \"column\": \"Passenger_Count\",\n      \"properties\": {\n        \"dtype\": \"number\",\n        \"std\": 1.1022491262257013,\n        \"min\": 1.0,\n        \"max\": 4.0,\n        \"num_unique_values\": 4,\n        \"samples\": [\n          1.0,\n          2.0\n        ],\n        \"semantic_type\": \"\",\n        \"description\": \"\"\n      }\n    },\n    {\n      \"column\": \"Traffic_Conditions\",\n      \"properties\": {\n        \"dtype\": \"category\",\n        \"num_unique_values\": 3,\n        \"samples\": [\n          \"Low\",\n          \"High\"\n        ],\n        \"semantic_type\": \"\",\n        \"description\": \"\"\n      }\n    },\n    {\n      \"column\": \"Weather\",\n      \"properties\": {\n        \"dtype\": \"category\",\n        \"num_unique_values\": 3,\n        \"samples\": [\n          \"Clear\",\n          \"Rain\"\n        ],\n        \"semantic_type\": \"\",\n        \"description\": \"\"\n      }\n    },\n    {\n      \"column\": \"Base_Fare\",\n      \"properties\": {\n        \"dtype\": \"number\",\n        \"std\": 0.8701619278680248,\n        \"min\": 2.01,\n        \"max\": 5.0,\n        \"num_unique_values\": 290,\n        \"samples\": [\n          3.35,\n          3.62\n        ],\n        \"semantic_type\": \"\",\n        \"description\": \"\"\n      }\n    },\n    {\n      \"column\": \"Per_Km_Rate\",\n      \"properties\": {\n        \"dtype\": \"number\",\n        \"std\": 0.4298158687087343,\n        \"min\": 0.5,\n        \"max\": 2.0,\n        \"num_unique_values\": 150,\n        \"samples\": [\n          0.96,\n          0.82\n        ],\n        \"semantic_type\": \"\",\n        \"description\": \"\"\n      }\n    },\n    {\n      \"column\": \"Per_Minute_Rate\",\n      \"properties\": {\n        \"dtype\": \"number\",\n        \"std\": 0.11559177133688461,\n        \"min\": 0.1,\n        \"max\": 0.5,\n        \"num_unique_values\": 41,\n        \"samples\": [\n          0.42,\n          0.25\n        ],\n        \"semantic_type\": \"\",\n        \"description\": \"\"\n      }\n    },\n    {\n      \"column\": \"Trip_Duration_Minutes\",\n      \"properties\": {\n        \"dtype\": \"number\",\n        \"std\": 32.1544064686338,\n        \"min\": 5.01,\n        \"max\": 119.84,\n        \"num_unique_values\": 917,\n        \"samples\": [\n          72.77,\n          95.55\n        ],\n        \"semantic_type\": \"\",\n        \"description\": \"\"\n      }\n    },\n    {\n      \"column\": \"Trip_Price\",\n      \"properties\": {\n        \"dtype\": \"number\",\n        \"std\": 40.46979055038687,\n        \"min\": 6.1269,\n        \"max\": 332.0436887,\n        \"num_unique_values\": 951,\n        \"samples\": [\n          31.3844,\n          97.4848\n        ],\n        \"semantic_type\": \"\",\n        \"description\": \"\"\n      }\n    }\n  ]\n}"
            }
          },
          "metadata": {},
          "execution_count": 2
        }
      ],
      "source": [
        "#load dataset\n",
        "df = pd.read_csv('/content/taxi_trip_pricing.csv')\n",
        "df.head(10)"
      ]
    },
    {
      "cell_type": "markdown",
      "metadata": {
        "id": "tTSPOyIGOVCT"
      },
      "source": [
        "# Data Preprocessing"
      ]
    },
    {
      "cell_type": "markdown",
      "metadata": {
        "id": "1mjHjeOVnogS"
      },
      "source": [
        "## **1. Data inspection and cleaning**\n",
        "\n",
        "##### **1.1. Identifying and handling Missing Values **"
      ]
    },
    {
      "cell_type": "code",
      "execution_count": 3,
      "metadata": {
        "colab": {
          "base_uri": "https://localhost:8080/"
        },
        "id": "mbWn3v2ZnG_u",
        "outputId": "018893f5-c485-4607-a855-d9ca5e3162f5"
      },
      "outputs": [
        {
          "output_type": "stream",
          "name": "stdout",
          "text": [
            "<class 'pandas.core.frame.DataFrame'>\n",
            "RangeIndex: 1000 entries, 0 to 999\n",
            "Data columns (total 11 columns):\n",
            " #   Column                 Non-Null Count  Dtype  \n",
            "---  ------                 --------------  -----  \n",
            " 0   Trip_Distance_km       950 non-null    float64\n",
            " 1   Time_of_Day            950 non-null    object \n",
            " 2   Day_of_Week            950 non-null    object \n",
            " 3   Passenger_Count        950 non-null    float64\n",
            " 4   Traffic_Conditions     950 non-null    object \n",
            " 5   Weather                950 non-null    object \n",
            " 6   Base_Fare              950 non-null    float64\n",
            " 7   Per_Km_Rate            950 non-null    float64\n",
            " 8   Per_Minute_Rate        950 non-null    float64\n",
            " 9   Trip_Duration_Minutes  950 non-null    float64\n",
            " 10  Trip_Price             951 non-null    float64\n",
            "dtypes: float64(7), object(4)\n",
            "memory usage: 86.1+ KB\n"
          ]
        }
      ],
      "source": [
        "df.info()"
      ]
    },
    {
      "cell_type": "code",
      "execution_count": 4,
      "metadata": {
        "colab": {
          "base_uri": "https://localhost:8080/"
        },
        "id": "gOgFt_cin0gY",
        "outputId": "23d8e6b0-7ccc-4e11-fe8e-37aa51c79afd"
      },
      "outputs": [
        {
          "output_type": "stream",
          "name": "stdout",
          "text": [
            "Missing values:\n",
            " Trip_Distance_km         50\n",
            "Time_of_Day              50\n",
            "Day_of_Week              50\n",
            "Passenger_Count          50\n",
            "Traffic_Conditions       50\n",
            "Weather                  50\n",
            "Base_Fare                50\n",
            "Per_Km_Rate              50\n",
            "Per_Minute_Rate          50\n",
            "Trip_Duration_Minutes    50\n",
            "Trip_Price               49\n",
            "dtype: int64\n"
          ]
        }
      ],
      "source": [
        "print(\"Missing values:\\n\", df.isnull().sum())"
      ]
    },
    {
      "cell_type": "code",
      "execution_count": 5,
      "metadata": {
        "id": "_PUjOqNVoFkY"
      },
      "outputs": [],
      "source": [
        "#Handle missing target\n",
        "df = df.dropna(subset=['Trip_Price']).reset_index(drop=True)"
      ]
    },
    {
      "cell_type": "code",
      "execution_count": 6,
      "metadata": {
        "id": "-8GupzqEpw1j"
      },
      "outputs": [],
      "source": [
        "#Split data\n",
        "X = df.drop('Trip_Price', axis=1)\n",
        "Y = df['Trip_Price']"
      ]
    },
    {
      "cell_type": "code",
      "execution_count": 7,
      "metadata": {
        "id": "W5IuK0JR-AoM"
      },
      "outputs": [],
      "source": [
        "# Identify columns\n",
        "num_cols = ['Trip_Distance_km', 'Passenger_Count', 'Base_Fare',\n",
        "           'Per_Km_Rate', 'Per_Minute_Rate', 'Trip_Duration_Minutes']\n",
        "cat_cols = ['Time_of_Day', 'Day_of_Week', 'Traffic_Conditions', 'Weather']"
      ]
    },
    {
      "cell_type": "code",
      "execution_count": 8,
      "metadata": {
        "id": "C7bHu19t_cMC"
      },
      "outputs": [],
      "source": [
        "#Handle numerical data\n",
        "# Impute missing values\n",
        "num_imputer = SimpleImputer(strategy='median', missing_values=np.nan)\n",
        "X[num_cols] = num_imputer.fit_transform(X[num_cols])"
      ]
    },
    {
      "cell_type": "code",
      "execution_count": 9,
      "metadata": {
        "id": "iz9VYuZA5VYM"
      },
      "outputs": [],
      "source": [
        "#Handle Categorical data\n",
        "# Impute missing values\n",
        "cat_imputer = SimpleImputer(strategy='most_frequent', missing_values=np.nan)\n",
        "X[cat_cols] = cat_imputer.fit_transform(X[cat_cols])"
      ]
    },
    {
      "cell_type": "code",
      "execution_count": 10,
      "metadata": {
        "colab": {
          "base_uri": "https://localhost:8080/",
          "height": 398
        },
        "id": "xdDmuDTm53Dy",
        "outputId": "e66e64c0-a9d7-42cb-9f05-b9291868f4ab"
      },
      "outputs": [
        {
          "output_type": "execute_result",
          "data": {
            "text/plain": [
              "Trip_Distance_km         0\n",
              "Time_of_Day              0\n",
              "Day_of_Week              0\n",
              "Passenger_Count          0\n",
              "Traffic_Conditions       0\n",
              "Weather                  0\n",
              "Base_Fare                0\n",
              "Per_Km_Rate              0\n",
              "Per_Minute_Rate          0\n",
              "Trip_Duration_Minutes    0\n",
              "dtype: int64"
            ],
            "text/html": [
              "<div>\n",
              "<style scoped>\n",
              "    .dataframe tbody tr th:only-of-type {\n",
              "        vertical-align: middle;\n",
              "    }\n",
              "\n",
              "    .dataframe tbody tr th {\n",
              "        vertical-align: top;\n",
              "    }\n",
              "\n",
              "    .dataframe thead th {\n",
              "        text-align: right;\n",
              "    }\n",
              "</style>\n",
              "<table border=\"1\" class=\"dataframe\">\n",
              "  <thead>\n",
              "    <tr style=\"text-align: right;\">\n",
              "      <th></th>\n",
              "      <th>0</th>\n",
              "    </tr>\n",
              "  </thead>\n",
              "  <tbody>\n",
              "    <tr>\n",
              "      <th>Trip_Distance_km</th>\n",
              "      <td>0</td>\n",
              "    </tr>\n",
              "    <tr>\n",
              "      <th>Time_of_Day</th>\n",
              "      <td>0</td>\n",
              "    </tr>\n",
              "    <tr>\n",
              "      <th>Day_of_Week</th>\n",
              "      <td>0</td>\n",
              "    </tr>\n",
              "    <tr>\n",
              "      <th>Passenger_Count</th>\n",
              "      <td>0</td>\n",
              "    </tr>\n",
              "    <tr>\n",
              "      <th>Traffic_Conditions</th>\n",
              "      <td>0</td>\n",
              "    </tr>\n",
              "    <tr>\n",
              "      <th>Weather</th>\n",
              "      <td>0</td>\n",
              "    </tr>\n",
              "    <tr>\n",
              "      <th>Base_Fare</th>\n",
              "      <td>0</td>\n",
              "    </tr>\n",
              "    <tr>\n",
              "      <th>Per_Km_Rate</th>\n",
              "      <td>0</td>\n",
              "    </tr>\n",
              "    <tr>\n",
              "      <th>Per_Minute_Rate</th>\n",
              "      <td>0</td>\n",
              "    </tr>\n",
              "    <tr>\n",
              "      <th>Trip_Duration_Minutes</th>\n",
              "      <td>0</td>\n",
              "    </tr>\n",
              "  </tbody>\n",
              "</table>\n",
              "</div><br><label><b>dtype:</b> int64</label>"
            ]
          },
          "metadata": {},
          "execution_count": 10
        }
      ],
      "source": [
        "X.isnull().sum()"
      ]
    },
    {
      "cell_type": "markdown",
      "metadata": {
        "id": "I9GCWh8O7haH"
      },
      "source": [
        "##### **1.2. Checking Data Types of Columns in the Dataset **"
      ]
    },
    {
      "cell_type": "code",
      "execution_count": 11,
      "metadata": {
        "colab": {
          "base_uri": "https://localhost:8080/"
        },
        "id": "PLYHnpJM7qkl",
        "outputId": "998a1cff-1973-4976-b5c7-f46e09751ea2"
      },
      "outputs": [
        {
          "output_type": "stream",
          "name": "stdout",
          "text": [
            "\n",
            "========================================\n",
            "Data Types of All Columns:\n",
            "========================================\n",
            "Trip_Distance_km         float64\n",
            "Time_of_Day               object\n",
            "Day_of_Week               object\n",
            "Passenger_Count          float64\n",
            "Traffic_Conditions        object\n",
            "Weather                   object\n",
            "Base_Fare                float64\n",
            "Per_Km_Rate              float64\n",
            "Per_Minute_Rate          float64\n",
            "Trip_Duration_Minutes    float64\n",
            "Trip_Price               float64\n",
            "dtype: object\n"
          ]
        }
      ],
      "source": [
        "# Check data types for all columns\n",
        "print(\"\\n\" + \"=\"*40)\n",
        "print(\"Data Types of All Columns:\")\n",
        "print(\"=\"*40)\n",
        "print(df.dtypes)"
      ]
    },
    {
      "cell_type": "markdown",
      "metadata": {
        "id": "L4sdPS786-1B"
      },
      "source": [
        "##### **1.3. Identifying and handling Outliers **\n"
      ]
    },
    {
      "cell_type": "code",
      "execution_count": 12,
      "metadata": {
        "colab": {
          "base_uri": "https://localhost:8080/",
          "height": 320
        },
        "id": "b6kTQTqA6Xjb",
        "outputId": "5621abde-0b68-4fdc-e626-a020f63101c0"
      },
      "outputs": [
        {
          "output_type": "execute_result",
          "data": {
            "text/plain": [
              "       Trip_Distance_km  Passenger_Count   Base_Fare  Per_Km_Rate  \\\n",
              "count        901.000000       903.000000  907.000000   907.000000   \n",
              "mean          27.190998         2.479513    3.497100     1.229934   \n",
              "std           20.155134         1.100983    0.866729     0.429958   \n",
              "min            1.230000         1.000000    2.010000     0.500000   \n",
              "25%           12.630000         2.000000    2.730000     0.850000   \n",
              "50%           25.870000         2.000000    3.510000     1.220000   \n",
              "75%           38.680000         3.000000    4.230000     1.610000   \n",
              "max          146.067047         4.000000    5.000000     2.000000   \n",
              "\n",
              "       Per_Minute_Rate  Trip_Duration_Minutes  Trip_Price  \n",
              "count       902.000000             905.000000  951.000000  \n",
              "mean          0.293902              62.044144   56.874773  \n",
              "std           0.115404              32.321578   40.469791  \n",
              "min           0.100000               5.010000    6.126900  \n",
              "25%           0.190000              35.590000   33.742650  \n",
              "50%           0.290000              61.570000   50.074500  \n",
              "75%           0.390000              89.210000   69.099350  \n",
              "max           0.500000             119.840000  332.043689  "
            ],
            "text/html": [
              "\n",
              "  <div id=\"df-2983aeee-9c04-4c7b-a3d4-fab9cdeeb226\" class=\"colab-df-container\">\n",
              "    <div>\n",
              "<style scoped>\n",
              "    .dataframe tbody tr th:only-of-type {\n",
              "        vertical-align: middle;\n",
              "    }\n",
              "\n",
              "    .dataframe tbody tr th {\n",
              "        vertical-align: top;\n",
              "    }\n",
              "\n",
              "    .dataframe thead th {\n",
              "        text-align: right;\n",
              "    }\n",
              "</style>\n",
              "<table border=\"1\" class=\"dataframe\">\n",
              "  <thead>\n",
              "    <tr style=\"text-align: right;\">\n",
              "      <th></th>\n",
              "      <th>Trip_Distance_km</th>\n",
              "      <th>Passenger_Count</th>\n",
              "      <th>Base_Fare</th>\n",
              "      <th>Per_Km_Rate</th>\n",
              "      <th>Per_Minute_Rate</th>\n",
              "      <th>Trip_Duration_Minutes</th>\n",
              "      <th>Trip_Price</th>\n",
              "    </tr>\n",
              "  </thead>\n",
              "  <tbody>\n",
              "    <tr>\n",
              "      <th>count</th>\n",
              "      <td>901.000000</td>\n",
              "      <td>903.000000</td>\n",
              "      <td>907.000000</td>\n",
              "      <td>907.000000</td>\n",
              "      <td>902.000000</td>\n",
              "      <td>905.000000</td>\n",
              "      <td>951.000000</td>\n",
              "    </tr>\n",
              "    <tr>\n",
              "      <th>mean</th>\n",
              "      <td>27.190998</td>\n",
              "      <td>2.479513</td>\n",
              "      <td>3.497100</td>\n",
              "      <td>1.229934</td>\n",
              "      <td>0.293902</td>\n",
              "      <td>62.044144</td>\n",
              "      <td>56.874773</td>\n",
              "    </tr>\n",
              "    <tr>\n",
              "      <th>std</th>\n",
              "      <td>20.155134</td>\n",
              "      <td>1.100983</td>\n",
              "      <td>0.866729</td>\n",
              "      <td>0.429958</td>\n",
              "      <td>0.115404</td>\n",
              "      <td>32.321578</td>\n",
              "      <td>40.469791</td>\n",
              "    </tr>\n",
              "    <tr>\n",
              "      <th>min</th>\n",
              "      <td>1.230000</td>\n",
              "      <td>1.000000</td>\n",
              "      <td>2.010000</td>\n",
              "      <td>0.500000</td>\n",
              "      <td>0.100000</td>\n",
              "      <td>5.010000</td>\n",
              "      <td>6.126900</td>\n",
              "    </tr>\n",
              "    <tr>\n",
              "      <th>25%</th>\n",
              "      <td>12.630000</td>\n",
              "      <td>2.000000</td>\n",
              "      <td>2.730000</td>\n",
              "      <td>0.850000</td>\n",
              "      <td>0.190000</td>\n",
              "      <td>35.590000</td>\n",
              "      <td>33.742650</td>\n",
              "    </tr>\n",
              "    <tr>\n",
              "      <th>50%</th>\n",
              "      <td>25.870000</td>\n",
              "      <td>2.000000</td>\n",
              "      <td>3.510000</td>\n",
              "      <td>1.220000</td>\n",
              "      <td>0.290000</td>\n",
              "      <td>61.570000</td>\n",
              "      <td>50.074500</td>\n",
              "    </tr>\n",
              "    <tr>\n",
              "      <th>75%</th>\n",
              "      <td>38.680000</td>\n",
              "      <td>3.000000</td>\n",
              "      <td>4.230000</td>\n",
              "      <td>1.610000</td>\n",
              "      <td>0.390000</td>\n",
              "      <td>89.210000</td>\n",
              "      <td>69.099350</td>\n",
              "    </tr>\n",
              "    <tr>\n",
              "      <th>max</th>\n",
              "      <td>146.067047</td>\n",
              "      <td>4.000000</td>\n",
              "      <td>5.000000</td>\n",
              "      <td>2.000000</td>\n",
              "      <td>0.500000</td>\n",
              "      <td>119.840000</td>\n",
              "      <td>332.043689</td>\n",
              "    </tr>\n",
              "  </tbody>\n",
              "</table>\n",
              "</div>\n",
              "    <div class=\"colab-df-buttons\">\n",
              "\n",
              "  <div class=\"colab-df-container\">\n",
              "    <button class=\"colab-df-convert\" onclick=\"convertToInteractive('df-2983aeee-9c04-4c7b-a3d4-fab9cdeeb226')\"\n",
              "            title=\"Convert this dataframe to an interactive table.\"\n",
              "            style=\"display:none;\">\n",
              "\n",
              "  <svg xmlns=\"http://www.w3.org/2000/svg\" height=\"24px\" viewBox=\"0 -960 960 960\">\n",
              "    <path d=\"M120-120v-720h720v720H120Zm60-500h600v-160H180v160Zm220 220h160v-160H400v160Zm0 220h160v-160H400v160ZM180-400h160v-160H180v160Zm440 0h160v-160H620v160ZM180-180h160v-160H180v160Zm440 0h160v-160H620v160Z\"/>\n",
              "  </svg>\n",
              "    </button>\n",
              "\n",
              "  <style>\n",
              "    .colab-df-container {\n",
              "      display:flex;\n",
              "      gap: 12px;\n",
              "    }\n",
              "\n",
              "    .colab-df-convert {\n",
              "      background-color: #E8F0FE;\n",
              "      border: none;\n",
              "      border-radius: 50%;\n",
              "      cursor: pointer;\n",
              "      display: none;\n",
              "      fill: #1967D2;\n",
              "      height: 32px;\n",
              "      padding: 0 0 0 0;\n",
              "      width: 32px;\n",
              "    }\n",
              "\n",
              "    .colab-df-convert:hover {\n",
              "      background-color: #E2EBFA;\n",
              "      box-shadow: 0px 1px 2px rgba(60, 64, 67, 0.3), 0px 1px 3px 1px rgba(60, 64, 67, 0.15);\n",
              "      fill: #174EA6;\n",
              "    }\n",
              "\n",
              "    .colab-df-buttons div {\n",
              "      margin-bottom: 4px;\n",
              "    }\n",
              "\n",
              "    [theme=dark] .colab-df-convert {\n",
              "      background-color: #3B4455;\n",
              "      fill: #D2E3FC;\n",
              "    }\n",
              "\n",
              "    [theme=dark] .colab-df-convert:hover {\n",
              "      background-color: #434B5C;\n",
              "      box-shadow: 0px 1px 3px 1px rgba(0, 0, 0, 0.15);\n",
              "      filter: drop-shadow(0px 1px 2px rgba(0, 0, 0, 0.3));\n",
              "      fill: #FFFFFF;\n",
              "    }\n",
              "  </style>\n",
              "\n",
              "    <script>\n",
              "      const buttonEl =\n",
              "        document.querySelector('#df-2983aeee-9c04-4c7b-a3d4-fab9cdeeb226 button.colab-df-convert');\n",
              "      buttonEl.style.display =\n",
              "        google.colab.kernel.accessAllowed ? 'block' : 'none';\n",
              "\n",
              "      async function convertToInteractive(key) {\n",
              "        const element = document.querySelector('#df-2983aeee-9c04-4c7b-a3d4-fab9cdeeb226');\n",
              "        const dataTable =\n",
              "          await google.colab.kernel.invokeFunction('convertToInteractive',\n",
              "                                                    [key], {});\n",
              "        if (!dataTable) return;\n",
              "\n",
              "        const docLinkHtml = 'Like what you see? Visit the ' +\n",
              "          '<a target=\"_blank\" href=https://colab.research.google.com/notebooks/data_table.ipynb>data table notebook</a>'\n",
              "          + ' to learn more about interactive tables.';\n",
              "        element.innerHTML = '';\n",
              "        dataTable['output_type'] = 'display_data';\n",
              "        await google.colab.output.renderOutput(dataTable, element);\n",
              "        const docLink = document.createElement('div');\n",
              "        docLink.innerHTML = docLinkHtml;\n",
              "        element.appendChild(docLink);\n",
              "      }\n",
              "    </script>\n",
              "  </div>\n",
              "\n",
              "\n",
              "<div id=\"df-34c1efc2-3d11-4618-af33-dce4eac9f4a8\">\n",
              "  <button class=\"colab-df-quickchart\" onclick=\"quickchart('df-34c1efc2-3d11-4618-af33-dce4eac9f4a8')\"\n",
              "            title=\"Suggest charts\"\n",
              "            style=\"display:none;\">\n",
              "\n",
              "<svg xmlns=\"http://www.w3.org/2000/svg\" height=\"24px\"viewBox=\"0 0 24 24\"\n",
              "     width=\"24px\">\n",
              "    <g>\n",
              "        <path d=\"M19 3H5c-1.1 0-2 .9-2 2v14c0 1.1.9 2 2 2h14c1.1 0 2-.9 2-2V5c0-1.1-.9-2-2-2zM9 17H7v-7h2v7zm4 0h-2V7h2v10zm4 0h-2v-4h2v4z\"/>\n",
              "    </g>\n",
              "</svg>\n",
              "  </button>\n",
              "\n",
              "<style>\n",
              "  .colab-df-quickchart {\n",
              "      --bg-color: #E8F0FE;\n",
              "      --fill-color: #1967D2;\n",
              "      --hover-bg-color: #E2EBFA;\n",
              "      --hover-fill-color: #174EA6;\n",
              "      --disabled-fill-color: #AAA;\n",
              "      --disabled-bg-color: #DDD;\n",
              "  }\n",
              "\n",
              "  [theme=dark] .colab-df-quickchart {\n",
              "      --bg-color: #3B4455;\n",
              "      --fill-color: #D2E3FC;\n",
              "      --hover-bg-color: #434B5C;\n",
              "      --hover-fill-color: #FFFFFF;\n",
              "      --disabled-bg-color: #3B4455;\n",
              "      --disabled-fill-color: #666;\n",
              "  }\n",
              "\n",
              "  .colab-df-quickchart {\n",
              "    background-color: var(--bg-color);\n",
              "    border: none;\n",
              "    border-radius: 50%;\n",
              "    cursor: pointer;\n",
              "    display: none;\n",
              "    fill: var(--fill-color);\n",
              "    height: 32px;\n",
              "    padding: 0;\n",
              "    width: 32px;\n",
              "  }\n",
              "\n",
              "  .colab-df-quickchart:hover {\n",
              "    background-color: var(--hover-bg-color);\n",
              "    box-shadow: 0 1px 2px rgba(60, 64, 67, 0.3), 0 1px 3px 1px rgba(60, 64, 67, 0.15);\n",
              "    fill: var(--button-hover-fill-color);\n",
              "  }\n",
              "\n",
              "  .colab-df-quickchart-complete:disabled,\n",
              "  .colab-df-quickchart-complete:disabled:hover {\n",
              "    background-color: var(--disabled-bg-color);\n",
              "    fill: var(--disabled-fill-color);\n",
              "    box-shadow: none;\n",
              "  }\n",
              "\n",
              "  .colab-df-spinner {\n",
              "    border: 2px solid var(--fill-color);\n",
              "    border-color: transparent;\n",
              "    border-bottom-color: var(--fill-color);\n",
              "    animation:\n",
              "      spin 1s steps(1) infinite;\n",
              "  }\n",
              "\n",
              "  @keyframes spin {\n",
              "    0% {\n",
              "      border-color: transparent;\n",
              "      border-bottom-color: var(--fill-color);\n",
              "      border-left-color: var(--fill-color);\n",
              "    }\n",
              "    20% {\n",
              "      border-color: transparent;\n",
              "      border-left-color: var(--fill-color);\n",
              "      border-top-color: var(--fill-color);\n",
              "    }\n",
              "    30% {\n",
              "      border-color: transparent;\n",
              "      border-left-color: var(--fill-color);\n",
              "      border-top-color: var(--fill-color);\n",
              "      border-right-color: var(--fill-color);\n",
              "    }\n",
              "    40% {\n",
              "      border-color: transparent;\n",
              "      border-right-color: var(--fill-color);\n",
              "      border-top-color: var(--fill-color);\n",
              "    }\n",
              "    60% {\n",
              "      border-color: transparent;\n",
              "      border-right-color: var(--fill-color);\n",
              "    }\n",
              "    80% {\n",
              "      border-color: transparent;\n",
              "      border-right-color: var(--fill-color);\n",
              "      border-bottom-color: var(--fill-color);\n",
              "    }\n",
              "    90% {\n",
              "      border-color: transparent;\n",
              "      border-bottom-color: var(--fill-color);\n",
              "    }\n",
              "  }\n",
              "</style>\n",
              "\n",
              "  <script>\n",
              "    async function quickchart(key) {\n",
              "      const quickchartButtonEl =\n",
              "        document.querySelector('#' + key + ' button');\n",
              "      quickchartButtonEl.disabled = true;  // To prevent multiple clicks.\n",
              "      quickchartButtonEl.classList.add('colab-df-spinner');\n",
              "      try {\n",
              "        const charts = await google.colab.kernel.invokeFunction(\n",
              "            'suggestCharts', [key], {});\n",
              "      } catch (error) {\n",
              "        console.error('Error during call to suggestCharts:', error);\n",
              "      }\n",
              "      quickchartButtonEl.classList.remove('colab-df-spinner');\n",
              "      quickchartButtonEl.classList.add('colab-df-quickchart-complete');\n",
              "    }\n",
              "    (() => {\n",
              "      let quickchartButtonEl =\n",
              "        document.querySelector('#df-34c1efc2-3d11-4618-af33-dce4eac9f4a8 button');\n",
              "      quickchartButtonEl.style.display =\n",
              "        google.colab.kernel.accessAllowed ? 'block' : 'none';\n",
              "    })();\n",
              "  </script>\n",
              "</div>\n",
              "\n",
              "    </div>\n",
              "  </div>\n"
            ],
            "application/vnd.google.colaboratory.intrinsic+json": {
              "type": "dataframe",
              "summary": "{\n  \"name\": \"df\",\n  \"rows\": 8,\n  \"fields\": [\n    {\n      \"column\": \"Trip_Distance_km\",\n      \"properties\": {\n        \"dtype\": \"number\",\n        \"std\": 308.1440560354714,\n        \"min\": 1.23,\n        \"max\": 901.0,\n        \"num_unique_values\": 8,\n        \"samples\": [\n          27.190998355826856,\n          25.87,\n          901.0\n        ],\n        \"semantic_type\": \"\",\n        \"description\": \"\"\n      }\n    },\n    {\n      \"column\": \"Passenger_Count\",\n      \"properties\": {\n        \"dtype\": \"number\",\n        \"std\": 318.47327636641654,\n        \"min\": 1.0,\n        \"max\": 903.0,\n        \"num_unique_values\": 7,\n        \"samples\": [\n          903.0,\n          2.479512735326689,\n          3.0\n        ],\n        \"semantic_type\": \"\",\n        \"description\": \"\"\n      }\n    },\n    {\n      \"column\": \"Base_Fare\",\n      \"properties\": {\n        \"dtype\": \"number\",\n        \"std\": 319.57222065536655,\n        \"min\": 0.8667290734895883,\n        \"max\": 907.0,\n        \"num_unique_values\": 8,\n        \"samples\": [\n          3.4971003307607496,\n          3.51,\n          907.0\n        ],\n        \"semantic_type\": \"\",\n        \"description\": \"\"\n      }\n    },\n    {\n      \"column\": \"Per_Km_Rate\",\n      \"properties\": {\n        \"dtype\": \"number\",\n        \"std\": 320.27739029969297,\n        \"min\": 0.42995789622770664,\n        \"max\": 907.0,\n        \"num_unique_values\": 8,\n        \"samples\": [\n          1.2299338478500552,\n          1.22,\n          907.0\n        ],\n        \"semantic_type\": \"\",\n        \"description\": \"\"\n      }\n    },\n    {\n      \"column\": \"Per_Minute_Rate\",\n      \"properties\": {\n        \"dtype\": \"number\",\n        \"std\": 318.81026754486095,\n        \"min\": 0.1,\n        \"max\": 902.0,\n        \"num_unique_values\": 8,\n        \"samples\": [\n          0.2939024390243903,\n          0.29,\n          902.0\n        ],\n        \"semantic_type\": \"\",\n        \"description\": \"\"\n      }\n    },\n    {\n      \"column\": \"Trip_Duration_Minutes\",\n      \"properties\": {\n        \"dtype\": \"number\",\n        \"std\": 301.571468932797,\n        \"min\": 5.01,\n        \"max\": 905.0,\n        \"num_unique_values\": 8,\n        \"samples\": [\n          62.044143646408834,\n          61.57,\n          905.0\n        ],\n        \"semantic_type\": \"\",\n        \"description\": \"\"\n      }\n    },\n    {\n      \"column\": \"Trip_Price\",\n      \"properties\": {\n        \"dtype\": \"number\",\n        \"std\": 323.3206302082213,\n        \"min\": 6.1269,\n        \"max\": 951.0,\n        \"num_unique_values\": 8,\n        \"samples\": [\n          56.87477332576236,\n          50.0745,\n          951.0\n        ],\n        \"semantic_type\": \"\",\n        \"description\": \"\"\n      }\n    }\n  ]\n}"
            }
          },
          "metadata": {},
          "execution_count": 12
        }
      ],
      "source": [
        "df.describe()"
      ]
    },
    {
      "cell_type": "code",
      "execution_count": 13,
      "metadata": {
        "colab": {
          "base_uri": "https://localhost:8080/",
          "height": 655
        },
        "id": "1UWBrWWD-xOf",
        "outputId": "c103842c-a5a4-43ec-f8f8-d632047bf972"
      },
      "outputs": [
        {
          "output_type": "display_data",
          "data": {
            "text/plain": [
              "<Figure size 1200x600 with 1 Axes>"
            ],
            "image/png": "[encoded data removed]"
          },
          "metadata": {}
        }
      ],
      "source": [
        "plt.figure(figsize=(12,6))\n",
        "sns.boxplot(data=X[num_cols])\n",
        "plt.xticks(rotation=90)  # Rotate column names for better visibility\n",
        "plt.title(\"Boxplot of Numerical Features\")\n",
        "plt.show()"
      ]
    },
    {
      "cell_type": "code",
      "execution_count": 14,
      "metadata": {
        "colab": {
          "base_uri": "https://localhost:8080/",
          "height": 494
        },
        "id": "0cewu-Tg_T1x",
        "outputId": "c9812811-d64c-4e66-c42f-b2b57cb8ee6e"
      },
      "outputs": [
        {
          "output_type": "display_data",
          "data": {
            "text/plain": [
              "<Figure size 1200x600 with 1 Axes>"
            ],
            "image/png": "[encoded data removed]"
          },
          "metadata": {}
        }
      ],
      "source": [
        "\n",
        "plt.figure(figsize=(12,6))\n",
        "sns.boxplot(data=Y)\n",
        "plt.title(\"Boxplot of Target Variables\")\n",
        "plt.show()"
      ]
    },
    {
      "cell_type": "code",
      "execution_count": 15,
      "metadata": {
        "colab": {
          "base_uri": "https://localhost:8080/",
          "height": 410
        },
        "id": "nWJ5tEHE_1yB",
        "outputId": "f2d6453f-e585-46ff-e348-7d2e1e35d603"
      },
      "outputs": [
        {
          "output_type": "display_data",
          "data": {
            "text/plain": [
              "<Figure size 600x400 with 1 Axes>"
            ],
            "image/png": "[encoded data removed]"
          },
          "metadata": {}
        }
      ],
      "source": [
        "#Check the Distribution of Target (y)\n",
        "plt.figure(figsize=(6,4))\n",
        "sns.histplot(Y, bins=30, kde=True)  # Histogram with density curve\n",
        "plt.title(\"Distribution of Target Variable\")\n",
        "plt.show()"
      ]
    },
    {
      "cell_type": "markdown",
      "metadata": {
        "id": "ysJu5RJcGd8v"
      },
      "source": [
        "* Right-Skewed Distribution: Most fares are between 20 to 100, but a few go beyond 200–300.\n",
        "* Potential Outliers: There are very few values above 200, meaning these may be outliers or rare cases."
      ]
    },
    {
      "cell_type": "code",
      "execution_count": 16,
      "metadata": {
        "colab": {
          "base_uri": "https://localhost:8080/"
        },
        "id": "yfBNAUQABZgo",
        "outputId": "8661edf4-0643-4bb6-a9bc-d043ad4677d9"
      },
      "outputs": [
        {
          "output_type": "stream",
          "name": "stdout",
          "text": [
            "19     201.869509\n",
            "24     280.877302\n",
            "60     320.958664\n",
            "103    233.008285\n",
            "104    274.535087\n",
            "134    327.217666\n",
            "212    328.871769\n",
            "249    206.699570\n",
            "250    276.840597\n",
            "266    329.913004\n",
            "281    325.098950\n",
            "316    248.295209\n",
            "386    206.508652\n",
            "387    123.928000\n",
            "455    322.725996\n",
            "496    124.241600\n",
            "506    296.088697\n",
            "561    247.598318\n",
            "589    332.043689\n",
            "637    129.535600\n",
            "690    122.418000\n",
            "710    283.645201\n",
            "714    128.654900\n",
            "755    138.642500\n",
            "757    239.171407\n",
            "795    224.914663\n",
            "Name: Trip_Price, dtype: float64\n"
          ]
        }
      ],
      "source": [
        "#Identify the Outliers Using IQR\n",
        "Q1 = np.percentile(Y, 25)\n",
        "Q3 = np.percentile(Y, 75)\n",
        "IQR = Q3 - Q1\n",
        "\n",
        "lower_bound = Q1 - 1.5 * IQR\n",
        "upper_bound = Q3 + 1.5 * IQR\n",
        "\n",
        "outliers = Y[(Y < lower_bound) | (Y > upper_bound)]\n",
        "print(outliers)"
      ]
    },
    {
      "cell_type": "code",
      "execution_count": 17,
      "metadata": {
        "colab": {
          "base_uri": "https://localhost:8080/"
        },
        "id": "KlUBNTXZBzLU",
        "outputId": "82c65754-a97d-4419-f73b-78714fdf00b0"
      },
      "outputs": [
        {
          "output_type": "stream",
          "name": "stdout",
          "text": [
            "     Trip_Distance_km Time_of_Day Day_of_Week  Passenger_Count  \\\n",
            "19         105.943550       Night     Weekend              2.0   \n",
            "24         138.098328     Evening     Weekend              4.0   \n",
            "60         146.067047   Afternoon     Weekday              2.0   \n",
            "103        112.830958   Afternoon     Weekday              2.0   \n",
            "104        102.747556     Evening     Weekday              2.0   \n",
            "134        109.616082   Afternoon     Weekday              4.0   \n",
            "212        130.809001   Afternoon     Weekday              1.0   \n",
            "249        116.196064   Afternoon     Weekend              4.0   \n",
            "250        139.062230   Afternoon     Weekday              2.0   \n",
            "266        100.380420   Afternoon     Weekday              3.0   \n",
            "281        145.747060     Morning     Weekday              3.0   \n",
            "316        116.667681     Morning     Weekday              2.0   \n",
            "386        104.371791   Afternoon     Weekday              1.0   \n",
            "455        107.786832     Morning     Weekend              1.0   \n",
            "506        139.476515     Evening     Weekday              1.0   \n",
            "561        122.820191   Afternoon     Weekday              2.0   \n",
            "589        138.763887       Night     Weekday              2.0   \n",
            "710        101.039704   Afternoon     Weekday              1.0   \n",
            "757        108.146994     Morning     Weekday              1.0   \n",
            "795        126.547628   Afternoon     Weekend              1.0   \n",
            "\n",
            "    Traffic_Conditions Weather  Base_Fare  Per_Km_Rate  Per_Minute_Rate  \\\n",
            "19                 Low    Rain       3.94         1.69             0.32   \n",
            "24              Medium    Rain       2.24         1.75             0.32   \n",
            "60              Medium   Clear       4.79         0.73             0.30   \n",
            "103               High    Snow       3.35         1.90             0.23   \n",
            "104             Medium   Clear       2.23         1.80             0.23   \n",
            "134               High   Clear       4.46         1.69             0.23   \n",
            "212               High   Clear       3.93         0.63             0.16   \n",
            "249             Medium   Clear       2.20         0.85             0.25   \n",
            "250                Low    Rain       2.80         1.82             0.14   \n",
            "266             Medium    Rain       4.46         1.22             0.29   \n",
            "281               High    Rain       2.82         0.83             0.49   \n",
            "316               High   Clear       3.81         0.74             0.25   \n",
            "386                Low    Rain       3.22         1.12             0.45   \n",
            "455               High   Clear       2.05         1.30             0.18   \n",
            "506                Low   Clear       4.37         1.38             0.20   \n",
            "561               High   Clear       4.13         0.96             0.12   \n",
            "589               High   Clear       3.98         1.71             0.39   \n",
            "710                Low    Rain       4.39         1.79             0.29   \n",
            "757                Low   Clear       2.25         1.22             0.36   \n",
            "795                Low   Clear       4.23         0.85             0.28   \n",
            "\n",
            "     Trip_Duration_Minutes  \n",
            "19                   23.03  \n",
            "24                   94.86  \n",
            "60                   60.81  \n",
            "103                  78.63  \n",
            "104                  53.09  \n",
            "134                  53.88  \n",
            "212                  88.31  \n",
            "249                  19.63  \n",
            "250                  50.83  \n",
            "266                  89.21  \n",
            "281                  60.29  \n",
            "316                 110.82  \n",
            "386                  89.21  \n",
            "455                  79.60  \n",
            "506                  46.85  \n",
            "561                  30.98  \n",
            "589                  74.32  \n",
            "710                  56.78  \n",
            "757                  97.16  \n",
            "795                  29.30  \n"
          ]
        }
      ],
      "source": [
        "#Check if These Are Errors or Valid Data\n",
        "print(X[Y > 200])  # Display trip details for fares > 200"
      ]
    },
    {
      "cell_type": "markdown",
      "metadata": {
        "id": "s3sW7ppsHJ67"
      },
      "source": [
        "* These are valid data points, NOT errors and should not be removed."
      ]
    },
    {
      "cell_type": "code",
      "execution_count": 18,
      "metadata": {
        "colab": {
          "base_uri": "https://localhost:8080/"
        },
        "id": "YBvBPqHfB-xB",
        "outputId": "c33d6ebd-f09f-40bc-fb47-583e8b2f51ba"
      },
      "outputs": [
        {
          "output_type": "stream",
          "name": "stdout",
          "text": [
            "     Trip_Distance_km Time_of_Day Day_of_Week  Passenger_Count  \\\n",
            "19         105.943550       Night     Weekend              2.0   \n",
            "24         138.098328     Evening     Weekend              4.0   \n",
            "60         146.067047   Afternoon     Weekday              2.0   \n",
            "103        112.830958   Afternoon     Weekday              2.0   \n",
            "104        102.747556     Evening     Weekday              2.0   \n",
            "134        109.616082   Afternoon     Weekday              4.0   \n",
            "212        130.809001   Afternoon     Weekday              1.0   \n",
            "249        116.196064   Afternoon     Weekend              4.0   \n",
            "250        139.062230   Afternoon     Weekday              2.0   \n",
            "266        100.380420   Afternoon     Weekday              3.0   \n",
            "281        145.747060     Morning     Weekday              3.0   \n",
            "316        116.667681     Morning     Weekday              2.0   \n",
            "386        104.371791         NaN     Weekday              1.0   \n",
            "455        107.786832     Morning     Weekend              1.0   \n",
            "506        139.476515     Evening     Weekday              1.0   \n",
            "561        122.820191   Afternoon     Weekday              NaN   \n",
            "589        138.763887       Night     Weekday              2.0   \n",
            "710        101.039704         NaN     Weekday              1.0   \n",
            "757        108.146994     Morning     Weekday              1.0   \n",
            "795        126.547628   Afternoon     Weekend              1.0   \n",
            "\n",
            "    Traffic_Conditions Weather  Base_Fare  Per_Km_Rate  Per_Minute_Rate  \\\n",
            "19                 Low    Rain       3.94         1.69             0.32   \n",
            "24              Medium    Rain       2.24         1.75             0.32   \n",
            "60              Medium   Clear       4.79         0.73             0.30   \n",
            "103               High    Snow       3.35         1.90             0.23   \n",
            "104             Medium   Clear       2.23         1.80             0.23   \n",
            "134               High   Clear       4.46         1.69             0.23   \n",
            "212               High   Clear       3.93         0.63             0.16   \n",
            "249             Medium   Clear       2.20         0.85             0.25   \n",
            "250                Low    Rain       2.80         1.82             0.14   \n",
            "266             Medium    Rain       4.46          NaN              NaN   \n",
            "281               High    Rain       2.82         0.83             0.49   \n",
            "316               High   Clear       3.81         0.74             0.25   \n",
            "386                Low    Rain       3.22         1.12             0.45   \n",
            "455               High   Clear       2.05         1.30             0.18   \n",
            "506                Low   Clear       4.37         1.38             0.20   \n",
            "561               High   Clear       4.13         0.96             0.12   \n",
            "589               High   Clear       3.98         1.71             0.39   \n",
            "710                Low    Rain       4.39         1.79              NaN   \n",
            "757                Low   Clear       2.25          NaN             0.36   \n",
            "795                Low     NaN       4.23         0.85             0.28   \n",
            "\n",
            "     Trip_Duration_Minutes  Trip_Price  \n",
            "19                   23.03  201.869509  \n",
            "24                   94.86  280.877302  \n",
            "60                   60.81  320.958664  \n",
            "103                  78.63  233.008285  \n",
            "104                  53.09  274.535087  \n",
            "134                  53.88  327.217666  \n",
            "212                  88.31  328.871769  \n",
            "249                  19.63  206.699570  \n",
            "250                  50.83  276.840597  \n",
            "266                  89.21  329.913004  \n",
            "281                  60.29  325.098950  \n",
            "316                 110.82  248.295209  \n",
            "386                  89.21  206.508652  \n",
            "455                  79.60  322.725996  \n",
            "506                  46.85  296.088697  \n",
            "561                  30.98  247.598318  \n",
            "589                  74.32  332.043689  \n",
            "710                  56.78  283.645201  \n",
            "757                  97.16  239.171407  \n",
            "795                  29.30  224.914663  \n"
          ]
        }
      ],
      "source": [
        "#Confirm Outliers in Trip Distance\n",
        "Q1 = df[\"Trip_Distance_km\"].quantile(0.25)\n",
        "Q3 = df[\"Trip_Distance_km\"].quantile(0.75)\n",
        "IQR = Q3 - Q1\n",
        "\n",
        "lower_bound = Q1 - 1.5 * IQR\n",
        "upper_bound = Q3 + 1.5 * IQR\n",
        "\n",
        "outliers = df[(df[\"Trip_Distance_km\"] < lower_bound) | (df[\"Trip_Distance_km\"] > upper_bound)]\n",
        "print(outliers)"
      ]
    },
    {
      "cell_type": "code",
      "execution_count": 19,
      "metadata": {
        "colab": {
          "base_uri": "https://localhost:8080/",
          "height": 472
        },
        "id": "oqOIZSBFDtNk",
        "outputId": "80ec214e-73c7-4113-8268-1f04f86155d1"
      },
      "outputs": [
        {
          "output_type": "display_data",
          "data": {
            "text/plain": [
              "<Figure size 640x480 with 1 Axes>"
            ],
            "image/png": "[encoded data removed]"
          },
          "metadata": {}
        }
      ],
      "source": [
        "#Check the distribution using a histogram plot to see if the data is heavily skewed.\n",
        "sns.histplot(X[\"Trip_Distance_km\"], bins=50, kde=True)\n",
        "plt.title(\"Distribution of Trip Distance\")\n",
        "plt.show()"
      ]
    },
    {
      "cell_type": "code",
      "execution_count": 20,
      "metadata": {
        "colab": {
          "base_uri": "https://localhost:8080/"
        },
        "id": "eIwznA8JECj1",
        "outputId": "618a6074-48e6-43f9-c8c6-fc2de9fb83c4"
      },
      "outputs": [
        {
          "output_type": "stream",
          "name": "stdout",
          "text": [
            "Upper bound for outliers: 77.755 km\n",
            "     Trip_Distance_km Time_of_Day Day_of_Week  Passenger_Count  \\\n",
            "19         105.943550       Night     Weekend              2.0   \n",
            "24         138.098328     Evening     Weekend              4.0   \n",
            "60         146.067047   Afternoon     Weekday              2.0   \n",
            "103        112.830958   Afternoon     Weekday              2.0   \n",
            "104        102.747556     Evening     Weekday              2.0   \n",
            "134        109.616082   Afternoon     Weekday              4.0   \n",
            "212        130.809001   Afternoon     Weekday              1.0   \n",
            "249        116.196064   Afternoon     Weekend              4.0   \n",
            "250        139.062230   Afternoon     Weekday              2.0   \n",
            "266        100.380420   Afternoon     Weekday              3.0   \n",
            "281        145.747060     Morning     Weekday              3.0   \n",
            "316        116.667681     Morning     Weekday              2.0   \n",
            "386        104.371791         NaN     Weekday              1.0   \n",
            "455        107.786832     Morning     Weekend              1.0   \n",
            "506        139.476515     Evening     Weekday              1.0   \n",
            "561        122.820191   Afternoon     Weekday              NaN   \n",
            "589        138.763887       Night     Weekday              2.0   \n",
            "710        101.039704         NaN     Weekday              1.0   \n",
            "757        108.146994     Morning     Weekday              1.0   \n",
            "795        126.547628   Afternoon     Weekend              1.0   \n",
            "\n",
            "    Traffic_Conditions Weather  Base_Fare  Per_Km_Rate  Per_Minute_Rate  \\\n",
            "19                 Low    Rain       3.94         1.69             0.32   \n",
            "24              Medium    Rain       2.24         1.75             0.32   \n",
            "60              Medium   Clear       4.79         0.73             0.30   \n",
            "103               High    Snow       3.35         1.90             0.23   \n",
            "104             Medium   Clear       2.23         1.80             0.23   \n",
            "134               High   Clear       4.46         1.69             0.23   \n",
            "212               High   Clear       3.93         0.63             0.16   \n",
            "249             Medium   Clear       2.20         0.85             0.25   \n",
            "250                Low    Rain       2.80         1.82             0.14   \n",
            "266             Medium    Rain       4.46          NaN              NaN   \n",
            "281               High    Rain       2.82         0.83             0.49   \n",
            "316               High   Clear       3.81         0.74             0.25   \n",
            "386                Low    Rain       3.22         1.12             0.45   \n",
            "455               High   Clear       2.05         1.30             0.18   \n",
            "506                Low   Clear       4.37         1.38             0.20   \n",
            "561               High   Clear       4.13         0.96             0.12   \n",
            "589               High   Clear       3.98         1.71             0.39   \n",
            "710                Low    Rain       4.39         1.79              NaN   \n",
            "757                Low   Clear       2.25          NaN             0.36   \n",
            "795                Low     NaN       4.23         0.85             0.28   \n",
            "\n",
            "     Trip_Duration_Minutes  Trip_Price  \n",
            "19                   23.03  201.869509  \n",
            "24                   94.86  280.877302  \n",
            "60                   60.81  320.958664  \n",
            "103                  78.63  233.008285  \n",
            "104                  53.09  274.535087  \n",
            "134                  53.88  327.217666  \n",
            "212                  88.31  328.871769  \n",
            "249                  19.63  206.699570  \n",
            "250                  50.83  276.840597  \n",
            "266                  89.21  329.913004  \n",
            "281                  60.29  325.098950  \n",
            "316                 110.82  248.295209  \n",
            "386                  89.21  206.508652  \n",
            "455                  79.60  322.725996  \n",
            "506                  46.85  296.088697  \n",
            "561                  30.98  247.598318  \n",
            "589                  74.32  332.043689  \n",
            "710                  56.78  283.645201  \n",
            "757                  97.16  239.171407  \n",
            "795                  29.30  224.914663  \n"
          ]
        }
      ],
      "source": [
        "#Check the Outlier Threshold\n",
        "Q1 = df[\"Trip_Distance_km\"].quantile(0.25)\n",
        "Q3 = df[\"Trip_Distance_km\"].quantile(0.75)\n",
        "IQR = Q3 - Q1\n",
        "upper_bound = Q3 + 1.5 * IQR\n",
        "\n",
        "print(f\"Upper bound for outliers: {upper_bound} km\")\n",
        "print(df[df[\"Trip_Distance_km\"] > upper_bound])  # View outliers"
      ]
    },
    {
      "cell_type": "markdown",
      "metadata": {
        "id": "nyeZuPN8IXXJ"
      },
      "source": [
        "##### Understanding the Outliers\n",
        "* These long trips occur at different times of the day and on both weekdays & weekends.\n",
        "* They involve varied traffic conditions (low, medium, and high).\n",
        "* No single weather pattern dominates (clear, rain, and snow are all present).\n",
        "* The trip prices are quite high, which makes sense given the long distances.\n",
        "\n",
        "Conclusion:\n",
        "* These long trips seem plausible rather than pure errors.\n",
        "* So, instead of removing them, we should either transform or cap them.\n"
      ]
    },
    {
      "cell_type": "code",
      "execution_count": 21,
      "metadata": {
        "id": "A26og7j6EV0p"
      },
      "outputs": [],
      "source": [
        "# Apply log transformation to Trip Distance and Trip Price\n",
        "X[\"Trip_Distance_km\"] = np.log1p(X[\"Trip_Distance_km\"])  # log(1+x) to handle 0 values\n",
        "Y = np.log1p(Y)  # Apply log transformation to dependent variable handle 0 values"
      ]
    },
    {
      "cell_type": "code",
      "execution_count": 22,
      "metadata": {
        "colab": {
          "base_uri": "https://localhost:8080/",
          "height": 927
        },
        "id": "Y2RSjqn4JM9E",
        "outputId": "56c388f2-bf21-41a7-b7e1-0ca19d88fa76"
      },
      "outputs": [
        {
          "output_type": "display_data",
          "data": {
            "text/plain": [
              "<Figure size 640x480 with 1 Axes>"
            ],
            "image/png": "[encoded data removed]"
          },
          "metadata": {}
        },
        {
          "output_type": "display_data",
          "data": {
            "text/plain": [
              "<Figure size 640x480 with 1 Axes>"
            ],
            "image/png": "[encoded data removed]"
          },
          "metadata": {}
        }
      ],
      "source": [
        "# Visualize the transformed data\n",
        "sns.histplot(X[\"Trip_Distance_km\"], bins=50, kde=True)\n",
        "plt.title(\"Log-Transformed Trip Distance Distribution\")\n",
        "plt.show()\n",
        "\n",
        "sns.histplot(Y, bins=50, kde=True)\n",
        "plt.title(\"Log-Transformed Trip Price Distribution\")\n",
        "plt.show()"
      ]
    },
    {
      "cell_type": "markdown",
      "metadata": {
        "id": "BZx5TQpVJWHC"
      },
      "source": [
        "### Handling Outliers in Trip Distance and Trip Price  \n",
        "In our dataset, we identified outliers in trip distance and trip price, where some trips were significantly longer and more expensive than others. Instead of removing these outliers, we applied log transformation to normalize the data.  \n",
        "\n",
        "## Why We Did Not Remove Outliers?  \n",
        "\n",
        "- **Real-world Relevance:** The long trips and high prices are valid, not data errors.  \n",
        "- **Preserving Model Accuracy:** Removing them would reduce our model’s ability to predict long-distance rides.  \n",
        "- **Better Alternative – Log Transformation:** Instead of removing data, we used log transformation to reduce skewness and improve linear regression performance.  \n",
        "\n",
        "## Method Used – Log Transformation  \n",
        "\n",
        "- We applied the natural logarithm (`log1p`) to both trip distance and trip price.  \n",
        "- This transformation compressed large values, making the data more normally distributed, which helps linear regression perform better.  \n",
        "\n",
        "## Conclusion  \n",
        "Using log transformation instead of removing outliers allows us to keep all valuable data while ensuring that our linear regression model produces more accurate and reliable predictions.  \n"
      ]
    },
    {
      "cell_type": "markdown",
      "metadata": {
        "id": "-U4GJWL_Wm1z"
      },
      "source": [
        "##### **1.4. Identifying and handling duplicate Values **"
      ]
    },
    {
      "cell_type": "code",
      "execution_count": 23,
      "metadata": {
        "colab": {
          "base_uri": "https://localhost:8080/"
        },
        "id": "fhvilZo4JPtU",
        "outputId": "f440d9e4-7031-4d58-e099-e1b1670084e7"
      },
      "outputs": [
        {
          "output_type": "stream",
          "name": "stdout",
          "text": [
            "Total Duplicate Rows: 0\n"
          ]
        }
      ],
      "source": [
        "# Check for duplicate rows\n",
        "duplicate_rows = df.duplicated()\n",
        "print(\"Total Duplicate Rows:\", duplicate_rows.sum())"
      ]
    },
    {
      "cell_type": "markdown",
      "metadata": {
        "id": "wzukyKJUUU5t"
      },
      "source": [
        "## **2. Identifying and Encoding Categorical Features**\n",
        "In this lab task, we applied Ordinal Encoding to features with a natural order (Time_of_Day, Traffic_Conditions) and One-Hot Encoding to nominal features (Day_of_Week, Weather) since they have no ranking. This ensures proper handling of categorical data for the Linear Regression model."
      ]
    },
    {
      "cell_type": "code",
      "source": [
        "#Ensure categorical data is of type str before encoding\n",
        "X['Time_of_Day'] = X['Time_of_Day'].astype(str)\n",
        "X['Traffic_Conditions'] = X['Traffic_Conditions'].astype(str)\n",
        "X['Weather'] = X['Weather'].astype(str)\n",
        "X['Day_of_Week'] = X['Day_of_Week'].astype(str)"
      ],
      "metadata": {
        "id": "1yo9z17fK3-Q"
      },
      "execution_count": 24,
      "outputs": []
    },
    {
      "cell_type": "code",
      "execution_count": 25,
      "metadata": {
        "id": "KgXyBdQAJri5"
      },
      "outputs": [],
      "source": [
        "# Define order for ordinal variables\n",
        "ordinal_mapping = [\n",
        "    ['Morning', 'Afternoon', 'Evening', 'Night'],  # Time_of_Day order\n",
        "    ['Low', 'Medium', 'High']  # Traffic_Conditions order\n",
        "]\n",
        "\n",
        "# Apply ordinal encoding\n",
        "ordinal_encoder = OrdinalEncoder(categories=ordinal_mapping, handle_unknown='use_encoded_value', unknown_value=-1)\n",
        "\n",
        "# Encode the columns\n",
        "X[['Time_of_Day', 'Traffic_Conditions']] = ordinal_encoder.fit_transform(X[['Time_of_Day', 'Traffic_Conditions']])"
      ]
    },
    {
      "cell_type": "code",
      "execution_count": 26,
      "metadata": {
        "id": "UwPuxPJhbv0e"
      },
      "outputs": [],
      "source": [
        "\n",
        "# Initialize One-Hot Encoder\n",
        "ohe_encoder = OneHotEncoder(drop='first', sparse_output=False, handle_unknown='ignore')\n",
        "\n",
        "# Ensure categorical columns are of type string\n",
        "X[['Day_of_Week', 'Weather']] = X[['Day_of_Week', 'Weather']].astype(str)\n",
        "\n",
        "# Fit and transform the categorical columns\n",
        "encoded_columns = ohe_encoder.fit_transform(X[['Day_of_Week', 'Weather']])\n",
        "\n",
        "# Convert the transformed array back to a DataFrame with meaningful column names\n",
        "ohe_feature_names = ohe_encoder.get_feature_names_out(['Day_of_Week', 'Weather'])\n",
        "X[ohe_feature_names] = encoded_columns\n",
        "\n",
        "# Drop the original columns (optional)\n",
        "X.drop(columns=['Day_of_Week', 'Weather'], inplace=True)\n"
      ]
    },
    {
      "cell_type": "code",
      "execution_count": 27,
      "metadata": {
        "colab": {
          "base_uri": "https://localhost:8080/",
          "height": 429
        },
        "id": "MiNGYDoFbyxF",
        "outputId": "c4bec853-9548-497f-f3c1-db6f864066bc"
      },
      "outputs": [
        {
          "output_type": "execute_result",
          "data": {
            "text/plain": [
              "Trip_Distance_km         0\n",
              "Time_of_Day              0\n",
              "Passenger_Count          0\n",
              "Traffic_Conditions       0\n",
              "Base_Fare                0\n",
              "Per_Km_Rate              0\n",
              "Per_Minute_Rate          0\n",
              "Trip_Duration_Minutes    0\n",
              "Day_of_Week_Weekend      0\n",
              "Weather_Rain             0\n",
              "Weather_Snow             0\n",
              "dtype: int64"
            ],
            "text/html": [
              "<div>\n",
              "<style scoped>\n",
              "    .dataframe tbody tr th:only-of-type {\n",
              "        vertical-align: middle;\n",
              "    }\n",
              "\n",
              "    .dataframe tbody tr th {\n",
              "        vertical-align: top;\n",
              "    }\n",
              "\n",
              "    .dataframe thead th {\n",
              "        text-align: right;\n",
              "    }\n",
              "</style>\n",
              "<table border=\"1\" class=\"dataframe\">\n",
              "  <thead>\n",
              "    <tr style=\"text-align: right;\">\n",
              "      <th></th>\n",
              "      <th>0</th>\n",
              "    </tr>\n",
              "  </thead>\n",
              "  <tbody>\n",
              "    <tr>\n",
              "      <th>Trip_Distance_km</th>\n",
              "      <td>0</td>\n",
              "    </tr>\n",
              "    <tr>\n",
              "      <th>Time_of_Day</th>\n",
              "      <td>0</td>\n",
              "    </tr>\n",
              "    <tr>\n",
              "      <th>Passenger_Count</th>\n",
              "      <td>0</td>\n",
              "    </tr>\n",
              "    <tr>\n",
              "      <th>Traffic_Conditions</th>\n",
              "      <td>0</td>\n",
              "    </tr>\n",
              "    <tr>\n",
              "      <th>Base_Fare</th>\n",
              "      <td>0</td>\n",
              "    </tr>\n",
              "    <tr>\n",
              "      <th>Per_Km_Rate</th>\n",
              "      <td>0</td>\n",
              "    </tr>\n",
              "    <tr>\n",
              "      <th>Per_Minute_Rate</th>\n",
              "      <td>0</td>\n",
              "    </tr>\n",
              "    <tr>\n",
              "      <th>Trip_Duration_Minutes</th>\n",
              "      <td>0</td>\n",
              "    </tr>\n",
              "    <tr>\n",
              "      <th>Day_of_Week_Weekend</th>\n",
              "      <td>0</td>\n",
              "    </tr>\n",
              "    <tr>\n",
              "      <th>Weather_Rain</th>\n",
              "      <td>0</td>\n",
              "    </tr>\n",
              "    <tr>\n",
              "      <th>Weather_Snow</th>\n",
              "      <td>0</td>\n",
              "    </tr>\n",
              "  </tbody>\n",
              "</table>\n",
              "</div><br><label><b>dtype:</b> int64</label>"
            ]
          },
          "metadata": {},
          "execution_count": 27
        }
      ],
      "source": [
        "X.isnull().sum()"
      ]
    },
    {
      "cell_type": "code",
      "execution_count": 28,
      "metadata": {
        "id": "Un_an24PlekG",
        "colab": {
          "base_uri": "https://localhost:8080/",
          "height": 226
        },
        "outputId": "2cdefb1d-5004-4f46-ad04-a0b4576bf31e"
      },
      "outputs": [
        {
          "output_type": "execute_result",
          "data": {
            "text/plain": [
              "   Trip_Distance_km  Time_of_Day  Passenger_Count  Traffic_Conditions  \\\n",
              "0          3.013081          0.0              3.0                 0.0   \n",
              "1          3.634159          2.0              1.0                 2.0   \n",
              "2          3.444576          2.0              4.0                 0.0   \n",
              "3          3.291010          2.0              3.0                 2.0   \n",
              "4          2.265921          1.0              2.0                 1.0   \n",
              "\n",
              "   Base_Fare  Per_Km_Rate  Per_Minute_Rate  Trip_Duration_Minutes  \\\n",
              "0       3.56         0.80             0.32                  53.82   \n",
              "1       2.70         1.21             0.15                  37.27   \n",
              "2       3.48         0.51             0.15                 116.81   \n",
              "3       2.93         0.63             0.32                  22.64   \n",
              "4       2.55         1.71             0.48                  89.33   \n",
              "\n",
              "   Day_of_Week_Weekend  Weather_Rain  Weather_Snow  \n",
              "0                  0.0           0.0           0.0  \n",
              "1                  1.0           0.0           0.0  \n",
              "2                  0.0           0.0           0.0  \n",
              "3                  0.0           0.0           0.0  \n",
              "4                  1.0           0.0           0.0  "
            ],
            "text/html": [
              "\n",
              "  <div id=\"df-e39042f6-e67b-4edf-a064-caeec5f974d8\" class=\"colab-df-container\">\n",
              "    <div>\n",
              "<style scoped>\n",
              "    .dataframe tbody tr th:only-of-type {\n",
              "        vertical-align: middle;\n",
              "    }\n",
              "\n",
              "    .dataframe tbody tr th {\n",
              "        vertical-align: top;\n",
              "    }\n",
              "\n",
              "    .dataframe thead th {\n",
              "        text-align: right;\n",
              "    }\n",
              "</style>\n",
              "<table border=\"1\" class=\"dataframe\">\n",
              "  <thead>\n",
              "    <tr style=\"text-align: right;\">\n",
              "      <th></th>\n",
              "      <th>Trip_Distance_km</th>\n",
              "      <th>Time_of_Day</th>\n",
              "      <th>Passenger_Count</th>\n",
              "      <th>Traffic_Conditions</th>\n",
              "      <th>Base_Fare</th>\n",
              "      <th>Per_Km_Rate</th>\n",
              "      <th>Per_Minute_Rate</th>\n",
              "      <th>Trip_Duration_Minutes</th>\n",
              "      <th>Day_of_Week_Weekend</th>\n",
              "      <th>Weather_Rain</th>\n",
              "      <th>Weather_Snow</th>\n",
              "    </tr>\n",
              "  </thead>\n",
              "  <tbody>\n",
              "    <tr>\n",
              "      <th>0</th>\n",
              "      <td>3.013081</td>\n",
              "      <td>0.0</td>\n",
              "      <td>3.0</td>\n",
              "      <td>0.0</td>\n",
              "      <td>3.56</td>\n",
              "      <td>0.80</td>\n",
              "      <td>0.32</td>\n",
              "      <td>53.82</td>\n",
              "      <td>0.0</td>\n",
              "      <td>0.0</td>\n",
              "      <td>0.0</td>\n",
              "    </tr>\n",
              "    <tr>\n",
              "      <th>1</th>\n",
              "      <td>3.634159</td>\n",
              "      <td>2.0</td>\n",
              "      <td>1.0</td>\n",
              "      <td>2.0</td>\n",
              "      <td>2.70</td>\n",
              "      <td>1.21</td>\n",
              "      <td>0.15</td>\n",
              "      <td>37.27</td>\n",
              "      <td>1.0</td>\n",
              "      <td>0.0</td>\n",
              "      <td>0.0</td>\n",
              "    </tr>\n",
              "    <tr>\n",
              "      <th>2</th>\n",
              "      <td>3.444576</td>\n",
              "      <td>2.0</td>\n",
              "      <td>4.0</td>\n",
              "      <td>0.0</td>\n",
              "      <td>3.48</td>\n",
              "      <td>0.51</td>\n",
              "      <td>0.15</td>\n",
              "      <td>116.81</td>\n",
              "      <td>0.0</td>\n",
              "      <td>0.0</td>\n",
              "      <td>0.0</td>\n",
              "    </tr>\n",
              "    <tr>\n",
              "      <th>3</th>\n",
              "      <td>3.291010</td>\n",
              "      <td>2.0</td>\n",
              "      <td>3.0</td>\n",
              "      <td>2.0</td>\n",
              "      <td>2.93</td>\n",
              "      <td>0.63</td>\n",
              "      <td>0.32</td>\n",
              "      <td>22.64</td>\n",
              "      <td>0.0</td>\n",
              "      <td>0.0</td>\n",
              "      <td>0.0</td>\n",
              "    </tr>\n",
              "    <tr>\n",
              "      <th>4</th>\n",
              "      <td>2.265921</td>\n",
              "      <td>1.0</td>\n",
              "      <td>2.0</td>\n",
              "      <td>1.0</td>\n",
              "      <td>2.55</td>\n",
              "      <td>1.71</td>\n",
              "      <td>0.48</td>\n",
              "      <td>89.33</td>\n",
              "      <td>1.0</td>\n",
              "      <td>0.0</td>\n",
              "      <td>0.0</td>\n",
              "    </tr>\n",
              "  </tbody>\n",
              "</table>\n",
              "</div>\n",
              "    <div class=\"colab-df-buttons\">\n",
              "\n",
              "  <div class=\"colab-df-container\">\n",
              "    <button class=\"colab-df-convert\" onclick=\"convertToInteractive('df-e39042f6-e67b-4edf-a064-caeec5f974d8')\"\n",
              "            title=\"Convert this dataframe to an interactive table.\"\n",
              "            style=\"display:none;\">\n",
              "\n",
              "  <svg xmlns=\"http://www.w3.org/2000/svg\" height=\"24px\" viewBox=\"0 -960 960 960\">\n",
              "    <path d=\"M120-120v-720h720v720H120Zm60-500h600v-160H180v160Zm220 220h160v-160H400v160Zm0 220h160v-160H400v160ZM180-400h160v-160H180v160Zm440 0h160v-160H620v160ZM180-180h160v-160H180v160Zm440 0h160v-160H620v160Z\"/>\n",
              "  </svg>\n",
              "    </button>\n",
              "\n",
              "  <style>\n",
              "    .colab-df-container {\n",
              "      display:flex;\n",
              "      gap: 12px;\n",
              "    }\n",
              "\n",
              "    .colab-df-convert {\n",
              "      background-color: #E8F0FE;\n",
              "      border: none;\n",
              "      border-radius: 50%;\n",
              "      cursor: pointer;\n",
              "      display: none;\n",
              "      fill: #1967D2;\n",
              "      height: 32px;\n",
              "      padding: 0 0 0 0;\n",
              "      width: 32px;\n",
              "    }\n",
              "\n",
              "    .colab-df-convert:hover {\n",
              "      background-color: #E2EBFA;\n",
              "      box-shadow: 0px 1px 2px rgba(60, 64, 67, 0.3), 0px 1px 3px 1px rgba(60, 64, 67, 0.15);\n",
              "      fill: #174EA6;\n",
              "    }\n",
              "\n",
              "    .colab-df-buttons div {\n",
              "      margin-bottom: 4px;\n",
              "    }\n",
              "\n",
              "    [theme=dark] .colab-df-convert {\n",
              "      background-color: #3B4455;\n",
              "      fill: #D2E3FC;\n",
              "    }\n",
              "\n",
              "    [theme=dark] .colab-df-convert:hover {\n",
              "      background-color: #434B5C;\n",
              "      box-shadow: 0px 1px 3px 1px rgba(0, 0, 0, 0.15);\n",
              "      filter: drop-shadow(0px 1px 2px rgba(0, 0, 0, 0.3));\n",
              "      fill: #FFFFFF;\n",
              "    }\n",
              "  </style>\n",
              "\n",
              "    <script>\n",
              "      const buttonEl =\n",
              "        document.querySelector('#df-e39042f6-e67b-4edf-a064-caeec5f974d8 button.colab-df-convert');\n",
              "      buttonEl.style.display =\n",
              "        google.colab.kernel.accessAllowed ? 'block' : 'none';\n",
              "\n",
              "      async function convertToInteractive(key) {\n",
              "        const element = document.querySelector('#df-e39042f6-e67b-4edf-a064-caeec5f974d8');\n",
              "        const dataTable =\n",
              "          await google.colab.kernel.invokeFunction('convertToInteractive',\n",
              "                                                    [key], {});\n",
              "        if (!dataTable) return;\n",
              "\n",
              "        const docLinkHtml = 'Like what you see? Visit the ' +\n",
              "          '<a target=\"_blank\" href=https://colab.research.google.com/notebooks/data_table.ipynb>data table notebook</a>'\n",
              "          + ' to learn more about interactive tables.';\n",
              "        element.innerHTML = '';\n",
              "        dataTable['output_type'] = 'display_data';\n",
              "        await google.colab.output.renderOutput(dataTable, element);\n",
              "        const docLink = document.createElement('div');\n",
              "        docLink.innerHTML = docLinkHtml;\n",
              "        element.appendChild(docLink);\n",
              "      }\n",
              "    </script>\n",
              "  </div>\n",
              "\n",
              "\n",
              "<div id=\"df-c532e5d3-1c5a-4d23-aa26-4c09b28f727a\">\n",
              "  <button class=\"colab-df-quickchart\" onclick=\"quickchart('df-c532e5d3-1c5a-4d23-aa26-4c09b28f727a')\"\n",
              "            title=\"Suggest charts\"\n",
              "            style=\"display:none;\">\n",
              "\n",
              "<svg xmlns=\"http://www.w3.org/2000/svg\" height=\"24px\"viewBox=\"0 0 24 24\"\n",
              "     width=\"24px\">\n",
              "    <g>\n",
              "        <path d=\"M19 3H5c-1.1 0-2 .9-2 2v14c0 1.1.9 2 2 2h14c1.1 0 2-.9 2-2V5c0-1.1-.9-2-2-2zM9 17H7v-7h2v7zm4 0h-2V7h2v10zm4 0h-2v-4h2v4z\"/>\n",
              "    </g>\n",
              "</svg>\n",
              "  </button>\n",
              "\n",
              "<style>\n",
              "  .colab-df-quickchart {\n",
              "      --bg-color: #E8F0FE;\n",
              "      --fill-color: #1967D2;\n",
              "      --hover-bg-color: #E2EBFA;\n",
              "      --hover-fill-color: #174EA6;\n",
              "      --disabled-fill-color: #AAA;\n",
              "      --disabled-bg-color: #DDD;\n",
              "  }\n",
              "\n",
              "  [theme=dark] .colab-df-quickchart {\n",
              "      --bg-color: #3B4455;\n",
              "      --fill-color: #D2E3FC;\n",
              "      --hover-bg-color: #434B5C;\n",
              "      --hover-fill-color: #FFFFFF;\n",
              "      --disabled-bg-color: #3B4455;\n",
              "      --disabled-fill-color: #666;\n",
              "  }\n",
              "\n",
              "  .colab-df-quickchart {\n",
              "    background-color: var(--bg-color);\n",
              "    border: none;\n",
              "    border-radius: 50%;\n",
              "    cursor: pointer;\n",
              "    display: none;\n",
              "    fill: var(--fill-color);\n",
              "    height: 32px;\n",
              "    padding: 0;\n",
              "    width: 32px;\n",
              "  }\n",
              "\n",
              "  .colab-df-quickchart:hover {\n",
              "    background-color: var(--hover-bg-color);\n",
              "    box-shadow: 0 1px 2px rgba(60, 64, 67, 0.3), 0 1px 3px 1px rgba(60, 64, 67, 0.15);\n",
              "    fill: var(--button-hover-fill-color);\n",
              "  }\n",
              "\n",
              "  .colab-df-quickchart-complete:disabled,\n",
              "  .colab-df-quickchart-complete:disabled:hover {\n",
              "    background-color: var(--disabled-bg-color);\n",
              "    fill: var(--disabled-fill-color);\n",
              "    box-shadow: none;\n",
              "  }\n",
              "\n",
              "  .colab-df-spinner {\n",
              "    border: 2px solid var(--fill-color);\n",
              "    border-color: transparent;\n",
              "    border-bottom-color: var(--fill-color);\n",
              "    animation:\n",
              "      spin 1s steps(1) infinite;\n",
              "  }\n",
              "\n",
              "  @keyframes spin {\n",
              "    0% {\n",
              "      border-color: transparent;\n",
              "      border-bottom-color: var(--fill-color);\n",
              "      border-left-color: var(--fill-color);\n",
              "    }\n",
              "    20% {\n",
              "      border-color: transparent;\n",
              "      border-left-color: var(--fill-color);\n",
              "      border-top-color: var(--fill-color);\n",
              "    }\n",
              "    30% {\n",
              "      border-color: transparent;\n",
              "      border-left-color: var(--fill-color);\n",
              "      border-top-color: var(--fill-color);\n",
              "      border-right-color: var(--fill-color);\n",
              "    }\n",
              "    40% {\n",
              "      border-color: transparent;\n",
              "      border-right-color: var(--fill-color);\n",
              "      border-top-color: var(--fill-color);\n",
              "    }\n",
              "    60% {\n",
              "      border-color: transparent;\n",
              "      border-right-color: var(--fill-color);\n",
              "    }\n",
              "    80% {\n",
              "      border-color: transparent;\n",
              "      border-right-color: var(--fill-color);\n",
              "      border-bottom-color: var(--fill-color);\n",
              "    }\n",
              "    90% {\n",
              "      border-color: transparent;\n",
              "      border-bottom-color: var(--fill-color);\n",
              "    }\n",
              "  }\n",
              "</style>\n",
              "\n",
              "  <script>\n",
              "    async function quickchart(key) {\n",
              "      const quickchartButtonEl =\n",
              "        document.querySelector('#' + key + ' button');\n",
              "      quickchartButtonEl.disabled = true;  // To prevent multiple clicks.\n",
              "      quickchartButtonEl.classList.add('colab-df-spinner');\n",
              "      try {\n",
              "        const charts = await google.colab.kernel.invokeFunction(\n",
              "            'suggestCharts', [key], {});\n",
              "      } catch (error) {\n",
              "        console.error('Error during call to suggestCharts:', error);\n",
              "      }\n",
              "      quickchartButtonEl.classList.remove('colab-df-spinner');\n",
              "      quickchartButtonEl.classList.add('colab-df-quickchart-complete');\n",
              "    }\n",
              "    (() => {\n",
              "      let quickchartButtonEl =\n",
              "        document.querySelector('#df-c532e5d3-1c5a-4d23-aa26-4c09b28f727a button');\n",
              "      quickchartButtonEl.style.display =\n",
              "        google.colab.kernel.accessAllowed ? 'block' : 'none';\n",
              "    })();\n",
              "  </script>\n",
              "</div>\n",
              "\n",
              "    </div>\n",
              "  </div>\n"
            ],
            "application/vnd.google.colaboratory.intrinsic+json": {
              "type": "dataframe",
              "variable_name": "X",
              "summary": "{\n  \"name\": \"X\",\n  \"rows\": 951,\n  \"fields\": [\n    {\n      \"column\": \"Trip_Distance_km\",\n      \"properties\": {\n        \"dtype\": \"number\",\n        \"std\": 0.7762309705906273,\n        \"min\": 0.8020015854720274,\n        \"max\": 4.990888586196557,\n        \"num_unique_values\": 827,\n        \"samples\": [\n          4.881353914880558,\n          3.674273301724574,\n          3.7125959807312525\n        ],\n        \"semantic_type\": \"\",\n        \"description\": \"\"\n      }\n    },\n    {\n      \"column\": \"Time_of_Day\",\n      \"properties\": {\n        \"dtype\": \"number\",\n        \"std\": 0.9206842712718142,\n        \"min\": 0.0,\n        \"max\": 3.0,\n        \"num_unique_values\": 4,\n        \"samples\": [\n          2.0,\n          3.0,\n          0.0\n        ],\n        \"semantic_type\": \"\",\n        \"description\": \"\"\n      }\n    },\n    {\n      \"column\": \"Passenger_Count\",\n      \"properties\": {\n        \"dtype\": \"number\",\n        \"std\": 1.077936959142477,\n        \"min\": 1.0,\n        \"max\": 4.0,\n        \"num_unique_values\": 4,\n        \"samples\": [\n          1.0,\n          2.0,\n          3.0\n        ],\n        \"semantic_type\": \"\",\n        \"description\": \"\"\n      }\n    },\n    {\n      \"column\": \"Traffic_Conditions\",\n      \"properties\": {\n        \"dtype\": \"number\",\n        \"std\": 0.74637649224236,\n        \"min\": 0.0,\n        \"max\": 2.0,\n        \"num_unique_values\": 3,\n        \"samples\": [\n          0.0,\n          2.0,\n          1.0\n        ],\n        \"semantic_type\": \"\",\n        \"description\": \"\"\n      }\n    },\n    {\n      \"column\": \"Base_Fare\",\n      \"properties\": {\n        \"dtype\": \"number\",\n        \"std\": 0.8464238435493024,\n        \"min\": 2.01,\n        \"max\": 5.0,\n        \"num_unique_values\": 286,\n        \"samples\": [\n          4.6,\n          2.37,\n          3.61\n        ],\n        \"semantic_type\": \"\",\n        \"description\": \"\"\n      }\n    },\n    {\n      \"column\": \"Per_Km_Rate\",\n      \"properties\": {\n        \"dtype\": \"number\",\n        \"std\": 0.4198881268533853,\n        \"min\": 0.5,\n        \"max\": 2.0,\n        \"num_unique_values\": 150,\n        \"samples\": [\n          1.65,\n          1.69,\n          0.5\n        ],\n        \"semantic_type\": \"\",\n        \"description\": \"\"\n      }\n    },\n    {\n      \"column\": \"Per_Minute_Rate\",\n      \"properties\": {\n        \"dtype\": \"number\",\n        \"std\": 0.11239203562447667,\n        \"min\": 0.1,\n        \"max\": 0.5,\n        \"num_unique_values\": 41,\n        \"samples\": [\n          0.26,\n          0.25,\n          0.34\n        ],\n        \"semantic_type\": \"\",\n        \"description\": \"\"\n      }\n    },\n    {\n      \"column\": \"Trip_Duration_Minutes\",\n      \"properties\": {\n        \"dtype\": \"number\",\n        \"std\": 31.529511153660437,\n        \"min\": 5.01,\n        \"max\": 119.84,\n        \"num_unique_values\": 873,\n        \"samples\": [\n          82.16,\n          76.53,\n          81.77\n        ],\n        \"semantic_type\": \"\",\n        \"description\": \"\"\n      }\n    },\n    {\n      \"column\": \"Day_of_Week_Weekend\",\n      \"properties\": {\n        \"dtype\": \"number\",\n        \"std\": 0.4574349967444659,\n        \"min\": 0.0,\n        \"max\": 1.0,\n        \"num_unique_values\": 2,\n        \"samples\": [\n          1.0,\n          0.0\n        ],\n        \"semantic_type\": \"\",\n        \"description\": \"\"\n      }\n    },\n    {\n      \"column\": \"Weather_Rain\",\n      \"properties\": {\n        \"dtype\": \"number\",\n        \"std\": 0.4191973070065716,\n        \"min\": 0.0,\n        \"max\": 1.0,\n        \"num_unique_values\": 2,\n        \"samples\": [\n          1.0,\n          0.0\n        ],\n        \"semantic_type\": \"\",\n        \"description\": \"\"\n      }\n    },\n    {\n      \"column\": \"Weather_Snow\",\n      \"properties\": {\n        \"dtype\": \"number\",\n        \"std\": 0.23355183747767097,\n        \"min\": 0.0,\n        \"max\": 1.0,\n        \"num_unique_values\": 2,\n        \"samples\": [\n          1.0,\n          0.0\n        ],\n        \"semantic_type\": \"\",\n        \"description\": \"\"\n      }\n    }\n  ]\n}"
            }
          },
          "metadata": {},
          "execution_count": 28
        }
      ],
      "source": [
        "X.head()"
      ]
    },
    {
      "cell_type": "markdown",
      "source": [
        "## **3. Data Normalization**"
      ],
      "metadata": {
        "id": "7h0TB3BKNNMA"
      }
    },
    {
      "cell_type": "code",
      "source": [
        "# scaler = StandardScaler()\n",
        "# X[num_cols] = scaler.fit_transform(X[num_cols])"
      ],
      "metadata": {
        "id": "r0-sjIsMNbTh"
      },
      "execution_count": 29,
      "outputs": []
    },
    {
      "cell_type": "code",
      "source": [
        "# Define features and target variable\n",
        "X_single = X[['Trip_Distance_km']]  # Selecting only one feature for simple linear regression\n",
        "\n",
        "\n",
        "# Split data into training and testing sets\n",
        "X_train, X_test, y_train, y_test = train_test_split(X_single, Y, test_size=0.2, random_state=42)\n",
        "\n",
        "# Create and train the Linear Regression model\n",
        "lin_reg = LinearRegression()\n",
        "lin_reg.fit(X_train, y_train)\n",
        "\n",
        "# Predictions\n",
        "y_pred = lin_reg.predict(X_test)\n",
        "\n",
        "# Calculate MSE and RMSE\n",
        "mse = mean_squared_error(y_test, y_pred)\n",
        "rmse = np.sqrt(mse)\n",
        "\n",
        "# Print results\n",
        "print(f\"Mean Squared Error (MSE): {mse:.4f}\")\n",
        "print(f\"Root Mean Squared Error (RMSE): {rmse:.4f}\")\n"
      ],
      "metadata": {
        "colab": {
          "base_uri": "https://localhost:8080/"
        },
        "id": "uFdyzt49RZy3",
        "outputId": "7fb7e3be-3fd2-4c58-f26d-89712e3e95b6"
      },
      "execution_count": 30,
      "outputs": [
        {
          "output_type": "stream",
          "name": "stdout",
          "text": [
            "Mean Squared Error (MSE): 0.1568\n",
            "Root Mean Squared Error (RMSE): 0.3959\n"
          ]
        }
      ]
    },
    {
      "cell_type": "code",
      "source": [
        "#Results\n",
        "print(\"Single Variable Model:\")\n",
        "print(f\"Coefficient: {lin_reg.coef_[0]:.4f}\")\n",
        "print(f\"Intercept: {lin_reg.intercept_:.4f}\")\n",
        "print(f\"Mean Squared Error (MSE): {mse:.4f}\")\n",
        "print(f\"Root Mean Squared Error (RMSE): {rmse:.4f}\")"
      ],
      "metadata": {
        "colab": {
          "base_uri": "https://localhost:8080/"
        },
        "id": "AGootyn0Reh1",
        "outputId": "068c65ab-5005-4c52-b10a-e04c9b447447"
      },
      "execution_count": 33,
      "outputs": [
        {
          "output_type": "stream",
          "name": "stdout",
          "text": [
            "Single Variable Model:\n",
            "Coefficient: 0.5214\n",
            "Intercept: 2.2805\n",
            "Mean Squared Error (MSE): 0.1568\n",
            "Root Mean Squared Error (RMSE): 0.3959\n"
          ]
        }
      ]
    },
    {
      "cell_type": "code",
      "source": [
        "# Scatter plot of actual data\n",
        "plt.scatter(X_single, Y, color='blue', label='Actual Data')\n",
        "\n",
        "# Regression line\n",
        "plt.plot(X_single, lin_reg.predict(X_single), color='red', label='Regression Line')\n",
        "\n",
        "# Drawing error lines (residuals)\n",
        "for i in range(len(X_single)):\n",
        "    plt.plot([X_single.iloc[i, 0], X_single.iloc[i, 0]],\n",
        "             [Y.iloc[i], lin_reg.predict(X_single)[i]],\n",
        "             color='green', linestyle='dotted')\n",
        "\n",
        "# Labels and title\n",
        "plt.xlabel('Trip_Distance_km')\n",
        "plt.ylabel('Trip_Price')\n",
        "plt.title('Regression Line and Errors')\n",
        "plt.legend()\n",
        "plt.show()\n"
      ],
      "metadata": {
        "colab": {
          "base_uri": "https://localhost:8080/",
          "height": 472
        },
        "id": "eYAb9iylXN_9",
        "outputId": "c7362cde-84e3-4bf2-f43b-0f4cbe5d0421"
      },
      "execution_count": 34,
      "outputs": [
        {
          "output_type": "display_data",
          "data": {
            "text/plain": [
              "<Figure size 640x480 with 1 Axes>"
            ],
            "image/png": "[encoded data removed]"
          },
          "metadata": {}
        }
      ]
    },
    {
      "cell_type": "code",
      "source": [
        "from sklearn.metrics import r2_score\n",
        "r2 = r2_score(y_test, y_pred)\n",
        "print(f'R² Score: {r2:.4f}')"
      ],
      "metadata": {
        "colab": {
          "base_uri": "https://localhost:8080/"
        },
        "id": "UqPzK2F8Xnak",
        "outputId": "0c2e617d-2db6-4777-ff1c-219a7925e149"
      },
      "execution_count": 36,
      "outputs": [
        {
          "output_type": "stream",
          "name": "stdout",
          "text": [
            "R² Score: 0.4818\n"
          ]
        }
      ]
    },
    {
      "cell_type": "markdown",
      "source": [
        "A higher R² (closer to 1) means a better fit."
      ],
      "metadata": {
        "id": "a-Tklyood1sJ"
      }
    }
  ],
  "metadata": {
    "colab": {
      "provenance": []
    },
    "kernelspec": {
      "display_name": "Python 3",
      "name": "python3"
    },
    "language_info": {
      "name": "python"
    }
  },
  "nbformat": 4,
  "nbformat_minor": 0
}